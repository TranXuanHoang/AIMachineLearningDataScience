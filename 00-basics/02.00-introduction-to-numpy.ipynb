{
 "cells": [
  {
   "cell_type": "markdown",
   "id": "2ee36f54",
   "metadata": {},
   "source": [
    "# Introduction to NumPy\n",
    "\n",
    "[NumPy](https://numpy.org/) **(Numerical Python)** is a very popular [Python](https://www.python.org/) library providing variety ways to do scientific computation with numerical `n-dimentional` arrays."
   ]
  },
  {
   "cell_type": "code",
   "execution_count": 1,
   "id": "27b4c73c",
   "metadata": {},
   "outputs": [],
   "source": [
    "# Import NumPy\n",
    "import numpy as np"
   ]
  },
  {
   "cell_type": "markdown",
   "id": "1d78f9b5",
   "metadata": {},
   "source": [
    "## Creating NumPy arrays"
   ]
  },
  {
   "cell_type": "code",
   "execution_count": 2,
   "id": "6597b548",
   "metadata": {},
   "outputs": [
    {
     "data": {
      "text/plain": [
       "array([1, 2, 3, 4, 5])"
      ]
     },
     "execution_count": 2,
     "metadata": {},
     "output_type": "execute_result"
    }
   ],
   "source": [
    "# Create a one-dimensional NumPy array using a Python list\n",
    "a1 = np.array([1, 2, 3, 4, 5])\n",
    "a1"
   ]
  },
  {
   "cell_type": "code",
   "execution_count": 3,
   "id": "023642d4",
   "metadata": {},
   "outputs": [
    {
     "data": {
      "text/plain": [
       "numpy.ndarray"
      ]
     },
     "execution_count": 3,
     "metadata": {},
     "output_type": "execute_result"
    }
   ],
   "source": [
    "# Check the type of the above NumPy array\n",
    "type(a1)"
   ]
  },
  {
   "cell_type": "code",
   "execution_count": 4,
   "id": "20ca1d15",
   "metadata": {},
   "outputs": [
    {
     "data": {
      "text/plain": [
       "dtype('int32')"
      ]
     },
     "execution_count": 4,
     "metadata": {},
     "output_type": "execute_result"
    }
   ],
   "source": [
    "# Check the data type of elements inside the above NumPy array\n",
    "a1.dtype"
   ]
  },
  {
   "cell_type": "code",
   "execution_count": 5,
   "id": "2881c01f",
   "metadata": {},
   "outputs": [
    {
     "data": {
      "text/plain": [
       "(5,)"
      ]
     },
     "execution_count": 5,
     "metadata": {},
     "output_type": "execute_result"
    }
   ],
   "source": [
    "# Check the shape of the above NumPy array\n",
    "a1.shape"
   ]
  },
  {
   "cell_type": "code",
   "execution_count": 6,
   "id": "42c87b70",
   "metadata": {},
   "outputs": [
    {
     "data": {
      "text/plain": [
       "array([[1.2, 2.3, 3.4, 4.5],\n",
       "       [5.6, 6.7, 7.8, 8.9]])"
      ]
     },
     "execution_count": 6,
     "metadata": {},
     "output_type": "execute_result"
    }
   ],
   "source": [
    "# Create a two-dimensional NumPy array\n",
    "a2 = np.array([[1.2, 2.3, 3.4, 4.5], [5.6, 6.7, 7.8, 8.9]])\n",
    "a2"
   ]
  },
  {
   "cell_type": "code",
   "execution_count": 7,
   "id": "a12c2e34",
   "metadata": {},
   "outputs": [
    {
     "data": {
      "text/plain": [
       "numpy.ndarray"
      ]
     },
     "execution_count": 7,
     "metadata": {},
     "output_type": "execute_result"
    }
   ],
   "source": [
    "# Check the type of the above two-dimensional NumPy array\n",
    "type(a2)"
   ]
  },
  {
   "cell_type": "code",
   "execution_count": 8,
   "id": "60e9da47",
   "metadata": {},
   "outputs": [
    {
     "data": {
      "text/plain": [
       "dtype('float64')"
      ]
     },
     "execution_count": 8,
     "metadata": {},
     "output_type": "execute_result"
    }
   ],
   "source": [
    "# Check the data type of elements inside the above two-dimensional NumPy array\n",
    "a2.dtype"
   ]
  },
  {
   "cell_type": "code",
   "execution_count": 9,
   "id": "ca768b8a",
   "metadata": {},
   "outputs": [
    {
     "data": {
      "text/plain": [
       "(2, 4)"
      ]
     },
     "execution_count": 9,
     "metadata": {},
     "output_type": "execute_result"
    }
   ],
   "source": [
    "# Check the shape of the above two-dimensional NumPy array\n",
    "a2.shape"
   ]
  },
  {
   "cell_type": "code",
   "execution_count": 10,
   "id": "f920fc7b",
   "metadata": {},
   "outputs": [
    {
     "data": {
      "text/plain": [
       "array([[[ 1,  2,  3,  4],\n",
       "        [ 5,  6,  7,  8]],\n",
       "\n",
       "       [[ 9, 10, 11, 12],\n",
       "        [13, 14, 15, 16]],\n",
       "\n",
       "       [[17, 18, 19, 20],\n",
       "        [21, 22, 23, 24]]])"
      ]
     },
     "execution_count": 10,
     "metadata": {},
     "output_type": "execute_result"
    }
   ],
   "source": [
    "# Create a three-dimensional NumPy array\n",
    "a3 = np.array([\n",
    "    [[1, 2, 3, 4], [5, 6, 7, 8]],\n",
    "    [[9, 10, 11, 12], [13, 14, 15, 16]],\n",
    "    [[17, 18, 19, 20], [21, 22, 23, 24]],\n",
    "])\n",
    "a3"
   ]
  },
  {
   "cell_type": "code",
   "execution_count": 11,
   "id": "4d3520a6",
   "metadata": {},
   "outputs": [
    {
     "data": {
      "text/plain": [
       "numpy.ndarray"
      ]
     },
     "execution_count": 11,
     "metadata": {},
     "output_type": "execute_result"
    }
   ],
   "source": [
    "# Check the type of the above three-dimensional NumPy array\n",
    "type(a3)"
   ]
  },
  {
   "cell_type": "code",
   "execution_count": 12,
   "id": "ccd14ef2",
   "metadata": {},
   "outputs": [
    {
     "data": {
      "text/plain": [
       "dtype('int32')"
      ]
     },
     "execution_count": 12,
     "metadata": {},
     "output_type": "execute_result"
    }
   ],
   "source": [
    "# Check the data type of elements inside the above three-dimensional NumPy array\n",
    "a3.dtype"
   ]
  },
  {
   "cell_type": "code",
   "execution_count": 13,
   "id": "23c7d00c",
   "metadata": {},
   "outputs": [
    {
     "data": {
      "text/plain": [
       "(3, 2, 4)"
      ]
     },
     "execution_count": 13,
     "metadata": {},
     "output_type": "execute_result"
    }
   ],
   "source": [
    "# Check the shape of the above three-dimensional NumPy array\n",
    "a3.shape"
   ]
  },
  {
   "cell_type": "markdown",
   "id": "0a5c2669",
   "metadata": {},
   "source": [
    "## Note: Vectors, Matrices, Tensors\n",
    "* A `vector` = one-dimensional array\n",
    "* A `matrix` = two-dimensional array\n",
    "* A `tensor` = 3-D or higher dimensional array"
   ]
  },
  {
   "cell_type": "code",
   "execution_count": 14,
   "id": "f6226213",
   "metadata": {},
   "outputs": [
    {
     "data": {
      "text/plain": [
       "array([0., 0., 0.])"
      ]
     },
     "execution_count": 14,
     "metadata": {},
     "output_type": "execute_result"
    }
   ],
   "source": [
    "# Create an array filled with 0's\n",
    "zerosArray = np.zeros(3)\n",
    "zerosArray"
   ]
  },
  {
   "cell_type": "code",
   "execution_count": 15,
   "id": "4b2434f9",
   "metadata": {},
   "outputs": [
    {
     "data": {
      "text/plain": [
       "array([1., 1., 1., 1.])"
      ]
     },
     "execution_count": 15,
     "metadata": {},
     "output_type": "execute_result"
    }
   ],
   "source": [
    "# Create an array filled with 1's\n",
    "onesArray = np.ones(4)\n",
    "onesArray"
   ]
  },
  {
   "cell_type": "code",
   "execution_count": 16,
   "id": "3969ba2d",
   "metadata": {},
   "outputs": [
    {
     "data": {
      "text/plain": [
       "array([0, 1, 2, 3])"
      ]
     },
     "execution_count": 16,
     "metadata": {},
     "output_type": "execute_result"
    }
   ],
   "source": [
    "# Create an array with a range of elements\n",
    "rangeArray = np.arange(4)\n",
    "rangeArray"
   ]
  },
  {
   "cell_type": "code",
   "execution_count": 17,
   "id": "ee955bc0",
   "metadata": {},
   "outputs": [
    {
     "data": {
      "text/plain": [
       "array([3, 5, 7, 9])"
      ]
     },
     "execution_count": 17,
     "metadata": {},
     "output_type": "execute_result"
    }
   ],
   "source": [
    "# Create an array with oddly-spaced intervals\n",
    "oddRangeArray = np.arange(3, 10, 2)\n",
    "oddRangeArray"
   ]
  },
  {
   "cell_type": "code",
   "execution_count": 18,
   "id": "adf32d52",
   "metadata": {},
   "outputs": [
    {
     "data": {
      "text/plain": [
       "array([ 2.,  8., 14., 20.])"
      ]
     },
     "execution_count": 18,
     "metadata": {},
     "output_type": "execute_result"
    }
   ],
   "source": [
    "# Create an array with values that are spaced linearly in a specified interval\n",
    "linearArray = np.linspace(2, 20, num=4)\n",
    "linearArray"
   ]
  },
  {
   "cell_type": "markdown",
   "id": "499c294c",
   "metadata": {},
   "source": [
    "## Specifying data type\n",
    "\n",
    "While the default data type is floating point (`np.float64`), you can explicitly specify which data type you want using the `dtype` keyword."
   ]
  },
  {
   "cell_type": "code",
   "execution_count": 19,
   "id": "0ca468e2",
   "metadata": {},
   "outputs": [
    {
     "name": "stdout",
     "output_type": "stream",
     "text": [
      "[1 2 3 4 5 6 7 8]\n",
      "int32\n"
     ]
    }
   ],
   "source": [
    "integerArray = np.arange(1, 9, dtype=int)\n",
    "print(integerArray)\n",
    "print(integerArray.dtype)"
   ]
  },
  {
   "cell_type": "markdown",
   "id": "21f968d3",
   "metadata": {},
   "source": [
    "## Adding, removing and sorting"
   ]
  },
  {
   "cell_type": "markdown",
   "id": "245e6542",
   "metadata": {},
   "source": [
    "### Adding elements using [np.concatenate](https://numpy.org/doc/stable/reference/generated/numpy.concatenate.html)"
   ]
  },
  {
   "cell_type": "code",
   "execution_count": 20,
   "id": "6113215f",
   "metadata": {},
   "outputs": [
    {
     "name": "stdout",
     "output_type": "stream",
     "text": [
      "[3 2 5]\n",
      "[1 6 9]\n"
     ]
    },
    {
     "data": {
      "text/plain": [
       "array([3, 2, 5, 1, 6, 9])"
      ]
     },
     "execution_count": 20,
     "metadata": {},
     "output_type": "execute_result"
    }
   ],
   "source": [
    "# Use np.concatenate() to combine two arrays into a single array\n",
    "arr1 = np.array([3, 2, 5])\n",
    "arr2 = np.array([1, 6, 9])\n",
    "arr3 = np.concatenate((arr1, arr2))\n",
    "print(arr1)\n",
    "print(arr2)\n",
    "arr3"
   ]
  },
  {
   "cell_type": "code",
   "execution_count": 21,
   "id": "94467ee6",
   "metadata": {},
   "outputs": [
    {
     "data": {
      "text/plain": [
       "array([[1, 2, 3],\n",
       "       [4, 5, 6],\n",
       "       [7, 8, 9],\n",
       "       [0, 0, 0]])"
      ]
     },
     "execution_count": 21,
     "metadata": {},
     "output_type": "execute_result"
    }
   ],
   "source": [
    "# Concatenate two-dimensional arrays\n",
    "arr4 = np.array([[1, 2, 3], [4, 5, 6]])\n",
    "arr5 = np.array([[7, 8, 9], [0, 0, 0]])\n",
    "arr6 = np.concatenate((arr4, arr5)) # same as np.concatenate((arr4, arr5), axis=0)\n",
    "arr6"
   ]
  },
  {
   "cell_type": "code",
   "execution_count": 22,
   "id": "e2bead73",
   "metadata": {},
   "outputs": [
    {
     "data": {
      "text/plain": [
       "array([[1, 2, 3, 7, 8, 9],\n",
       "       [4, 5, 6, 0, 0, 0]])"
      ]
     },
     "execution_count": 22,
     "metadata": {},
     "output_type": "execute_result"
    }
   ],
   "source": [
    "arr7 = np.concatenate((arr4, arr5), axis=1)\n",
    "arr7"
   ]
  },
  {
   "cell_type": "markdown",
   "id": "cad504c3",
   "metadata": {},
   "source": [
    "### Removing elements using [np.delete](https://numpy.org/doc/stable/reference/generated/numpy.delete.html)"
   ]
  },
  {
   "cell_type": "code",
   "execution_count": 23,
   "id": "1652d21d",
   "metadata": {},
   "outputs": [
    {
     "name": "stdout",
     "output_type": "stream",
     "text": [
      "[0 1 2 3 4 5]\n"
     ]
    },
    {
     "data": {
      "text/plain": [
       "array([0, 1, 2, 4, 5])"
      ]
     },
     "execution_count": 23,
     "metadata": {},
     "output_type": "execute_result"
    }
   ],
   "source": [
    "# Define a one-dimensional array\n",
    "arr8 = np.array([0, 1, 2, 3, 4, 5])\n",
    "\n",
    "# Delete element at index 3 (index ranges from 0)\n",
    "arr8AfterDeleted = np.delete(arr8, 3)\n",
    "\n",
    "print(arr8)\n",
    "arr8AfterDeleted"
   ]
  },
  {
   "cell_type": "code",
   "execution_count": 24,
   "id": "62e44628",
   "metadata": {},
   "outputs": [
    {
     "name": "stdout",
     "output_type": "stream",
     "text": [
      "[[ 1  2  3  4]\n",
      " [ 5  6  7  8]\n",
      " [ 9 10 11 12]]\n"
     ]
    },
    {
     "data": {
      "text/plain": [
       "array([[ 1,  2,  3,  4],\n",
       "       [ 9, 10, 11, 12]])"
      ]
     },
     "execution_count": 24,
     "metadata": {},
     "output_type": "execute_result"
    }
   ],
   "source": [
    "# Define a two dimensional array\n",
    "arr9 = np.array([\n",
    "    [1, 2, 3, 4],\n",
    "    [5, 6, 7, 8],\n",
    "    [9, 10, 11, 12]\n",
    "])\n",
    "\n",
    "# Delete the second row [5, 6, 7, 8]\n",
    "# 1 - means delete element at index 1 (index starting from 0)\n",
    "# axis=0 - means use 0th axis (first dimension) along which to delete the subarray\n",
    "arr9AfterDeletingRow = np.delete(arr9, 1, axis=0)\n",
    "\n",
    "print(arr9)\n",
    "arr9AfterDeletingRow"
   ]
  },
  {
   "cell_type": "code",
   "execution_count": 25,
   "id": "ba470331",
   "metadata": {},
   "outputs": [
    {
     "name": "stdout",
     "output_type": "stream",
     "text": [
      "[[ 1  2  3  4]\n",
      " [ 5  6  7  8]\n",
      " [ 9 10 11 12]]\n"
     ]
    },
    {
     "data": {
      "text/plain": [
       "array([[ 1,  2,  3],\n",
       "       [ 5,  6,  7],\n",
       "       [ 9, 10, 11]])"
      ]
     },
     "execution_count": 25,
     "metadata": {},
     "output_type": "execute_result"
    }
   ],
   "source": [
    "# Delete the fourth column [4, 8, 12]\n",
    "# 3 - means delete element at index 4 (index starting from 0)\n",
    "# axis=1 - means use 1th axis (second dimension) along which to delete the subarray\n",
    "arr9AfterDeletingColumn = np.delete(arr9, 3, axis=1)\n",
    "\n",
    "print(arr9)\n",
    "arr9AfterDeletingColumn"
   ]
  },
  {
   "cell_type": "code",
   "execution_count": 26,
   "id": "7a9b1868",
   "metadata": {},
   "outputs": [
    {
     "name": "stdout",
     "output_type": "stream",
     "text": [
      "[0 1 2 3 4 5 6 7 8 9]\n",
      "[ True  True  True  True  True  True  True  True  True  True]\n",
      "[ True False  True False  True  True  True  True False  True]\n"
     ]
    },
    {
     "data": {
      "text/plain": [
       "array([0, 2, 4, 5, 6, 7, 9])"
      ]
     },
     "execution_count": 26,
     "metadata": {},
     "output_type": "execute_result"
    }
   ],
   "source": [
    "# Use mask to delete elements\n",
    "arr10 = np.arange(0, 10)\n",
    "print(arr10)\n",
    "\n",
    "# Define a mask\n",
    "mask = np.ones(len(arr10), dtype=bool)\n",
    "print(mask)\n",
    "\n",
    "# Specify that elements at indices 1, 3, 8 should be deleted\n",
    "mask[[1, 3, 8]] = False\n",
    "print(mask)\n",
    "\n",
    "# Delete operation with mask\n",
    "arr10AfterDeleted = arr10[mask, ...]\n",
    "arr10AfterDeleted"
   ]
  },
  {
   "cell_type": "markdown",
   "id": "27a7983d",
   "metadata": {},
   "source": [
    "### Sorting elements using [np.sort](https://numpy.org/doc/stable/reference/generated/numpy.sort.html)"
   ]
  },
  {
   "cell_type": "code",
   "execution_count": 27,
   "id": "83e06888",
   "metadata": {},
   "outputs": [
    {
     "data": {
      "text/plain": [
       "array([0, 1, 2, 3, 4, 5, 6, 7, 9])"
      ]
     },
     "execution_count": 27,
     "metadata": {},
     "output_type": "execute_result"
    }
   ],
   "source": [
    "# Sort 1-D array\n",
    "arr11 = np.array([3, 2, 9, 6, 7, 1, 0, 5, 4])\n",
    "np.sort(arr11)"
   ]
  },
  {
   "cell_type": "code",
   "execution_count": 28,
   "id": "3dbe2074",
   "metadata": {},
   "outputs": [],
   "source": [
    "# Sort 2-D array\n",
    "arr12 = np.array([\n",
    "    [3, 2, 8, 5, 7],\n",
    "    [0, 9, 1, 4, 6]\n",
    "])"
   ]
  },
  {
   "cell_type": "code",
   "execution_count": 29,
   "id": "db034170",
   "metadata": {},
   "outputs": [
    {
     "data": {
      "text/plain": [
       "array([[2, 3, 5, 7, 8],\n",
       "       [0, 1, 4, 6, 9]])"
      ]
     },
     "execution_count": 29,
     "metadata": {},
     "output_type": "execute_result"
    }
   ],
   "source": [
    "# Sort along the last axis\n",
    "np.sort(arr12)"
   ]
  },
  {
   "cell_type": "code",
   "execution_count": 30,
   "id": "994670a7",
   "metadata": {},
   "outputs": [
    {
     "data": {
      "text/plain": [
       "array([[0, 2, 1, 4, 6],\n",
       "       [3, 9, 8, 5, 7]])"
      ]
     },
     "execution_count": 30,
     "metadata": {},
     "output_type": "execute_result"
    }
   ],
   "source": [
    "# Sort along the first axis\n",
    "np.sort(arr12, axis=0)"
   ]
  },
  {
   "cell_type": "code",
   "execution_count": 31,
   "id": "f7c93337",
   "metadata": {},
   "outputs": [
    {
     "data": {
      "text/plain": [
       "array([0, 1, 2, 3, 4, 5, 6, 7, 8, 9])"
      ]
     },
     "execution_count": 31,
     "metadata": {},
     "output_type": "execute_result"
    }
   ],
   "source": [
    "# Sort the flattened array\n",
    "np.sort(arr12, axis=None)"
   ]
  },
  {
   "cell_type": "code",
   "execution_count": 32,
   "id": "a0e4e7b2",
   "metadata": {},
   "outputs": [
    {
     "data": {
      "text/plain": [
       "array([(b'Macbook', 2400.34, 1), (b'MS Surface', 3000.45, 2),\n",
       "       (b'Chromebook', 1900.67, 3)],\n",
       "      dtype=[('name', 'S10'), ('price', '<f8'), ('quantity', '<i4')])"
      ]
     },
     "execution_count": 32,
     "metadata": {},
     "output_type": "execute_result"
    }
   ],
   "source": [
    "# Use the order keyword to specify a field to use when sorting a structured array\n",
    "dtype = [('name', 'S10'), ('price', float), ('quantity', int)]\n",
    "values = [\n",
    "    ('Macbook', 2400.34, 1),\n",
    "    ('MS Surface', 3000.45, 2),\n",
    "    ('Chromebooks', 1900.67, 3)\n",
    "]\n",
    "arr13 = np.array(values, dtype) # create a structured array\n",
    "arr13"
   ]
  },
  {
   "cell_type": "code",
   "execution_count": 33,
   "id": "064d1930",
   "metadata": {},
   "outputs": [
    {
     "data": {
      "text/plain": [
       "array([(b'Chromebook', 1900.67, 3), (b'MS Surface', 3000.45, 2),\n",
       "       (b'Macbook', 2400.34, 1)],\n",
       "      dtype=[('name', 'S10'), ('price', '<f8'), ('quantity', '<i4')])"
      ]
     },
     "execution_count": 33,
     "metadata": {},
     "output_type": "execute_result"
    }
   ],
   "source": [
    "# Sort by 'name'\n",
    "np.sort(arr13, order='name')"
   ]
  },
  {
   "cell_type": "code",
   "execution_count": 34,
   "id": "2f0e4040",
   "metadata": {},
   "outputs": [
    {
     "data": {
      "text/plain": [
       "array([(b'Chromebook', 1900.67, 3), (b'Macbook', 2400.34, 1),\n",
       "       (b'MS Surface', 3000.45, 2)],\n",
       "      dtype=[('name', 'S10'), ('price', '<f8'), ('quantity', '<i4')])"
      ]
     },
     "execution_count": 34,
     "metadata": {},
     "output_type": "execute_result"
    }
   ],
   "source": [
    "# Sort by 'price', then 'quantity' if 'price's are equal\n",
    "np.sort(arr13, order=['price', 'quantity'])"
   ]
  },
  {
   "cell_type": "markdown",
   "id": "cb4d1ac5",
   "metadata": {},
   "source": [
    "## Slicing, stacking and splitting arrays"
   ]
  },
  {
   "cell_type": "code",
   "execution_count": 35,
   "id": "5444abe5",
   "metadata": {},
   "outputs": [
    {
     "name": "stdout",
     "output_type": "stream",
     "text": [
      "[0 1 2 3 4 5]\n"
     ]
    },
    {
     "data": {
      "text/plain": [
       "array([1, 2, 3])"
      ]
     },
     "execution_count": 35,
     "metadata": {},
     "output_type": "execute_result"
    }
   ],
   "source": [
    "# Slice an existing array to get a new sub-array\n",
    "arr14 = np.array([0, 1, 2, 3, 4, 5])\n",
    "arr14Sub = arr14[1: 4]\n",
    "print(arr14)\n",
    "arr14Sub"
   ]
  },
  {
   "cell_type": "code",
   "execution_count": 36,
   "id": "adb109c7",
   "metadata": {},
   "outputs": [
    {
     "data": {
      "text/plain": [
       "array([[0, 1],\n",
       "       [2, 3],\n",
       "       [4, 5],\n",
       "       [6, 7]])"
      ]
     },
     "execution_count": 36,
     "metadata": {},
     "output_type": "execute_result"
    }
   ],
   "source": [
    "# Vertically stack two arrays\n",
    "arr15_1 = np.array([\n",
    "    [0, 1],\n",
    "    [2, 3]\n",
    "])\n",
    "\n",
    "arr15_2 = np.array([\n",
    "    [4, 5],\n",
    "    [6, 7]\n",
    "])\n",
    "\n",
    "arr15_vertically_stacked = np.vstack((arr15_1, arr15_2))\n",
    "arr15_vertically_stacked"
   ]
  },
  {
   "cell_type": "code",
   "execution_count": 37,
   "id": "8c0ad3f9",
   "metadata": {},
   "outputs": [
    {
     "data": {
      "text/plain": [
       "array([[0, 1, 4, 5],\n",
       "       [2, 3, 6, 7]])"
      ]
     },
     "execution_count": 37,
     "metadata": {},
     "output_type": "execute_result"
    }
   ],
   "source": [
    "# Horizontally stack two arrays\n",
    "arr15_horizontally_stacked = np.hstack((arr15_1, arr15_2))\n",
    "arr15_horizontally_stacked"
   ]
  },
  {
   "cell_type": "code",
   "execution_count": 38,
   "id": "86b4a90c",
   "metadata": {},
   "outputs": [
    {
     "name": "stdout",
     "output_type": "stream",
     "text": [
      "[[ 1  2  3  4  5  6  7  8  9]\n",
      " [10 11 12 13 14 15 16 17 18]]\n"
     ]
    },
    {
     "data": {
      "text/plain": [
       "[array([[ 1,  2,  3],\n",
       "        [10, 11, 12]]),\n",
       " array([[ 4,  5,  6],\n",
       "        [13, 14, 15]]),\n",
       " array([[ 7,  8,  9],\n",
       "        [16, 17, 18]])]"
      ]
     },
     "execution_count": 38,
     "metadata": {},
     "output_type": "execute_result"
    }
   ],
   "source": [
    "# Split a big array into smaller ones\n",
    "arr16 = np.arange(1, 19).reshape(2, 9)\n",
    "print(arr16)\n",
    "\n",
    "# Split the array into three equally shaped arrays\n",
    "arr16_3equally_shaped = np.hsplit(arr16, 3)\n",
    "arr16_3equally_shaped"
   ]
  },
  {
   "cell_type": "code",
   "execution_count": 39,
   "id": "3ae69dcf",
   "metadata": {},
   "outputs": [
    {
     "data": {
      "text/plain": [
       "[array([[ 1,  2,  3],\n",
       "        [10, 11, 12]]),\n",
       " array([[ 4,  5,  6,  7,  8,  9],\n",
       "        [13, 14, 15, 16, 17, 18]])]"
      ]
     },
     "execution_count": 39,
     "metadata": {},
     "output_type": "execute_result"
    }
   ],
   "source": [
    "# Split the array after the third column\n",
    "arr16_3rd = np.hsplit(arr16, [3])\n",
    "arr16_3rd"
   ]
  },
  {
   "cell_type": "code",
   "execution_count": 40,
   "id": "743304ce",
   "metadata": {},
   "outputs": [
    {
     "data": {
      "text/plain": [
       "[array([[ 1,  2,  3],\n",
       "        [10, 11, 12]]),\n",
       " array([[ 4,  5,  6,  7],\n",
       "        [13, 14, 15, 16]]),\n",
       " array([[ 8,  9],\n",
       "        [17, 18]])]"
      ]
     },
     "execution_count": 40,
     "metadata": {},
     "output_type": "execute_result"
    }
   ],
   "source": [
    "# Split the array after the 3rd and go up to 7th column (4th, 5th, 6th, 7th)\n",
    "arr16_3rd_6th = np.hsplit(arr16, [3, 7])\n",
    "arr16_3rd_6th"
   ]
  },
  {
   "cell_type": "markdown",
   "id": "fec4059c",
   "metadata": {},
   "source": [
    "## Copying arrays"
   ]
  },
  {
   "cell_type": "markdown",
   "id": "116c0da5",
   "metadata": {},
   "source": [
    "### Deep copy with [np.copy](https://numpy.org/doc/stable/reference/generated/numpy.copy.html)"
   ]
  },
  {
   "cell_type": "code",
   "execution_count": 41,
   "id": "038cf5b1",
   "metadata": {},
   "outputs": [
    {
     "name": "stdout",
     "output_type": "stream",
     "text": [
      "[1 2 3]\n",
      "[1 2 3]\n",
      "\n",
      "\n",
      "[1 2 3]\n",
      "[100   2   3]\n"
     ]
    }
   ],
   "source": [
    "# Using the copy method will make a complete copy of the array and its data (a deep copy)\n",
    "arr17 = np.array([1, 2, 3])\n",
    "arr17_deepCopy = arr17.copy()\n",
    "\n",
    "# After deep copy\n",
    "print(arr17)\n",
    "print(arr17_deepCopy)\n",
    "\n",
    "arr17_deepCopy[0] = 100\n",
    "\n",
    "print('\\n')\n",
    "print(arr17)\n",
    "print(arr17_deepCopy)"
   ]
  },
  {
   "cell_type": "markdown",
   "id": "b8fec28e",
   "metadata": {},
   "source": [
    "### Shallow copy with [np.view](https://numpy.org/doc/stable/reference/generated/numpy.ndarray.view.html)"
   ]
  },
  {
   "cell_type": "markdown",
   "id": "0b309d9d",
   "metadata": {},
   "source": [
    "The view method to create a new array object that looks at the same data as the original array (a shallow copy).\n",
    "\n",
    "Views are an important NumPy concept! NumPy functions, as well as operations like indexing and slicing, will return views whenever possible. This saves memory and is faster (no copy of the data has to be made). However it’s important to be aware of this - modifying data in a view also modifies the original array!"
   ]
  },
  {
   "cell_type": "code",
   "execution_count": 42,
   "id": "be34df6f",
   "metadata": {},
   "outputs": [
    {
     "name": "stdout",
     "output_type": "stream",
     "text": [
      "[ 1  2  3  4  5  6  7  8  9 10 11 12 13 14 15 16 17 18]\n",
      "[4 5 6 7 8 9]\n",
      "[  1   2   3 400   5   6   7   8   9  10  11  12  13  14  15  16  17  18]\n",
      "[400   5   6   7   8   9]\n"
     ]
    }
   ],
   "source": [
    "arr18 = np.arange(1, 19)\n",
    "print(arr18)\n",
    "\n",
    "# Creating a slice of the original arr18 will create a view\n",
    "arr18_slice_view = arr18[3: 9]\n",
    "print(arr18_slice_view)\n",
    "\n",
    "# Modifying the view will affect both the view itself and the original array\n",
    "arr18_slice_view[0] = 400\n",
    "print(arr18)\n",
    "print(arr18_slice_view)"
   ]
  },
  {
   "cell_type": "code",
   "execution_count": 43,
   "id": "75aa6c1a",
   "metadata": {},
   "outputs": [
    {
     "name": "stdout",
     "output_type": "stream",
     "text": [
      "[[ 1  2  3  4  5  6  7  8]\n",
      " [ 9 10 11 12 13 14 15 16]\n",
      " [17 18 19 20 21 22 23 24]]\n",
      "\n",
      "[[ 1  2  3  4  5  6  7  8]\n",
      " [ 9 10 11 12 13 14 15 16]\n",
      " [17 18 19 20 21 22 23 24]]\n",
      "\n",
      "[[ 1  2  3  4  5  6]\n",
      " [ 7  8  9 10 11 12]\n",
      " [13 14 15 16 17 18]\n",
      " [19 20 21 22 23 24]]\n",
      "\n",
      "[[  1   2   3   4   5   6   7   8]\n",
      " [900  10  11  12  13  14  15  16]\n",
      " [ 17  18  19  20  21  22  23  24]]\n",
      "\n",
      "[[  1   2   3   4   5   6]\n",
      " [  7   8 900  10  11  12]\n",
      " [ 13  14  15  16  17  18]\n",
      " [ 19  20  21  22  23  24]]\n"
     ]
    }
   ],
   "source": [
    "arr19 = np.arange(1, 25).reshape(3, 8)\n",
    "print(arr19)\n",
    "\n",
    "arr19_reshaped_view = arr19.view()\n",
    "print(f'\\n{arr19_reshaped_view}')\n",
    "\n",
    "arr19_reshaped_view = arr19_reshaped_view.reshape(4, 6)\n",
    "print(f'\\n{arr19_reshaped_view}')\n",
    "\n",
    "# Changing the view 'arr19_reshaped_view' will also affect to the original 'arr19' array\n",
    "arr19_reshaped_view[1, 2] = 900\n",
    "print(f'\\n{arr19}')\n",
    "print(f'\\n{arr19_reshaped_view}')"
   ]
  },
  {
   "cell_type": "markdown",
   "id": "fab193f8",
   "metadata": {},
   "source": [
    "## Basic operations"
   ]
  },
  {
   "cell_type": "code",
   "execution_count": 44,
   "id": "3bb8bcb2",
   "metadata": {},
   "outputs": [
    {
     "data": {
      "text/plain": [
       "array([[ 1,  2,  3,  4,  5],\n",
       "       [ 6,  7,  8,  9, 10],\n",
       "       [11, 12, 13, 14, 15]])"
      ]
     },
     "execution_count": 44,
     "metadata": {},
     "output_type": "execute_result"
    }
   ],
   "source": [
    "arr20_1 = np.arange(1, 16).reshape(3, 5)\n",
    "arr20_1"
   ]
  },
  {
   "cell_type": "code",
   "execution_count": 45,
   "id": "662209de",
   "metadata": {},
   "outputs": [
    {
     "data": {
      "text/plain": [
       "array([[ 2,  4,  6,  8, 10],\n",
       "       [12, 14, 16, 18, 20],\n",
       "       [22, 24, 26, 28, 30]])"
      ]
     },
     "execution_count": 45,
     "metadata": {},
     "output_type": "execute_result"
    }
   ],
   "source": [
    "arr20_2 = np.arange(2, 31, 2).reshape(3, 5)\n",
    "arr20_2"
   ]
  },
  {
   "cell_type": "markdown",
   "id": "2ffa19e6",
   "metadata": {},
   "source": [
    "### Adding two arrays"
   ]
  },
  {
   "cell_type": "code",
   "execution_count": 46,
   "id": "411dd46d",
   "metadata": {},
   "outputs": [
    {
     "data": {
      "text/plain": [
       "array([[ 3,  6,  9, 12, 15],\n",
       "       [18, 21, 24, 27, 30],\n",
       "       [33, 36, 39, 42, 45]])"
      ]
     },
     "execution_count": 46,
     "metadata": {},
     "output_type": "execute_result"
    }
   ],
   "source": [
    "arr20_add = arr20_1 + arr20_2\n",
    "arr20_add"
   ]
  },
  {
   "cell_type": "markdown",
   "id": "500a4990",
   "metadata": {},
   "source": [
    "### Substracting two arrays"
   ]
  },
  {
   "cell_type": "code",
   "execution_count": 47,
   "id": "237d2573",
   "metadata": {},
   "outputs": [
    {
     "data": {
      "text/plain": [
       "array([[ -1,  -2,  -3,  -4,  -5],\n",
       "       [ -6,  -7,  -8,  -9, -10],\n",
       "       [-11, -12, -13, -14, -15]])"
      ]
     },
     "execution_count": 47,
     "metadata": {},
     "output_type": "execute_result"
    }
   ],
   "source": [
    "arr20_sub = arr20_1 - arr20_2\n",
    "arr20_sub"
   ]
  },
  {
   "cell_type": "markdown",
   "id": "929207f0",
   "metadata": {},
   "source": [
    "### Multiplying two arrays"
   ]
  },
  {
   "cell_type": "code",
   "execution_count": 48,
   "id": "94137888",
   "metadata": {},
   "outputs": [
    {
     "data": {
      "text/plain": [
       "array([[  2,   8,  18,  32,  50],\n",
       "       [ 72,  98, 128, 162, 200],\n",
       "       [242, 288, 338, 392, 450]])"
      ]
     },
     "execution_count": 48,
     "metadata": {},
     "output_type": "execute_result"
    }
   ],
   "source": [
    "arr20_mul = arr20_1 * arr20_2\n",
    "arr20_mul"
   ]
  },
  {
   "cell_type": "markdown",
   "id": "b05949e2",
   "metadata": {},
   "source": [
    "### Dividing two arrays"
   ]
  },
  {
   "cell_type": "code",
   "execution_count": 49,
   "id": "9b833f04",
   "metadata": {},
   "outputs": [
    {
     "data": {
      "text/plain": [
       "array([[0.5, 0.5, 0.5, 0.5, 0.5],\n",
       "       [0.5, 0.5, 0.5, 0.5, 0.5],\n",
       "       [0.5, 0.5, 0.5, 0.5, 0.5]])"
      ]
     },
     "execution_count": 49,
     "metadata": {},
     "output_type": "execute_result"
    }
   ],
   "source": [
    "arr20_div = arr20_1 / arr20_2\n",
    "arr20_div"
   ]
  },
  {
   "cell_type": "markdown",
   "id": "d195fb0f",
   "metadata": {},
   "source": [
    "### Summing up elements"
   ]
  },
  {
   "cell_type": "code",
   "execution_count": 50,
   "id": "efd2b756",
   "metadata": {},
   "outputs": [
    {
     "name": "stdout",
     "output_type": "stream",
     "text": [
      "[[ 1  2  3  4  5]\n",
      " [ 6  7  8  9 10]\n",
      " [11 12 13 14 15]]\n"
     ]
    },
    {
     "data": {
      "text/plain": [
       "120"
      ]
     },
     "execution_count": 50,
     "metadata": {},
     "output_type": "execute_result"
    }
   ],
   "source": [
    "print(arr20_1)\n",
    "\n",
    "# Sum up all elements\n",
    "arr20_1.sum()"
   ]
  },
  {
   "cell_type": "code",
   "execution_count": 51,
   "id": "296bf9f9",
   "metadata": {},
   "outputs": [
    {
     "data": {
      "text/plain": [
       "array([18, 21, 24, 27, 30])"
      ]
     },
     "execution_count": 51,
     "metadata": {},
     "output_type": "execute_result"
    }
   ],
   "source": [
    "# Sum up elements of each column\n",
    "arr20_1.sum(axis=0)"
   ]
  },
  {
   "cell_type": "code",
   "execution_count": 52,
   "id": "afc9b415",
   "metadata": {},
   "outputs": [
    {
     "data": {
      "text/plain": [
       "array([15, 40, 65])"
      ]
     },
     "execution_count": 52,
     "metadata": {},
     "output_type": "execute_result"
    }
   ],
   "source": [
    "# Sum up elements of each row\n",
    "arr20_1.sum(axis=1)"
   ]
  }
 ],
 "metadata": {
  "kernelspec": {
   "display_name": "Python 3",
   "language": "python",
   "name": "python3"
  },
  "language_info": {
   "codemirror_mode": {
    "name": "ipython",
    "version": 3
   },
   "file_extension": ".py",
   "mimetype": "text/x-python",
   "name": "python",
   "nbconvert_exporter": "python",
   "pygments_lexer": "ipython3",
   "version": "3.9.6"
  }
 },
 "nbformat": 4,
 "nbformat_minor": 5
}
