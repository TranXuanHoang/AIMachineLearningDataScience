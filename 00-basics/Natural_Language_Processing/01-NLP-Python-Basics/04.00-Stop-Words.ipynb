{
 "cells": [
  {
   "cell_type": "markdown",
   "id": "0ec1f9e1-3611-4677-9e68-a37df187ef0a",
   "metadata": {},
   "source": [
    "# Stop Words\n",
    "\n",
    "Stop words refer to a list of common words of a language that are often useful to filter out, for example 'and' or 'I' in English, or 'が' or 'を' in Japanese."
   ]
  },
  {
   "cell_type": "code",
   "execution_count": 1,
   "id": "5083a64f-ae59-4d1f-a6b2-c3d7968fe33f",
   "metadata": {},
   "outputs": [],
   "source": [
    "import pandas as pd\n",
    "import spacy"
   ]
  },
  {
   "cell_type": "code",
   "execution_count": 2,
   "id": "0ff99efd-bd6d-4579-a527-9775656c65b4",
   "metadata": {},
   "outputs": [],
   "source": [
    "# Load NLP models (both English and Japanese)\n",
    "enlp = spacy.load('en_core_web_trf')\n",
    "jnlp = spacy.load('ja_core_news_lg')"
   ]
  },
  {
   "cell_type": "markdown",
   "id": "6f9cd6c2-385f-494e-9d23-a5767d39502a",
   "metadata": {},
   "source": [
    "## Listing out Default Stop Words of a Language"
   ]
  },
  {
   "cell_type": "code",
   "execution_count": 3,
   "id": "6d4b7268-16d9-4175-96e3-962846945050",
   "metadata": {},
   "outputs": [
    {
     "name": "stdout",
     "output_type": "stream",
     "text": [
      "Number of stop words: 326\n",
      "{'thereafter', 'whole', 'did', 'nine', 'twelve', 'for', 'ever', 'using', 'only', 'two', 'onto', 'herein', 'used', 'you', 'whenever', '’ve', 'on', 'itself', 'through', 'though', 'ca', 'hereby', 'neither', 'mostly', 'thence', 'upon', 'namely', 'behind', 'thereby', '‘d', 'can', 'become', 'who', 'himself', 'former', 'among', 'nothing', 'this', '‘ll', 'he', 'part', 'eleven', 'made', 'another', 'ten', 'very', 'whose', 'otherwise', 'somehow', 'several', 'perhaps', 'your', 'that', 'there', 'indeed', 'once', 'nobody', 'she', 'via', 'every', 'everyone', 'afterwards', 'here', 'same', 'bottom', 'side', 'must', 'top', 'as', 'doing', 'myself', 'own', 'many', 'to', 'n‘t', 'other', 'fifty', 'front', 'show', 'take', 'whom', 'off', 'themselves', 'whether', 'few', 'unless', '‘m', 'regarding', 'ours', 'give', 'back', 'per', 'herself', 'everywhere', 'go', 'are', 'seem', 'eight', 'all', 'they', 'down', 'say', 'see', 'n’t', 'of', 'well', 'however', 'with', 'where', 'am', 'whereas', 'is', 'first', 'my', 'done', 'ourselves', 'these', 'enough', 'beyond', 'too', \"n't\", 'while', 'much', 'various', 'such', 'none', 'anyone', 'but', 'out', 'cannot', 'until', 'even', 'hereupon', 'everything', 'always', 'has', 'now', 'our', 'be', 're', 'put', 'else', 'had', 'throughout', 'amount', 'therein', 'not', 'were', 'whoever', 'keep', 'and', 'beside', 'i', 'yourselves', '’m', 'amongst', 'nevertheless', 'most', 'except', 'some', 'towards', 'him', 'again', 'during', 'should', 'nowhere', 'seemed', \"'s\", '‘s', 'also', 'six', 'thus', 'do', 'seeming', 'wherein', 'so', 'one', 'it', 'something', 'moreover', 'call', 'full', 'her', 'yourself', 'why', 'without', 'really', 'a', 'before', 'others', \"'d\", 'sixty', 'into', 'somewhere', 'across', 'an', 'seems', 'five', 'hence', '’s', 'by', 'although', 'might', 'may', 'became', 'the', 'serious', 'me', 'third', 'move', 'within', 'which', 'get', 'whence', 'us', '’d', 'up', 'meanwhile', 'nor', 'often', 'over', 'anyhow', 'since', '‘ve', 'fifteen', 'around', 'latterly', 'twenty', 'name', 'both', 'then', 'anyway', 'beforehand', 'whereupon', 'or', 'together', 'because', 'along', 'wherever', 'thereupon', 'any', 'from', 'four', 'hundred', 'less', 'we', 'what', 'between', 'could', 'above', 'rather', 'no', 'thru', 'quite', 'than', 'whereafter', 'last', 'whereby', 'either', \"'ve\", 'below', '’ll', 'forty', 'hers', 'becomes', 'in', 'already', 'make', \"'re\", 'at', 'been', 'if', 'under', 'yours', 'still', 'three', 'each', 'those', 'would', 'sometime', 'when', 'being', 'besides', 'hereafter', 'against', 'becoming', 'alone', 'never', 'yet', 'will', 'anything', 'therefore', '’re', 'almost', 'empty', 'its', 'least', 'mine', \"'ll\", 'was', 'whither', 'whatever', 'further', 'formerly', 'noone', 'next', 'sometimes', 'anywhere', 'due', 'them', 'does', 'elsewhere', 'have', 'please', 'about', 'more', 'after', \"'m\", '‘re', 'their', 'his', 'just', 'someone', 'latter', 'toward', 'how'}\n"
     ]
    }
   ],
   "source": [
    "# Find default stop words in English\n",
    "print(f'Number of stop words: {len(enlp.Defaults.stop_words)}')\n",
    "print(enlp.Defaults.stop_words)"
   ]
  },
  {
   "cell_type": "code",
   "execution_count": 4,
   "id": "a168bf87-26db-497a-aa1c-b117b204a119",
   "metadata": {},
   "outputs": [
    {
     "name": "stdout",
     "output_type": "stream",
     "text": [
      "Number of stop words: 154\n",
      "{'うち', 'まま', 'きっかけ', 'ため', 'なお', 'なし', 'ず', 'ぶり', 'は', 'で', 'かなり', 'ほど', 'られる', 'いう', 'すべて', 'ほか', 'および', 'る', 'それぞれ', 'て', 'しかし', 'なく', 'しか', 'いつ', 'ご', 'が', 'こう', 'かつ', 'す', 'よく', 'な', 'べき', 'なる', 'だ', 'いい', 'さ', 'ただし', 'せる', 'いずれ', 'しよう', 'お', 'き', 'か', 'でき', 'を', 'つい', 'に', 'かつて', 'い', 'たい', 'あまり', 'の', 'など', 'あ', 'から', 'ちゃん', 'そこ', 'とっ', 'ね', 'つつ', 'これ', 'なかっ', 'なり', 'まで', 'られ', 'ら', 'え', 'どう', 'み', 'いっ', 'れ', 'へ', 'おい', 'その', 'また', 'なっ', 'もと', 'らしい', 'より', 'そして', 'あるいは', 'よれ', 'よっ', 'ます', 'ぬ', 'も', 'たり', 'つ', 'する', 'あっ', 'とき', 'かけ', 'た', 'ここ', 'くる', 'し', 'だっ', 'ところ', 'だけ', 'にて', 'ほぼ', 'たら', 'しまっ', 'やっ', 'あり', 'ほとんど', 'ま', 'そう', 'こ', 'おり', 'おら', 'と', 'とも', 'いる', 'よ', 'それ', 'すぐ', '一', 'しまう', 'のみ', 'もの', 'ながら', 'ば', 'なら', 'こと', 'ひと', 'はじめ', 'れる', 'あれ', 'ん', 'なけれ', 'ある', 'できる', 'たち', 'おけ', 'のち', 'いく', 'ない', 'や', 'さん', 'つけ', 'さらに', 'もう', 'ごと', 'くん', 'です', 'よう', 'いわ', 'この', 'せい', 'せ', 'よる', 'ち', 'もっ'}\n"
     ]
    }
   ],
   "source": [
    "# Find default stop words in Japanese\n",
    "print(f'Number of stop words: {len(jnlp.Defaults.stop_words)}')\n",
    "print(jnlp.Defaults.stop_words)"
   ]
  },
  {
   "cell_type": "markdown",
   "id": "b18bef1c-7954-41b9-8cd1-dba96eaca02a",
   "metadata": {},
   "source": [
    "## Checking if a Word is a Stop Word"
   ]
  },
  {
   "cell_type": "code",
   "execution_count": 5,
   "id": "1695f6ef-179a-426b-a69a-7bd7e9ec3bf4",
   "metadata": {},
   "outputs": [
    {
     "data": {
      "text/plain": [
       "True"
      ]
     },
     "execution_count": 5,
     "metadata": {},
     "output_type": "execute_result"
    }
   ],
   "source": [
    "enlp.vocab['he'].is_stop"
   ]
  },
  {
   "cell_type": "code",
   "execution_count": 6,
   "id": "c18660e6-a0cf-4322-9692-ee558a8302e1",
   "metadata": {},
   "outputs": [
    {
     "data": {
      "text/plain": [
       "False"
      ]
     },
     "execution_count": 6,
     "metadata": {},
     "output_type": "execute_result"
    }
   ],
   "source": [
    "enlp.vocab['hello'].is_stop"
   ]
  },
  {
   "cell_type": "code",
   "execution_count": 7,
   "id": "59487586-8bcd-494c-baad-ef22b697e2b2",
   "metadata": {},
   "outputs": [
    {
     "data": {
      "text/plain": [
       "True"
      ]
     },
     "execution_count": 7,
     "metadata": {},
     "output_type": "execute_result"
    }
   ],
   "source": [
    "jnlp.vocab['こ'].is_stop"
   ]
  },
  {
   "cell_type": "code",
   "execution_count": 8,
   "id": "350f7cf3-d0e6-4f8a-9439-165547c2f260",
   "metadata": {},
   "outputs": [
    {
     "data": {
      "text/plain": [
       "False"
      ]
     },
     "execution_count": 8,
     "metadata": {},
     "output_type": "execute_result"
    }
   ],
   "source": [
    "jnlp.vocab['こんにちは'].is_stop"
   ]
  },
  {
   "cell_type": "code",
   "execution_count": 9,
   "id": "8aeb9a8b-beb3-411c-9a98-4941c5d5065b",
   "metadata": {},
   "outputs": [],
   "source": [
    "def stopWordsInfo(doc: spacy.tokens.Doc) -> pd.DataFrame:\n",
    "    stop_words_info = []\n",
    "    for token in doc:\n",
    "        stop_words_info.append([token.text, token.is_stop])\n",
    "    \n",
    "    # Table header\n",
    "    headers = ['Text', 'Is Stop']\n",
    "    \n",
    "    # Create and return a Pandas DataFrame containing all tokens\n",
    "    # with information about whether each token is a stop word\n",
    "    table = pd.DataFrame(columns=headers, data=stop_words_info)\n",
    "    return table"
   ]
  },
  {
   "cell_type": "code",
   "execution_count": 10,
   "id": "e55a5b68-ce49-42d3-bcda-ea8d79e70394",
   "metadata": {},
   "outputs": [
    {
     "data": {
      "text/plain": [
       "It is great to have you here"
      ]
     },
     "execution_count": 10,
     "metadata": {},
     "output_type": "execute_result"
    }
   ],
   "source": [
    "edoc1 = enlp(u'It is great to have you here')\n",
    "edoc1"
   ]
  },
  {
   "cell_type": "code",
   "execution_count": 11,
   "id": "ceb36ba5-276f-4d3f-8adc-6d59d1d2121d",
   "metadata": {},
   "outputs": [
    {
     "data": {
      "text/plain": [
       "今日はお天気がいいですね！"
      ]
     },
     "execution_count": 11,
     "metadata": {},
     "output_type": "execute_result"
    }
   ],
   "source": [
    "jdoc1 = jnlp(u'今日はお天気がいいですね！')\n",
    "jdoc1"
   ]
  },
  {
   "cell_type": "code",
   "execution_count": 12,
   "id": "68878797-cede-420f-b3a7-9b1cac79fe18",
   "metadata": {},
   "outputs": [
    {
     "data": {
      "text/html": [
       "<div>\n",
       "<style scoped>\n",
       "    .dataframe tbody tr th:only-of-type {\n",
       "        vertical-align: middle;\n",
       "    }\n",
       "\n",
       "    .dataframe tbody tr th {\n",
       "        vertical-align: top;\n",
       "    }\n",
       "\n",
       "    .dataframe thead th {\n",
       "        text-align: right;\n",
       "    }\n",
       "</style>\n",
       "<table border=\"1\" class=\"dataframe\">\n",
       "  <thead>\n",
       "    <tr style=\"text-align: right;\">\n",
       "      <th></th>\n",
       "      <th>Text</th>\n",
       "      <th>Is Stop</th>\n",
       "    </tr>\n",
       "  </thead>\n",
       "  <tbody>\n",
       "    <tr>\n",
       "      <th>0</th>\n",
       "      <td>It</td>\n",
       "      <td>True</td>\n",
       "    </tr>\n",
       "    <tr>\n",
       "      <th>1</th>\n",
       "      <td>is</td>\n",
       "      <td>True</td>\n",
       "    </tr>\n",
       "    <tr>\n",
       "      <th>2</th>\n",
       "      <td>great</td>\n",
       "      <td>False</td>\n",
       "    </tr>\n",
       "    <tr>\n",
       "      <th>3</th>\n",
       "      <td>to</td>\n",
       "      <td>True</td>\n",
       "    </tr>\n",
       "    <tr>\n",
       "      <th>4</th>\n",
       "      <td>have</td>\n",
       "      <td>True</td>\n",
       "    </tr>\n",
       "    <tr>\n",
       "      <th>5</th>\n",
       "      <td>you</td>\n",
       "      <td>True</td>\n",
       "    </tr>\n",
       "    <tr>\n",
       "      <th>6</th>\n",
       "      <td>here</td>\n",
       "      <td>True</td>\n",
       "    </tr>\n",
       "  </tbody>\n",
       "</table>\n",
       "</div>"
      ],
      "text/plain": [
       "    Text  Is Stop\n",
       "0     It     True\n",
       "1     is     True\n",
       "2  great    False\n",
       "3     to     True\n",
       "4   have     True\n",
       "5    you     True\n",
       "6   here     True"
      ]
     },
     "execution_count": 12,
     "metadata": {},
     "output_type": "execute_result"
    }
   ],
   "source": [
    "stopWordsInfo(edoc1)"
   ]
  },
  {
   "cell_type": "code",
   "execution_count": 13,
   "id": "fc781227-0763-44fb-9c7f-ca712a57505d",
   "metadata": {},
   "outputs": [
    {
     "data": {
      "text/html": [
       "<div>\n",
       "<style scoped>\n",
       "    .dataframe tbody tr th:only-of-type {\n",
       "        vertical-align: middle;\n",
       "    }\n",
       "\n",
       "    .dataframe tbody tr th {\n",
       "        vertical-align: top;\n",
       "    }\n",
       "\n",
       "    .dataframe thead th {\n",
       "        text-align: right;\n",
       "    }\n",
       "</style>\n",
       "<table border=\"1\" class=\"dataframe\">\n",
       "  <thead>\n",
       "    <tr style=\"text-align: right;\">\n",
       "      <th></th>\n",
       "      <th>Text</th>\n",
       "      <th>Is Stop</th>\n",
       "    </tr>\n",
       "  </thead>\n",
       "  <tbody>\n",
       "    <tr>\n",
       "      <th>0</th>\n",
       "      <td>今日</td>\n",
       "      <td>False</td>\n",
       "    </tr>\n",
       "    <tr>\n",
       "      <th>1</th>\n",
       "      <td>は</td>\n",
       "      <td>True</td>\n",
       "    </tr>\n",
       "    <tr>\n",
       "      <th>2</th>\n",
       "      <td>お</td>\n",
       "      <td>True</td>\n",
       "    </tr>\n",
       "    <tr>\n",
       "      <th>3</th>\n",
       "      <td>天気</td>\n",
       "      <td>False</td>\n",
       "    </tr>\n",
       "    <tr>\n",
       "      <th>4</th>\n",
       "      <td>が</td>\n",
       "      <td>True</td>\n",
       "    </tr>\n",
       "    <tr>\n",
       "      <th>5</th>\n",
       "      <td>いい</td>\n",
       "      <td>True</td>\n",
       "    </tr>\n",
       "    <tr>\n",
       "      <th>6</th>\n",
       "      <td>です</td>\n",
       "      <td>True</td>\n",
       "    </tr>\n",
       "    <tr>\n",
       "      <th>7</th>\n",
       "      <td>ね</td>\n",
       "      <td>True</td>\n",
       "    </tr>\n",
       "    <tr>\n",
       "      <th>8</th>\n",
       "      <td>！</td>\n",
       "      <td>False</td>\n",
       "    </tr>\n",
       "  </tbody>\n",
       "</table>\n",
       "</div>"
      ],
      "text/plain": [
       "  Text  Is Stop\n",
       "0   今日    False\n",
       "1    は     True\n",
       "2    お     True\n",
       "3   天気    False\n",
       "4    が     True\n",
       "5   いい     True\n",
       "6   です     True\n",
       "7    ね     True\n",
       "8    ！    False"
      ]
     },
     "execution_count": 13,
     "metadata": {},
     "output_type": "execute_result"
    }
   ],
   "source": [
    "stopWordsInfo(jdoc1)"
   ]
  },
  {
   "cell_type": "markdown",
   "id": "c10705cc-2fc7-493f-85af-83ed7af74aac",
   "metadata": {},
   "source": [
    "## Adding a Stop Word\n",
    "\n",
    "There may be times when you wish to add a new stop word to the default set. Perhaps you decide that `'btw'` (common shorthand for \"by the way\") should be considered a stop word."
   ]
  },
  {
   "cell_type": "code",
   "execution_count": 14,
   "id": "99319041-040d-48b3-969d-5a1b33001311",
   "metadata": {},
   "outputs": [
    {
     "data": {
      "text/plain": [
       "False"
      ]
     },
     "execution_count": 14,
     "metadata": {},
     "output_type": "execute_result"
    }
   ],
   "source": [
    "# Check that before adding 'btw' to the stop words set, it isn't a stop word\n",
    "enlp.vocab['btw'].is_stop"
   ]
  },
  {
   "cell_type": "code",
   "execution_count": 15,
   "id": "164aa5d2-8538-4f19-9528-5a05c7bfe7e3",
   "metadata": {},
   "outputs": [],
   "source": [
    "# Add the word to the set of stop words. Use lowercase!\n",
    "enlp.Defaults.stop_words.add('btw')\n",
    "\n",
    "# Set the stop_word tag on the lexeme\n",
    "enlp.vocab['btw'].is_stop = True"
   ]
  },
  {
   "cell_type": "code",
   "execution_count": 16,
   "id": "37c74928-9a0e-4bf2-b3a2-699ea43f8b4b",
   "metadata": {},
   "outputs": [
    {
     "data": {
      "text/plain": [
       "327"
      ]
     },
     "execution_count": 16,
     "metadata": {},
     "output_type": "execute_result"
    }
   ],
   "source": [
    "len(enlp.Defaults.stop_words)"
   ]
  },
  {
   "cell_type": "code",
   "execution_count": 17,
   "id": "f8f4e62c-8a04-4881-837c-63ef79a1b0f2",
   "metadata": {},
   "outputs": [
    {
     "data": {
      "text/plain": [
       "True"
      ]
     },
     "execution_count": 17,
     "metadata": {},
     "output_type": "execute_result"
    }
   ],
   "source": [
    "enlp.vocab['btw'].is_stop"
   ]
  },
  {
   "cell_type": "markdown",
   "id": "1b410e62-8a3a-4059-bc42-a6fce5d1655e",
   "metadata": {},
   "source": [
    "<font color='red'>When adding stop words, always use lowercase. Lexemes are converted to lowercase before being added to **vocab**</font>"
   ]
  },
  {
   "cell_type": "code",
   "execution_count": 18,
   "id": "fc0cbc55-8589-426b-8d6f-f235f8fecbb6",
   "metadata": {},
   "outputs": [
    {
     "data": {
      "text/plain": [
       "False"
      ]
     },
     "execution_count": 18,
     "metadata": {},
     "output_type": "execute_result"
    }
   ],
   "source": [
    "# Check that before adding '名前' to the stop words set, it isn't a stop word\n",
    "j_word = '名前'\n",
    "jnlp.vocab[j_word].is_stop"
   ]
  },
  {
   "cell_type": "code",
   "execution_count": 19,
   "id": "2a9f45b1-4069-46fd-9ac4-7fb18d80cd0d",
   "metadata": {},
   "outputs": [],
   "source": [
    "# Add the Japanese word to the set of stop words\n",
    "jnlp.Defaults.stop_words.add(j_word)\n",
    "\n",
    "# Set the stop_word tag on the lexeme\n",
    "jnlp.vocab[j_word].is_stop = True"
   ]
  },
  {
   "cell_type": "code",
   "execution_count": 20,
   "id": "0509dccb-fa78-4154-b75e-271518f39556",
   "metadata": {},
   "outputs": [
    {
     "data": {
      "text/plain": [
       "155"
      ]
     },
     "execution_count": 20,
     "metadata": {},
     "output_type": "execute_result"
    }
   ],
   "source": [
    "len(jnlp.Defaults.stop_words)"
   ]
  },
  {
   "cell_type": "code",
   "execution_count": 21,
   "id": "d1c1a722-7450-4a63-ae21-6b7c04cb98d4",
   "metadata": {},
   "outputs": [
    {
     "data": {
      "text/html": [
       "<div>\n",
       "<style scoped>\n",
       "    .dataframe tbody tr th:only-of-type {\n",
       "        vertical-align: middle;\n",
       "    }\n",
       "\n",
       "    .dataframe tbody tr th {\n",
       "        vertical-align: top;\n",
       "    }\n",
       "\n",
       "    .dataframe thead th {\n",
       "        text-align: right;\n",
       "    }\n",
       "</style>\n",
       "<table border=\"1\" class=\"dataframe\">\n",
       "  <thead>\n",
       "    <tr style=\"text-align: right;\">\n",
       "      <th></th>\n",
       "      <th>Text</th>\n",
       "      <th>Is Stop</th>\n",
       "    </tr>\n",
       "  </thead>\n",
       "  <tbody>\n",
       "    <tr>\n",
       "      <th>0</th>\n",
       "      <td>私</td>\n",
       "      <td>False</td>\n",
       "    </tr>\n",
       "    <tr>\n",
       "      <th>1</th>\n",
       "      <td>の</td>\n",
       "      <td>True</td>\n",
       "    </tr>\n",
       "    <tr>\n",
       "      <th>2</th>\n",
       "      <td>名前</td>\n",
       "      <td>True</td>\n",
       "    </tr>\n",
       "    <tr>\n",
       "      <th>3</th>\n",
       "      <td>は</td>\n",
       "      <td>True</td>\n",
       "    </tr>\n",
       "    <tr>\n",
       "      <th>4</th>\n",
       "      <td>spaCy</td>\n",
       "      <td>False</td>\n",
       "    </tr>\n",
       "    <tr>\n",
       "      <th>5</th>\n",
       "      <td>です</td>\n",
       "      <td>True</td>\n",
       "    </tr>\n",
       "    <tr>\n",
       "      <th>6</th>\n",
       "      <td>。</td>\n",
       "      <td>False</td>\n",
       "    </tr>\n",
       "  </tbody>\n",
       "</table>\n",
       "</div>"
      ],
      "text/plain": [
       "    Text  Is Stop\n",
       "0      私    False\n",
       "1      の     True\n",
       "2     名前     True\n",
       "3      は     True\n",
       "4  spaCy    False\n",
       "5     です     True\n",
       "6      。    False"
      ]
     },
     "execution_count": 21,
     "metadata": {},
     "output_type": "execute_result"
    }
   ],
   "source": [
    "stopWordsInfo(jnlp(u'私の名前はspaCyです。'))"
   ]
  },
  {
   "cell_type": "markdown",
   "id": "4bf7e760-4f3b-42c3-b58b-fa421e0ec9d8",
   "metadata": {},
   "source": [
    "## Removing a Stop Word\n",
    "\n",
    "At some point in time, you may decide that `'btw'` should not be considered a stop word."
   ]
  },
  {
   "cell_type": "code",
   "execution_count": 22,
   "id": "c0ea85c3-e2fa-46a3-9153-7179a5731e4b",
   "metadata": {},
   "outputs": [],
   "source": [
    "# Remove the word from the set of stop words\n",
    "enlp.Defaults.stop_words.remove('btw')\n",
    "\n",
    "# Remove the stop_word tag from the lexeme\n",
    "enlp.vocab['btw'].is_stop = False"
   ]
  },
  {
   "cell_type": "code",
   "execution_count": 23,
   "id": "55a6d312-ee97-42ce-91c7-bd1c907a7c21",
   "metadata": {},
   "outputs": [
    {
     "data": {
      "text/plain": [
       "326"
      ]
     },
     "execution_count": 23,
     "metadata": {},
     "output_type": "execute_result"
    }
   ],
   "source": [
    "len(enlp.Defaults.stop_words)"
   ]
  },
  {
   "cell_type": "code",
   "execution_count": 24,
   "id": "c8a6a4cd-1c6e-4eca-b396-49171a285dc1",
   "metadata": {},
   "outputs": [
    {
     "data": {
      "text/plain": [
       "False"
      ]
     },
     "execution_count": 24,
     "metadata": {},
     "output_type": "execute_result"
    }
   ],
   "source": [
    "enlp.vocab['btw'].is_stop"
   ]
  },
  {
   "cell_type": "code",
   "execution_count": 25,
   "id": "1e224bfa-53cc-413c-a594-dd29115d4cbd",
   "metadata": {},
   "outputs": [
    {
     "name": "stdout",
     "output_type": "stream",
     "text": [
      "名前\n"
     ]
    }
   ],
   "source": [
    "# Remove the Japanese word '名前' that was set as a stop word\n",
    "# from the set of stop words\n",
    "print(j_word)\n",
    "jnlp.Defaults.stop_words.remove(j_word)\n",
    "\n",
    "# Remove the stop_word tag from the lexeme\n",
    "jnlp.vocab[j_word].is_stop = False"
   ]
  },
  {
   "cell_type": "code",
   "execution_count": 26,
   "id": "2cae4655-7a0f-4a89-82ad-593da52f5265",
   "metadata": {},
   "outputs": [
    {
     "data": {
      "text/plain": [
       "154"
      ]
     },
     "execution_count": 26,
     "metadata": {},
     "output_type": "execute_result"
    }
   ],
   "source": [
    "len(jnlp.Defaults.stop_words)"
   ]
  },
  {
   "cell_type": "code",
   "execution_count": 27,
   "id": "e27bd266-2d8f-48c9-a17e-9c0f631bdc4e",
   "metadata": {},
   "outputs": [
    {
     "data": {
      "text/html": [
       "<div>\n",
       "<style scoped>\n",
       "    .dataframe tbody tr th:only-of-type {\n",
       "        vertical-align: middle;\n",
       "    }\n",
       "\n",
       "    .dataframe tbody tr th {\n",
       "        vertical-align: top;\n",
       "    }\n",
       "\n",
       "    .dataframe thead th {\n",
       "        text-align: right;\n",
       "    }\n",
       "</style>\n",
       "<table border=\"1\" class=\"dataframe\">\n",
       "  <thead>\n",
       "    <tr style=\"text-align: right;\">\n",
       "      <th></th>\n",
       "      <th>Text</th>\n",
       "      <th>Is Stop</th>\n",
       "    </tr>\n",
       "  </thead>\n",
       "  <tbody>\n",
       "    <tr>\n",
       "      <th>0</th>\n",
       "      <td>私</td>\n",
       "      <td>False</td>\n",
       "    </tr>\n",
       "    <tr>\n",
       "      <th>1</th>\n",
       "      <td>の</td>\n",
       "      <td>True</td>\n",
       "    </tr>\n",
       "    <tr>\n",
       "      <th>2</th>\n",
       "      <td>名前</td>\n",
       "      <td>False</td>\n",
       "    </tr>\n",
       "    <tr>\n",
       "      <th>3</th>\n",
       "      <td>は</td>\n",
       "      <td>True</td>\n",
       "    </tr>\n",
       "    <tr>\n",
       "      <th>4</th>\n",
       "      <td>spaCy</td>\n",
       "      <td>False</td>\n",
       "    </tr>\n",
       "    <tr>\n",
       "      <th>5</th>\n",
       "      <td>です</td>\n",
       "      <td>True</td>\n",
       "    </tr>\n",
       "    <tr>\n",
       "      <th>6</th>\n",
       "      <td>。</td>\n",
       "      <td>False</td>\n",
       "    </tr>\n",
       "  </tbody>\n",
       "</table>\n",
       "</div>"
      ],
      "text/plain": [
       "    Text  Is Stop\n",
       "0      私    False\n",
       "1      の     True\n",
       "2     名前    False\n",
       "3      は     True\n",
       "4  spaCy    False\n",
       "5     です     True\n",
       "6      。    False"
      ]
     },
     "execution_count": 27,
     "metadata": {},
     "output_type": "execute_result"
    }
   ],
   "source": [
    "stopWordsInfo(jnlp(u'私の名前はspaCyです。'))"
   ]
  }
 ],
 "metadata": {
  "kernelspec": {
   "display_name": "Python 3",
   "language": "python",
   "name": "python3"
  },
  "language_info": {
   "codemirror_mode": {
    "name": "ipython",
    "version": 3
   },
   "file_extension": ".py",
   "mimetype": "text/x-python",
   "name": "python",
   "nbconvert_exporter": "python",
   "pygments_lexer": "ipython3",
   "version": "3.9.7"
  }
 },
 "nbformat": 4,
 "nbformat_minor": 5
}
