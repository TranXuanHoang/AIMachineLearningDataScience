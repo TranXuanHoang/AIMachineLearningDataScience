{
 "cells": [
  {
   "cell_type": "markdown",
   "id": "2f0db9d1-3274-4fe9-b2eb-dc7f1b89ca0f",
   "metadata": {},
   "source": [
    "# [spaCy](https://spacy.io/) Basics\n",
    "\n",
    "<p style=\"text-align: center;\">\n",
    "    <img src=\"https://spacy.io/architecture-415624fc7d149ec03f2736c4aa8b8f3c.svg\" width='55%'/>\n",
    "</p>"
   ]
  },
  {
   "cell_type": "code",
   "execution_count": 1,
   "id": "0abec653-1c22-4174-9a6d-3425fa2b3f4c",
   "metadata": {},
   "outputs": [],
   "source": [
    "import pandas as pd\n",
    "import spacy"
   ]
  },
  {
   "cell_type": "code",
   "execution_count": 2,
   "id": "3863c9be-3ae2-481a-9354-0e7c0de294fc",
   "metadata": {},
   "outputs": [],
   "source": [
    "# Load NLP models (both English and Japanese)\n",
    "enlp = spacy.load('en_core_web_trf')\n",
    "jnlp = spacy.load('ja_core_news_lg')"
   ]
  },
  {
   "cell_type": "markdown",
   "id": "39636d10-6d65-4f21-b3a2-3e99ea3e6c8d",
   "metadata": {},
   "source": [
    "## Active Pipeline Components\n",
    "\n",
    "![pipelines](https://spacy.io/pipeline-fde48da9b43661abcdf62ab70a546d71.svg)\n",
    "\n",
    "When you call `nlp` (`enlp`, `jnlp`) on a text, `spaCy` first tokenizes the text to produce a `Doc` object. The `Doc` is then processed in several different steps – this is also referred to as the **processing pipeline**. The `pipeline` used by the trained pipelines typically include a `tagger`, a `lemmatizer`, a `parser` and an `entity recognizer`. Each `pipeline component` returns the processed `Doc`, which is then passed on to the next component."
   ]
  },
  {
   "cell_type": "code",
   "execution_count": 3,
   "id": "44bbf3c8-c9dc-43e4-9e62-3a0a1a97d9f5",
   "metadata": {},
   "outputs": [
    {
     "data": {
      "text/plain": [
       "['transformer', 'tagger', 'parser', 'attribute_ruler', 'lemmatizer', 'ner']"
      ]
     },
     "execution_count": 3,
     "metadata": {},
     "output_type": "execute_result"
    }
   ],
   "source": [
    "# Get names of available active pipeline components of the English model \n",
    "enlp.pipe_names"
   ]
  },
  {
   "cell_type": "code",
   "execution_count": 4,
   "id": "e4107a59-629e-4cb7-80d0-831de7b7b0cb",
   "metadata": {},
   "outputs": [
    {
     "data": {
      "text/plain": [
       "['tok2vec', 'parser', 'attribute_ruler', 'ner']"
      ]
     },
     "execution_count": 4,
     "metadata": {},
     "output_type": "execute_result"
    }
   ],
   "source": [
    "# Get names of available active pipeline components of the Japanese model\n",
    "jnlp.pipe_names"
   ]
  },
  {
   "cell_type": "code",
   "execution_count": 5,
   "id": "a4e9c246-b17d-47e7-a5d5-f9838b119b4b",
   "metadata": {},
   "outputs": [
    {
     "data": {
      "text/plain": [
       "[('transformer',\n",
       "  <spacy_transformers.pipeline_component.Transformer at 0x1488d1c1f90>),\n",
       " ('tagger', <spacy.pipeline.tagger.Tagger at 0x1488d22d3b0>),\n",
       " ('parser', <spacy.pipeline.dep_parser.DependencyParser at 0x1488d1cf520>),\n",
       " ('attribute_ruler',\n",
       "  <spacy.pipeline.attributeruler.AttributeRuler at 0x1488d1c5040>),\n",
       " ('lemmatizer', <spacy.lang.en.lemmatizer.EnglishLemmatizer at 0x1488d1c2040>),\n",
       " ('ner', <spacy.pipeline.ner.EntityRecognizer at 0x1488d19b820>)]"
      ]
     },
     "execution_count": 5,
     "metadata": {},
     "output_type": "execute_result"
    }
   ],
   "source": [
    "enlp.pipeline"
   ]
  },
  {
   "cell_type": "code",
   "execution_count": 6,
   "id": "60e32455-1234-4fff-8759-16f66675ca26",
   "metadata": {},
   "outputs": [
    {
     "data": {
      "text/plain": [
       "[('tok2vec', <spacy.pipeline.tok2vec.Tok2Vec at 0x1488dd34a90>),\n",
       " ('parser', <spacy.pipeline.dep_parser.DependencyParser at 0x1488d85d640>),\n",
       " ('attribute_ruler',\n",
       "  <spacy.pipeline.attributeruler.AttributeRuler at 0x1488ddab0c0>),\n",
       " ('ner', <spacy.pipeline.ner.EntityRecognizer at 0x1488d85d940>)]"
      ]
     },
     "execution_count": 6,
     "metadata": {},
     "output_type": "execute_result"
    }
   ],
   "source": [
    "jnlp.pipeline"
   ]
  },
  {
   "cell_type": "markdown",
   "id": "f43d24e8-aaa8-4a2e-be5b-901f24e497ec",
   "metadata": {},
   "source": [
    "## Tokenization"
   ]
  },
  {
   "cell_type": "code",
   "execution_count": 7,
   "id": "693c28a5-0113-4cc4-8302-90d50f7b74a6",
   "metadata": {},
   "outputs": [],
   "source": [
    "edoc1 = enlp(u\"Tesla isn't looking into startups anymore.\")"
   ]
  },
  {
   "cell_type": "code",
   "execution_count": 8,
   "id": "e667a3b3-d897-4e2f-98de-d57199c131e2",
   "metadata": {},
   "outputs": [],
   "source": [
    "jdoc1 = jnlp(u\"テスラ社はもうすでに他の起業会社に気を配っていない。\")"
   ]
  },
  {
   "cell_type": "code",
   "execution_count": 9,
   "id": "23c2b665-6023-4409-9f83-2d9db22c8394",
   "metadata": {},
   "outputs": [],
   "source": [
    "def tokensInfo(doc: spacy.tokens.doc.Doc):\n",
    "    # Extract and save information of each token as a child array\n",
    "    # of the parent tokens_info[] array\n",
    "    tokens_info = []\n",
    "    for token in doc:\n",
    "        tokens_info.append([token.text, token.lemma_, token.pos_, token.tag_,\n",
    "                            token.dep_, token.shape_, token.is_alpha, token.is_stop])\n",
    "\n",
    "    # Table header\n",
    "    headers = [\"Text\", \"Lemma\", \"POS\", \"Tag\", \"Dep\", \"Shape\", \"Is Alpha\", \"Is Stop\"]\n",
    "    \n",
    "    # Create and return a Pandas DataFrame containing information of all tokens\n",
    "    table = pd.DataFrame(columns=headers, data=tokens_info)\n",
    "    return table"
   ]
  },
  {
   "cell_type": "code",
   "execution_count": 10,
   "id": "388317a2-3d86-4926-a9fe-4c71575d2729",
   "metadata": {},
   "outputs": [
    {
     "data": {
      "text/html": [
       "<div>\n",
       "<style scoped>\n",
       "    .dataframe tbody tr th:only-of-type {\n",
       "        vertical-align: middle;\n",
       "    }\n",
       "\n",
       "    .dataframe tbody tr th {\n",
       "        vertical-align: top;\n",
       "    }\n",
       "\n",
       "    .dataframe thead th {\n",
       "        text-align: right;\n",
       "    }\n",
       "</style>\n",
       "<table border=\"1\" class=\"dataframe\">\n",
       "  <thead>\n",
       "    <tr style=\"text-align: right;\">\n",
       "      <th></th>\n",
       "      <th>Text</th>\n",
       "      <th>Lemma</th>\n",
       "      <th>POS</th>\n",
       "      <th>Tag</th>\n",
       "      <th>Dep</th>\n",
       "      <th>Shape</th>\n",
       "      <th>Is Alpha</th>\n",
       "      <th>Is Stop</th>\n",
       "    </tr>\n",
       "  </thead>\n",
       "  <tbody>\n",
       "    <tr>\n",
       "      <th>0</th>\n",
       "      <td>Tesla</td>\n",
       "      <td>Tesla</td>\n",
       "      <td>PROPN</td>\n",
       "      <td>NNP</td>\n",
       "      <td>nsubj</td>\n",
       "      <td>Xxxxx</td>\n",
       "      <td>True</td>\n",
       "      <td>False</td>\n",
       "    </tr>\n",
       "    <tr>\n",
       "      <th>1</th>\n",
       "      <td>is</td>\n",
       "      <td>be</td>\n",
       "      <td>AUX</td>\n",
       "      <td>VBZ</td>\n",
       "      <td>aux</td>\n",
       "      <td>xx</td>\n",
       "      <td>True</td>\n",
       "      <td>True</td>\n",
       "    </tr>\n",
       "    <tr>\n",
       "      <th>2</th>\n",
       "      <td>n't</td>\n",
       "      <td>n't</td>\n",
       "      <td>PART</td>\n",
       "      <td>RB</td>\n",
       "      <td>neg</td>\n",
       "      <td>x'x</td>\n",
       "      <td>False</td>\n",
       "      <td>True</td>\n",
       "    </tr>\n",
       "    <tr>\n",
       "      <th>3</th>\n",
       "      <td>looking</td>\n",
       "      <td>look</td>\n",
       "      <td>VERB</td>\n",
       "      <td>VBG</td>\n",
       "      <td>ROOT</td>\n",
       "      <td>xxxx</td>\n",
       "      <td>True</td>\n",
       "      <td>False</td>\n",
       "    </tr>\n",
       "    <tr>\n",
       "      <th>4</th>\n",
       "      <td>into</td>\n",
       "      <td>into</td>\n",
       "      <td>ADP</td>\n",
       "      <td>IN</td>\n",
       "      <td>prep</td>\n",
       "      <td>xxxx</td>\n",
       "      <td>True</td>\n",
       "      <td>True</td>\n",
       "    </tr>\n",
       "    <tr>\n",
       "      <th>5</th>\n",
       "      <td>startups</td>\n",
       "      <td>startup</td>\n",
       "      <td>NOUN</td>\n",
       "      <td>NNS</td>\n",
       "      <td>pobj</td>\n",
       "      <td>xxxx</td>\n",
       "      <td>True</td>\n",
       "      <td>False</td>\n",
       "    </tr>\n",
       "    <tr>\n",
       "      <th>6</th>\n",
       "      <td>anymore</td>\n",
       "      <td>anymore</td>\n",
       "      <td>ADV</td>\n",
       "      <td>RB</td>\n",
       "      <td>advmod</td>\n",
       "      <td>xxxx</td>\n",
       "      <td>True</td>\n",
       "      <td>False</td>\n",
       "    </tr>\n",
       "    <tr>\n",
       "      <th>7</th>\n",
       "      <td>.</td>\n",
       "      <td>.</td>\n",
       "      <td>PUNCT</td>\n",
       "      <td>.</td>\n",
       "      <td>punct</td>\n",
       "      <td>.</td>\n",
       "      <td>False</td>\n",
       "      <td>False</td>\n",
       "    </tr>\n",
       "  </tbody>\n",
       "</table>\n",
       "</div>"
      ],
      "text/plain": [
       "       Text    Lemma    POS  Tag     Dep  Shape  Is Alpha  Is Stop\n",
       "0     Tesla    Tesla  PROPN  NNP   nsubj  Xxxxx      True    False\n",
       "1        is       be    AUX  VBZ     aux     xx      True     True\n",
       "2       n't      n't   PART   RB     neg    x'x     False     True\n",
       "3   looking     look   VERB  VBG    ROOT   xxxx      True    False\n",
       "4      into     into    ADP   IN    prep   xxxx      True     True\n",
       "5  startups  startup   NOUN  NNS    pobj   xxxx      True    False\n",
       "6   anymore  anymore    ADV   RB  advmod   xxxx      True    False\n",
       "7         .        .  PUNCT    .   punct      .     False    False"
      ]
     },
     "execution_count": 10,
     "metadata": {},
     "output_type": "execute_result"
    }
   ],
   "source": [
    "tokensInfo(edoc1)"
   ]
  },
  {
   "cell_type": "code",
   "execution_count": 11,
   "id": "9fe65708-b957-4a17-b3f8-a585b88b9c62",
   "metadata": {},
   "outputs": [
    {
     "data": {
      "text/html": [
       "<div>\n",
       "<style scoped>\n",
       "    .dataframe tbody tr th:only-of-type {\n",
       "        vertical-align: middle;\n",
       "    }\n",
       "\n",
       "    .dataframe tbody tr th {\n",
       "        vertical-align: top;\n",
       "    }\n",
       "\n",
       "    .dataframe thead th {\n",
       "        text-align: right;\n",
       "    }\n",
       "</style>\n",
       "<table border=\"1\" class=\"dataframe\">\n",
       "  <thead>\n",
       "    <tr style=\"text-align: right;\">\n",
       "      <th></th>\n",
       "      <th>Text</th>\n",
       "      <th>Lemma</th>\n",
       "      <th>POS</th>\n",
       "      <th>Tag</th>\n",
       "      <th>Dep</th>\n",
       "      <th>Shape</th>\n",
       "      <th>Is Alpha</th>\n",
       "      <th>Is Stop</th>\n",
       "    </tr>\n",
       "  </thead>\n",
       "  <tbody>\n",
       "    <tr>\n",
       "      <th>0</th>\n",
       "      <td>テスラ</td>\n",
       "      <td>テスラ</td>\n",
       "      <td>NOUN</td>\n",
       "      <td>名詞-普通名詞-助数詞可能</td>\n",
       "      <td>compound</td>\n",
       "      <td>xxx</td>\n",
       "      <td>True</td>\n",
       "      <td>False</td>\n",
       "    </tr>\n",
       "    <tr>\n",
       "      <th>1</th>\n",
       "      <td>社</td>\n",
       "      <td>社</td>\n",
       "      <td>NOUN</td>\n",
       "      <td>名詞-普通名詞-助数詞可能</td>\n",
       "      <td>nsubj</td>\n",
       "      <td>x</td>\n",
       "      <td>True</td>\n",
       "      <td>False</td>\n",
       "    </tr>\n",
       "    <tr>\n",
       "      <th>2</th>\n",
       "      <td>は</td>\n",
       "      <td>は</td>\n",
       "      <td>ADP</td>\n",
       "      <td>助詞-係助詞</td>\n",
       "      <td>case</td>\n",
       "      <td>x</td>\n",
       "      <td>True</td>\n",
       "      <td>True</td>\n",
       "    </tr>\n",
       "    <tr>\n",
       "      <th>3</th>\n",
       "      <td>もう</td>\n",
       "      <td>もう</td>\n",
       "      <td>ADV</td>\n",
       "      <td>副詞</td>\n",
       "      <td>advmod</td>\n",
       "      <td>xx</td>\n",
       "      <td>True</td>\n",
       "      <td>True</td>\n",
       "    </tr>\n",
       "    <tr>\n",
       "      <th>4</th>\n",
       "      <td>すでに</td>\n",
       "      <td>すでに</td>\n",
       "      <td>ADV</td>\n",
       "      <td>副詞</td>\n",
       "      <td>advmod</td>\n",
       "      <td>xxx</td>\n",
       "      <td>True</td>\n",
       "      <td>False</td>\n",
       "    </tr>\n",
       "    <tr>\n",
       "      <th>5</th>\n",
       "      <td>他</td>\n",
       "      <td>他</td>\n",
       "      <td>NOUN</td>\n",
       "      <td>名詞-普通名詞-副詞可能</td>\n",
       "      <td>nmod</td>\n",
       "      <td>x</td>\n",
       "      <td>True</td>\n",
       "      <td>False</td>\n",
       "    </tr>\n",
       "    <tr>\n",
       "      <th>6</th>\n",
       "      <td>の</td>\n",
       "      <td>の</td>\n",
       "      <td>ADP</td>\n",
       "      <td>助詞-格助詞</td>\n",
       "      <td>case</td>\n",
       "      <td>x</td>\n",
       "      <td>True</td>\n",
       "      <td>True</td>\n",
       "    </tr>\n",
       "    <tr>\n",
       "      <th>7</th>\n",
       "      <td>起業</td>\n",
       "      <td>起業</td>\n",
       "      <td>NOUN</td>\n",
       "      <td>名詞-普通名詞-サ変可能</td>\n",
       "      <td>compound</td>\n",
       "      <td>xx</td>\n",
       "      <td>True</td>\n",
       "      <td>False</td>\n",
       "    </tr>\n",
       "    <tr>\n",
       "      <th>8</th>\n",
       "      <td>会社</td>\n",
       "      <td>会社</td>\n",
       "      <td>NOUN</td>\n",
       "      <td>名詞-普通名詞-一般</td>\n",
       "      <td>obl</td>\n",
       "      <td>xx</td>\n",
       "      <td>True</td>\n",
       "      <td>False</td>\n",
       "    </tr>\n",
       "    <tr>\n",
       "      <th>9</th>\n",
       "      <td>に</td>\n",
       "      <td>に</td>\n",
       "      <td>ADP</td>\n",
       "      <td>助詞-格助詞</td>\n",
       "      <td>case</td>\n",
       "      <td>x</td>\n",
       "      <td>True</td>\n",
       "      <td>True</td>\n",
       "    </tr>\n",
       "    <tr>\n",
       "      <th>10</th>\n",
       "      <td>気</td>\n",
       "      <td>気</td>\n",
       "      <td>NOUN</td>\n",
       "      <td>名詞-普通名詞-一般</td>\n",
       "      <td>obj</td>\n",
       "      <td>x</td>\n",
       "      <td>True</td>\n",
       "      <td>False</td>\n",
       "    </tr>\n",
       "    <tr>\n",
       "      <th>11</th>\n",
       "      <td>を</td>\n",
       "      <td>を</td>\n",
       "      <td>ADP</td>\n",
       "      <td>助詞-格助詞</td>\n",
       "      <td>case</td>\n",
       "      <td>x</td>\n",
       "      <td>True</td>\n",
       "      <td>True</td>\n",
       "    </tr>\n",
       "    <tr>\n",
       "      <th>12</th>\n",
       "      <td>配っ</td>\n",
       "      <td>配る</td>\n",
       "      <td>VERB</td>\n",
       "      <td>動詞-一般</td>\n",
       "      <td>ROOT</td>\n",
       "      <td>xx</td>\n",
       "      <td>True</td>\n",
       "      <td>False</td>\n",
       "    </tr>\n",
       "    <tr>\n",
       "      <th>13</th>\n",
       "      <td>て</td>\n",
       "      <td>て</td>\n",
       "      <td>SCONJ</td>\n",
       "      <td>助詞-接続助詞</td>\n",
       "      <td>mark</td>\n",
       "      <td>x</td>\n",
       "      <td>True</td>\n",
       "      <td>True</td>\n",
       "    </tr>\n",
       "    <tr>\n",
       "      <th>14</th>\n",
       "      <td>い</td>\n",
       "      <td>いる</td>\n",
       "      <td>AUX</td>\n",
       "      <td>動詞-非自立可能</td>\n",
       "      <td>aux</td>\n",
       "      <td>x</td>\n",
       "      <td>True</td>\n",
       "      <td>True</td>\n",
       "    </tr>\n",
       "    <tr>\n",
       "      <th>15</th>\n",
       "      <td>ない</td>\n",
       "      <td>ない</td>\n",
       "      <td>AUX</td>\n",
       "      <td>助動詞</td>\n",
       "      <td>aux</td>\n",
       "      <td>xx</td>\n",
       "      <td>True</td>\n",
       "      <td>True</td>\n",
       "    </tr>\n",
       "    <tr>\n",
       "      <th>16</th>\n",
       "      <td>。</td>\n",
       "      <td>。</td>\n",
       "      <td>PUNCT</td>\n",
       "      <td>補助記号-句点</td>\n",
       "      <td>punct</td>\n",
       "      <td>。</td>\n",
       "      <td>False</td>\n",
       "      <td>False</td>\n",
       "    </tr>\n",
       "  </tbody>\n",
       "</table>\n",
       "</div>"
      ],
      "text/plain": [
       "   Text Lemma    POS            Tag       Dep Shape  Is Alpha  Is Stop\n",
       "0   テスラ   テスラ   NOUN  名詞-普通名詞-助数詞可能  compound   xxx      True    False\n",
       "1     社     社   NOUN  名詞-普通名詞-助数詞可能     nsubj     x      True    False\n",
       "2     は     は    ADP         助詞-係助詞      case     x      True     True\n",
       "3    もう    もう    ADV             副詞    advmod    xx      True     True\n",
       "4   すでに   すでに    ADV             副詞    advmod   xxx      True    False\n",
       "5     他     他   NOUN   名詞-普通名詞-副詞可能      nmod     x      True    False\n",
       "6     の     の    ADP         助詞-格助詞      case     x      True     True\n",
       "7    起業    起業   NOUN   名詞-普通名詞-サ変可能  compound    xx      True    False\n",
       "8    会社    会社   NOUN     名詞-普通名詞-一般       obl    xx      True    False\n",
       "9     に     に    ADP         助詞-格助詞      case     x      True     True\n",
       "10    気     気   NOUN     名詞-普通名詞-一般       obj     x      True    False\n",
       "11    を     を    ADP         助詞-格助詞      case     x      True     True\n",
       "12   配っ    配る   VERB          動詞-一般      ROOT    xx      True    False\n",
       "13    て     て  SCONJ        助詞-接続助詞      mark     x      True     True\n",
       "14    い    いる    AUX       動詞-非自立可能       aux     x      True     True\n",
       "15   ない    ない    AUX            助動詞       aux    xx      True     True\n",
       "16    。     。  PUNCT        補助記号-句点     punct     。     False    False"
      ]
     },
     "execution_count": 11,
     "metadata": {},
     "output_type": "execute_result"
    }
   ],
   "source": [
    "tokensInfo(jdoc1)"
   ]
  },
  {
   "cell_type": "markdown",
   "id": "63d83a02-4dc0-431a-a200-500be36da7be",
   "metadata": {},
   "source": [
    "### Token Attributes\n",
    "\n",
    "spaCy, when being passed in with a text, will parse the text and create a list of tokens and assign language attributes to those tokens\n",
    "\n",
    "| Attribute | Description | Example `edoc1[3]` |\n",
    "|-----------|-------------|--------------------|\n",
    "| `.text` | The original word text | `looking` |\n",
    "| `.lemma_` | The base form of the word | `look` |\n",
    "| `.pos_` | The simple [UPOS](https://universaldependencies.org/u/pos/) part-of-speech tag | `VERB` |\n",
    "| `.tag_` | The detailed part-of-speech tag | `VBG` |\n",
    "| `.dep_` | Syntactic dependency, i.e. the relation between tokens | `ROOT` |\n",
    "| `.shape_` | The word shape – capitalization, punctuation, digits | `xxxx` |\n",
    "| `.is_alpha` | Is the token an alpha character? | `True` |\n",
    "| `.is_stop` | Is the token part of a stop list, i.e. the most common words of the language? | `False` |"
   ]
  },
  {
   "cell_type": "markdown",
   "id": "8b3d7bf3-81d3-488b-84b7-7ebf9c430c5d",
   "metadata": {},
   "source": [
    "### Understanding Tags and Labels\n",
    "\n",
    "Most of the tags and labels look pretty abstract, and they vary between languages. `spacy.explain` will show you a short description – for example, `spacy.explain(\"VBZ\")` returns `\"verb, 3rd person singular present\"`."
   ]
  },
  {
   "cell_type": "code",
   "execution_count": 12,
   "id": "246a79aa-f5b2-43f0-9200-3dd0bd1eef95",
   "metadata": {},
   "outputs": [
    {
     "name": "stdout",
     "output_type": "stream",
     "text": [
      "PROPN proper noun\n",
      "NNP noun, proper singular\n",
      "nsubj nominal subject\n"
     ]
    },
    {
     "data": {
      "text/plain": [
       "Tesla"
      ]
     },
     "execution_count": 12,
     "metadata": {},
     "output_type": "execute_result"
    }
   ],
   "source": [
    "# We can use spacy.explain() function to get the full name of a tag\n",
    "token = edoc1[0]\n",
    "print(token.pos_, spacy.explain(token.pos_))\n",
    "print(token.tag_, spacy.explain(token.tag_))\n",
    "print(token.dep_, spacy.explain(token.dep_))\n",
    "token"
   ]
  },
  {
   "cell_type": "markdown",
   "id": "643e04d9-d0c3-41d9-a534-298572de394b",
   "metadata": {},
   "source": [
    "## Spans\n",
    "\n",
    "We can extract a part (slice) of a larger `spaCy Doc` to create a [span](https://spacy.io/api/span) object that contains only some consecutive words.\n",
    "\n",
    "> `doc[start : end]`"
   ]
  },
  {
   "cell_type": "code",
   "execution_count": 13,
   "id": "ec12f5e6-7717-4a71-ab90-af010e353674",
   "metadata": {},
   "outputs": [
    {
     "name": "stdout",
     "output_type": "stream",
     "text": [
      "The tradition originated with the ancient Celtic festival\n"
     ]
    },
    {
     "data": {
      "text/plain": [
       "spacy.tokens.span.Span"
      ]
     },
     "execution_count": 13,
     "metadata": {},
     "output_type": "execute_result"
    }
   ],
   "source": [
    "edoc2 = enlp(u'Halloween is a holiday celebrated each year on October 31, \\\n",
    "and Halloween 2021 will occur on Sunday, October 31. The tradition originated \\\n",
    "with the ancient Celtic festival of Samhain, when people would light bonfires \\\n",
    "and wear costumes to ward off ghosts. In the eighth century, Pope Gregory III \\\n",
    "designated November 1 as a time to honor all saints.')\n",
    "\n",
    "span1 = edoc2[22:30]\n",
    "print(span1)\n",
    "type(span1)"
   ]
  },
  {
   "cell_type": "code",
   "execution_count": 14,
   "id": "2f973130-c1b6-4d37-a744-1c70ef018440",
   "metadata": {},
   "outputs": [
    {
     "name": "stdout",
     "output_type": "stream",
     "text": [
      "新型コロナウイルスに感染していたこと\n"
     ]
    },
    {
     "data": {
      "text/plain": [
       "spacy.tokens.span.Span"
      ]
     },
     "execution_count": 14,
     "metadata": {},
     "output_type": "execute_result"
    }
   ],
   "source": [
    "jdoc2 = jnlp(u'水際対策を強化しているアフリカ南部のナミビアから入国した\\\n",
    "30代の男性が新型コロナウイルスに感染していたことが分かり、厚生労働省は、\\\n",
    "国立感染症研究所でオミクロン株の感染かどうか詳しい解析を進めることにしています。\\\n",
    "岸田総理大臣は「わが国はG7の中でも最高のワクチン接種率かつ2回目の接種から\\\n",
    "最も日が浅い状況だ。マスク着用をはじめ行動自粛への国民の協力なども世界が称賛している。\\\n",
    "オミクロン株のリスクへの耐性は各国以上に強いと認識している。\\\n",
    "国民は落ち着いて対応するよう呼びかけたい」と強調しました。')\n",
    "\n",
    "span2 = jdoc2[20:30]\n",
    "print(span2)\n",
    "type(span2)"
   ]
  },
  {
   "cell_type": "markdown",
   "id": "109618fd-08fd-4358-8a98-b3ff28a45539",
   "metadata": {},
   "source": [
    "## Sentences\n",
    "\n",
    "`spaCy Doc.sents` returns a list of sentences for the given spaCy document."
   ]
  },
  {
   "cell_type": "code",
   "execution_count": 15,
   "id": "f3788377-675e-4502-8392-d04e8706ae51",
   "metadata": {},
   "outputs": [
    {
     "name": "stdout",
     "output_type": "stream",
     "text": [
      "Halloween is a holiday celebrated each year on October 31, and Halloween 2021 will occur on Sunday, October 31.\n",
      "The tradition originated with the ancient Celtic festival of Samhain, when people would light bonfires and wear costumes to ward off ghosts.\n",
      "In the eighth century, Pope Gregory III designated November 1 as a time to honor all saints.\n"
     ]
    }
   ],
   "source": [
    "for sentence in edoc2.sents:\n",
    "    print(sentence)"
   ]
  },
  {
   "cell_type": "code",
   "execution_count": 16,
   "id": "ff411f97-84e7-44be-a031-0cef44ceef48",
   "metadata": {},
   "outputs": [
    {
     "name": "stdout",
     "output_type": "stream",
     "text": [
      "水際対策を強化しているアフリカ南部のナミビアから入国した30代の男性が新型コロナウイルスに感染していたことが分かり、厚生労働省は、国立感染症研究所でオミクロン株の感染かどうか詳しい解析を進めることにしています。\n",
      "岸田総理大臣は「わが国はG7の中でも最高のワクチン接種率かつ2回目の接種から最も日が浅い状況だ。\n",
      "マスク着用をはじめ行動自粛への国民の協力なども世界が称賛している。\n",
      "オミクロン株のリスクへの耐性は各国以上に強いと認識している。\n",
      "国民は落ち着いて対応するよう呼びかけたい」と強調しました。\n"
     ]
    }
   ],
   "source": [
    "for sentence in jdoc2.sents:\n",
    "    print(sentence)"
   ]
  },
  {
   "cell_type": "code",
   "execution_count": 17,
   "id": "4777a2e9-a225-4347-ac4c-8d0447c6e5c4",
   "metadata": {},
   "outputs": [
    {
     "name": "stdout",
     "output_type": "stream",
     "text": [
      "Halloween\n"
     ]
    },
    {
     "data": {
      "text/plain": [
       "True"
      ]
     },
     "execution_count": 17,
     "metadata": {},
     "output_type": "execute_result"
    }
   ],
   "source": [
    "# We can also check if a word is the start of a sentence\n",
    "print(edoc2[0])\n",
    "edoc2[0].is_sent_start"
   ]
  },
  {
   "cell_type": "code",
   "execution_count": 18,
   "id": "3e58e8c3-0323-4ad8-815f-8bac8058c0cb",
   "metadata": {},
   "outputs": [
    {
     "name": "stdout",
     "output_type": "stream",
     "text": [
      "対策\n"
     ]
    },
    {
     "data": {
      "text/plain": [
       "False"
      ]
     },
     "execution_count": 18,
     "metadata": {},
     "output_type": "execute_result"
    }
   ],
   "source": [
    "print(jdoc2[1])\n",
    "jdoc2[1].is_sent_start"
   ]
  }
 ],
 "metadata": {
  "kernelspec": {
   "display_name": "Python 3",
   "language": "python",
   "name": "python3"
  },
  "language_info": {
   "codemirror_mode": {
    "name": "ipython",
    "version": 3
   },
   "file_extension": ".py",
   "mimetype": "text/x-python",
   "name": "python",
   "nbconvert_exporter": "python",
   "pygments_lexer": "ipython3",
   "version": "3.9.7"
  }
 },
 "nbformat": 4,
 "nbformat_minor": 5
}
