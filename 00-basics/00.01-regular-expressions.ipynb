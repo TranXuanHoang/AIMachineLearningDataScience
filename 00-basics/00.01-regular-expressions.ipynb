{
 "cells": [
  {
   "cell_type": "markdown",
   "id": "ecb01239",
   "metadata": {},
   "source": [
    "# Regular Expressions\n",
    "\n",
    "Regular expressions (also called `Regex` for short) are usually used to search for patterns in text strings. Python has a library [re](https://docs.python.org/3/library/re.html) providing many useful utility methods to handle `regex`."
   ]
  },
  {
   "cell_type": "markdown",
   "id": "51a3b64d",
   "metadata": {},
   "source": [
    "## Normal way to check if a phrase is in a text"
   ]
  },
  {
   "cell_type": "code",
   "execution_count": 1,
   "id": "bb24b622",
   "metadata": {},
   "outputs": [
    {
     "data": {
      "text/plain": [
       "'The phone number of the agent is 230-111-1234. The phone is available 24/7. Call soon! You can also call 123-456-7890.'"
      ]
     },
     "execution_count": 1,
     "metadata": {},
     "output_type": "execute_result"
    }
   ],
   "source": [
    "text = 'The phone number of the agent is 230-111-1234. The phone is available 24/7. Call soon! You can also call 123-456-7890.'\n",
    "text"
   ]
  },
  {
   "cell_type": "code",
   "execution_count": 2,
   "id": "956e79ac",
   "metadata": {},
   "outputs": [
    {
     "data": {
      "text/plain": [
       "True"
      ]
     },
     "execution_count": 2,
     "metadata": {},
     "output_type": "execute_result"
    }
   ],
   "source": [
    "'230-111-1234' in text"
   ]
  },
  {
   "cell_type": "code",
   "execution_count": 3,
   "id": "debd3034",
   "metadata": {},
   "outputs": [],
   "source": [
    "import re"
   ]
  },
  {
   "cell_type": "code",
   "execution_count": 4,
   "id": "02238725",
   "metadata": {},
   "outputs": [],
   "source": [
    "pattern = 'phone'"
   ]
  },
  {
   "cell_type": "code",
   "execution_count": 5,
   "id": "64239674",
   "metadata": {},
   "outputs": [
    {
     "data": {
      "text/plain": [
       "<re.Match object; span=(4, 9), match='phone'>"
      ]
     },
     "execution_count": 5,
     "metadata": {},
     "output_type": "execute_result"
    }
   ],
   "source": [
    "# re.search() only searches and returns the first found match\n",
    "first_match = re.search(pattern, text)\n",
    "first_match"
   ]
  },
  {
   "cell_type": "code",
   "execution_count": 6,
   "id": "8b0f26cd",
   "metadata": {},
   "outputs": [
    {
     "data": {
      "text/plain": [
       "(4, 9)"
      ]
     },
     "execution_count": 6,
     "metadata": {},
     "output_type": "execute_result"
    }
   ],
   "source": [
    "first_match.span()"
   ]
  },
  {
   "cell_type": "code",
   "execution_count": 7,
   "id": "87c24bdb",
   "metadata": {},
   "outputs": [
    {
     "data": {
      "text/plain": [
       "4"
      ]
     },
     "execution_count": 7,
     "metadata": {},
     "output_type": "execute_result"
    }
   ],
   "source": [
    "first_match.start()"
   ]
  },
  {
   "cell_type": "code",
   "execution_count": 8,
   "id": "279c73b9",
   "metadata": {},
   "outputs": [
    {
     "data": {
      "text/plain": [
       "9"
      ]
     },
     "execution_count": 8,
     "metadata": {},
     "output_type": "execute_result"
    }
   ],
   "source": [
    "first_match.end()"
   ]
  },
  {
   "cell_type": "code",
   "execution_count": 9,
   "id": "3368288a",
   "metadata": {},
   "outputs": [
    {
     "data": {
      "text/plain": [
       "['phone', 'phone']"
      ]
     },
     "execution_count": 9,
     "metadata": {},
     "output_type": "execute_result"
    }
   ],
   "source": [
    "# use re.findall(pattern, text) to search for all matches\n",
    "all_matches = re.findall(pattern, text)\n",
    "all_matches"
   ]
  },
  {
   "cell_type": "code",
   "execution_count": 10,
   "id": "89e48dec",
   "metadata": {},
   "outputs": [
    {
     "name": "stdout",
     "output_type": "stream",
     "text": [
      "(4, 9)\n",
      "phone\n",
      "phone\n",
      "(51, 56)\n",
      "phone\n",
      "phone\n"
     ]
    }
   ],
   "source": [
    "# re.finditer(pattern, text) returns a list of \n",
    "for match in re.finditer(pattern, text):\n",
    "    print(match.span()) # match.span() returns a tuple containing start and end indices of the match\n",
    "    startIndex, endIndex = match.span()\n",
    "    print(text[startIndex: endIndex])\n",
    "    print(match.group()) # match.group() is another way to get the actual text that matched"
   ]
  },
  {
   "cell_type": "markdown",
   "id": "33fefd8d",
   "metadata": {},
   "source": [
    "## Patterns"
   ]
  },
  {
   "cell_type": "markdown",
   "id": "bd3f1189",
   "metadata": {},
   "source": [
    "### Identifiers for Characters in Patterns\n",
    "\n",
    "Characters such as a digit or a single string have different codes that represent them. We can use these to build up a pattern string. Notice how these make heavy use of the backwards slash \\ . Because of this when defining a pattern string for regular expression we use the format:\n",
    "\n",
    "    r'mypattern'\n",
    "\n",
    "placing the r in front of the string allows Python to understand that the \\ in the pattern string are not meant to be escape slashes.\n",
    "\n",
    "Below you can find a table of all the possible identifiers:"
   ]
  },
  {
   "cell_type": "markdown",
   "id": "230df3f9",
   "metadata": {},
   "source": [
    "<table >\n",
    "<tr><th>Character</th><th>Description</th><th>Example Pattern Code</th><th >Exammple Match</th></tr>\n",
    "<tr><td><span >\\d</span></td><td>A digit</td><td>file_\\d\\d</td><td>file_25</td></tr>\n",
    "<tr><td><span >\\w</span></td><td>Alphanumeric</td><td>\\w-\\w\\w\\w</td><td>A-b_1</td></tr>\n",
    "<tr><td><span >\\s</span></td><td>White space</td><td>a\\sb\\sc</td><td>a b c</td></tr>\n",
    "<tr><td><span >\\D</span></td><td>A non digit</td><td>\\D\\D\\D</td><td>ABC</td></tr>\n",
    "<tr><td><span >\\W</span></td><td>Non-alphanumeric</td><td>\\W\\W\\W\\W\\W</td><td>*-+=)</td></tr>\n",
    "<tr><td><span >\\S</span></td><td>Non-whitespace</td><td>\\S\\S\\S\\S</td><td>Yoyo</td></tr>\n",
    "</table>"
   ]
  },
  {
   "cell_type": "code",
   "execution_count": 11,
   "id": "bd7acc09",
   "metadata": {},
   "outputs": [],
   "source": [
    "phone_pattern = r'\\d\\d\\d-\\d\\d\\d-\\d\\d\\d\\d'"
   ]
  },
  {
   "cell_type": "code",
   "execution_count": 12,
   "id": "b07ba995",
   "metadata": {},
   "outputs": [
    {
     "data": {
      "text/plain": [
       "<re.Match object; span=(33, 45), match='230-111-1234'>"
      ]
     },
     "execution_count": 12,
     "metadata": {},
     "output_type": "execute_result"
    }
   ],
   "source": [
    "first_phone_number = re.search(phone_pattern, text)\n",
    "first_phone_number"
   ]
  },
  {
   "cell_type": "code",
   "execution_count": 13,
   "id": "e9842fb7",
   "metadata": {},
   "outputs": [
    {
     "data": {
      "text/plain": [
       "'230-111-1234'"
      ]
     },
     "execution_count": 13,
     "metadata": {},
     "output_type": "execute_result"
    }
   ],
   "source": [
    "first_phone_number.group()"
   ]
  },
  {
   "cell_type": "code",
   "execution_count": 14,
   "id": "8dbd7be8",
   "metadata": {},
   "outputs": [
    {
     "name": "stdout",
     "output_type": "stream",
     "text": [
      "230-111-1234\n",
      "123-456-7890\n"
     ]
    }
   ],
   "source": [
    "all_phone_numbers = re.finditer(phone_pattern, text)\n",
    "for phone in all_phone_numbers:\n",
    "    print(phone.group())"
   ]
  },
  {
   "cell_type": "code",
   "execution_count": 15,
   "id": "18cce84f",
   "metadata": {},
   "outputs": [
    {
     "name": "stdout",
     "output_type": "stream",
     "text": [
      "['230-111-1234', '123-456-7890']\n"
     ]
    }
   ],
   "source": [
    "# Another way to search for phone numbers\n",
    "print(re.findall(phone_pattern, text))"
   ]
  },
  {
   "cell_type": "markdown",
   "id": "f38e7324",
   "metadata": {},
   "source": [
    "### Quantifiers\n",
    "\n",
    "Notice the repetition of \\d. That is a bit of an annoyance, especially if we are looking for very long strings of numbers. Let's explore the possible quantifiers.\n",
    "Now that we know the special character designations, we can use them along with quantifiers to define how many we expect.\n",
    "\n",
    "| Character | Description | Example Pattern Code | Exammple Match |\n",
    "|-----------|-------------|----------------------|----------------|\n",
    "| + | Occurs one or more times | Version \\w-\\w+ | Version A-b1_1 |\n",
    "| {3} | Occurs exactly 3 times | \\D{3} | abc |\n",
    "| {2,4}\t| Occurs 2 to 4 times | \\d{2,4} | 123 |\n",
    "| {3,} | Occurs 3 or more | \\w{3,} | anycharacters |\n",
    "| \\* | Occurs zero or more times | A\\*B\\*C* | AAACC |\n",
    "| ? | Once or none | plurals? | plural |"
   ]
  },
  {
   "cell_type": "code",
   "execution_count": 16,
   "id": "0b4587ce",
   "metadata": {},
   "outputs": [],
   "source": [
    "phone_quantified_pattern = r'\\d{3}-\\d{3}-\\d{4}'"
   ]
  },
  {
   "cell_type": "code",
   "execution_count": 17,
   "id": "1dc1ce6a",
   "metadata": {},
   "outputs": [
    {
     "name": "stdout",
     "output_type": "stream",
     "text": [
      "['230-111-1234', '123-456-7890']\n"
     ]
    }
   ],
   "source": [
    "print(re.findall(phone_quantified_pattern, text))"
   ]
  },
  {
   "cell_type": "markdown",
   "id": "c366a6c4",
   "metadata": {},
   "source": [
    "### Groups\n",
    "\n",
    "What if we wanted to do two tasks, find phone numbers, but also be able to quickly extract their area code (the first three digits). We can use groups for any general task that involves grouping together regular expressions (so that we can later break them down).\n",
    "\n",
    "    r'(group1)(group2)'\n",
    "\n",
    "We can separate groups of regular expressions using parentheses:"
   ]
  },
  {
   "cell_type": "code",
   "execution_count": 18,
   "id": "5a795514",
   "metadata": {},
   "outputs": [],
   "source": [
    "phone_grouped_pattern = re.compile(r'(\\d{3})-(\\d{3})-(\\d{4})')"
   ]
  },
  {
   "cell_type": "code",
   "execution_count": 19,
   "id": "d3acbc3a",
   "metadata": {},
   "outputs": [
    {
     "data": {
      "text/plain": [
       "<re.Match object; span=(33, 45), match='230-111-1234'>"
      ]
     },
     "execution_count": 19,
     "metadata": {},
     "output_type": "execute_result"
    }
   ],
   "source": [
    "# Search for first match\n",
    "first_result = re.search(phone_grouped_pattern, text)\n",
    "first_result"
   ]
  },
  {
   "cell_type": "code",
   "execution_count": 20,
   "id": "12c0ec21",
   "metadata": {},
   "outputs": [
    {
     "name": "stdout",
     "output_type": "stream",
     "text": [
      "230-111-1234\n",
      "230\n",
      "111\n",
      "1234\n"
     ]
    }
   ],
   "source": [
    "print(first_result.group()) # Group the entire match\n",
    "print(first_result.group(1)) # Extract the first group\n",
    "print(first_result.group(2)) # Extract the second group\n",
    "print(first_result.group(3)) # Extract the third group"
   ]
  },
  {
   "cell_type": "code",
   "execution_count": 21,
   "id": "1b3b3da2",
   "metadata": {},
   "outputs": [
    {
     "name": "stdout",
     "output_type": "stream",
     "text": [
      "230-111-1234\n",
      "230\n",
      "111\n",
      "1234\n",
      "123-456-7890\n",
      "123\n",
      "456\n",
      "7890\n"
     ]
    }
   ],
   "source": [
    "# Search for all match\n",
    "all_results = re.finditer(phone_grouped_pattern, text)\n",
    "for result in all_results:\n",
    "    print(result.group()) # Group the entire match\n",
    "    print(result.group(1)) # Extract the first group\n",
    "    print(result.group(2)) # Extract the second group\n",
    "    print(result.group(3)) # Extract the third group"
   ]
  },
  {
   "cell_type": "markdown",
   "id": "b11c75be",
   "metadata": {},
   "source": [
    "## Additional Regex Syntax"
   ]
  },
  {
   "cell_type": "markdown",
   "id": "cd6b6839",
   "metadata": {},
   "source": [
    "### `Or` operator `|` (also called `pipe` operator)"
   ]
  },
  {
   "cell_type": "code",
   "execution_count": 22,
   "id": "f84a9fe9",
   "metadata": {},
   "outputs": [
    {
     "data": {
      "text/plain": [
       "['book', 'computer']"
      ]
     },
     "execution_count": 22,
     "metadata": {},
     "output_type": "execute_result"
    }
   ],
   "source": [
    "# Use | to have an or statement\n",
    "re.findall(r'book|computer', 'I am reading a book about computer science.')"
   ]
  },
  {
   "cell_type": "markdown",
   "id": "36025734",
   "metadata": {},
   "source": [
    "### `Wildcard` character `.`"
   ]
  },
  {
   "cell_type": "code",
   "execution_count": 23,
   "id": "d7546ab2",
   "metadata": {},
   "outputs": [
    {
     "data": {
      "text/plain": [
       "['took', 'cook', 'book']"
      ]
     },
     "execution_count": 23,
     "metadata": {},
     "output_type": "execute_result"
    }
   ],
   "source": [
    "# Use a \"wildcard\" as a placement that will match any character placed there. You can use a simple period . for this.\n",
    "re.findall(r'.ook', 'I took money to buy a cook book for learning Python')"
   ]
  },
  {
   "cell_type": "code",
   "execution_count": 24,
   "id": "186d74a1",
   "metadata": {},
   "outputs": [
    {
     "data": {
      "text/plain": [
       "['Look', 'took', 'cook', 'book']"
      ]
     },
     "execution_count": 24,
     "metadata": {},
     "output_type": "execute_result"
    }
   ],
   "source": [
    "# Another more flexible way to do the above search\n",
    "# One or more non-whitespace that ends with 'ok'\n",
    "re.findall(r'\\S+ok', 'Look, I took money to buy a cook book for learning Python')"
   ]
  },
  {
   "cell_type": "markdown",
   "id": "365f5e82",
   "metadata": {},
   "source": [
    "### `Starts with` (`^`) and `ends with` (`$`)\n",
    "\n",
    "We can use the **^** to signal starts with, and the **$** to signal ends with:"
   ]
  },
  {
   "cell_type": "code",
   "execution_count": 25,
   "id": "681a326b",
   "metadata": {},
   "outputs": [],
   "source": [
    "sample_sentences = [\n",
    "    '123 people registered for an account',\n",
    "    'no number like 123 at the start and end of the sentence',\n",
    "    'the number of objects is 1234'\n",
    "]"
   ]
  },
  {
   "cell_type": "code",
   "execution_count": 26,
   "id": "89ed4089",
   "metadata": {},
   "outputs": [
    {
     "data": {
      "text/plain": [
       "['the number of objects is 1234']"
      ]
     },
     "execution_count": 26,
     "metadata": {},
     "output_type": "execute_result"
    }
   ],
   "source": [
    "# Find all sentences that end with at least a number - f'\\d+$'\n",
    "[sentence for sentence in sample_sentences if len(re.findall(f'\\d+$', sentence))]"
   ]
  },
  {
   "cell_type": "code",
   "execution_count": 27,
   "id": "5e973414",
   "metadata": {},
   "outputs": [
    {
     "data": {
      "text/plain": [
       "['123 people registered for an account']"
      ]
     },
     "execution_count": 27,
     "metadata": {},
     "output_type": "execute_result"
    }
   ],
   "source": [
    "# Find all sentences that start with a least a number - f'^\\d+'\n",
    "[sentence for sentence in sample_sentences if len(re.findall(f'^\\d+', sentence))]"
   ]
  },
  {
   "cell_type": "code",
   "execution_count": 28,
   "id": "78c289e4",
   "metadata": {},
   "outputs": [
    {
     "data": {
      "text/plain": [
       "['123']"
      ]
     },
     "execution_count": 28,
     "metadata": {},
     "output_type": "execute_result"
    }
   ],
   "source": [
    "re.findall(f'^\\d+', sample_sentences[0])"
   ]
  },
  {
   "cell_type": "markdown",
   "id": "1b1c8320",
   "metadata": {},
   "source": [
    "### Exclusion\n",
    "\n",
    "To exclude characters, we can use the **^** symbol in conjunction with a set of brackets **[]**. Anything inside the brackets is excluded."
   ]
  },
  {
   "cell_type": "code",
   "execution_count": 29,
   "id": "802bd9f1",
   "metadata": {},
   "outputs": [
    {
     "data": {
      "text/plain": [
       "['o',\n",
       " 'n',\n",
       " 'e',\n",
       " ' ',\n",
       " 't',\n",
       " 'h',\n",
       " 'i',\n",
       " 'n',\n",
       " 'g',\n",
       " ' ',\n",
       " 'w',\n",
       " 'e',\n",
       " ' ',\n",
       " 'c',\n",
       " 'a',\n",
       " 'n',\n",
       " ' ',\n",
       " 'd',\n",
       " 'o',\n",
       " ' ',\n",
       " 'i',\n",
       " 's',\n",
       " ' ',\n",
       " 't',\n",
       " 'o',\n",
       " ' ',\n",
       " 'a',\n",
       " 'd',\n",
       " 'd',\n",
       " ' ',\n",
       " ' ',\n",
       " 'a',\n",
       " 'n',\n",
       " 'd',\n",
       " ' ',\n",
       " ' ',\n",
       " 't',\n",
       " 'o',\n",
       " ' ',\n",
       " 'g',\n",
       " 'e',\n",
       " 't',\n",
       " ' ',\n",
       " '.']"
      ]
     },
     "execution_count": 29,
     "metadata": {},
     "output_type": "execute_result"
    }
   ],
   "source": [
    "# Exclude any characters that are number\n",
    "phrase = 'one thing we can do is to add 3 and 4 to get 7.'\n",
    "re.findall(f'[^\\d]', phrase)"
   ]
  },
  {
   "cell_type": "code",
   "execution_count": 30,
   "id": "ddc3376f",
   "metadata": {},
   "outputs": [
    {
     "data": {
      "text/plain": [
       "['one thing we can do is to add ', ' and ', ' to get ', '.']"
      ]
     },
     "execution_count": 30,
     "metadata": {},
     "output_type": "execute_result"
    }
   ],
   "source": [
    "# To get the words back together\n",
    "re.findall(f'[^\\d]+', phrase)"
   ]
  },
  {
   "cell_type": "code",
   "execution_count": 31,
   "id": "d670d7ea",
   "metadata": {},
   "outputs": [
    {
     "data": {
      "text/plain": [
       "['This',\n",
       " 'sentence',\n",
       " 'is',\n",
       " 'a',\n",
       " 'string',\n",
       " 'and',\n",
       " 'includes',\n",
       " 'punctuation',\n",
       " 'How',\n",
       " 'to',\n",
       " 'remove',\n",
       " 'thems',\n",
       " 'Can',\n",
       " 'you',\n",
       " 'try']"
      ]
     },
     "execution_count": 31,
     "metadata": {},
     "output_type": "execute_result"
    }
   ],
   "source": [
    "# Using the same technique above, we can remove punctuation from a sentence\n",
    "sentence_includes_punc = 'This sentence is a string, and includes punctuation. How to remove thems? Can you try?!'\n",
    "re.findall(f'[^,.?! ]+', sentence_includes_punc)"
   ]
  },
  {
   "cell_type": "code",
   "execution_count": 32,
   "id": "3f18c43c",
   "metadata": {},
   "outputs": [
    {
     "data": {
      "text/plain": [
       "'This sentence is a string and includes punctuation How to remove thems Can you try'"
      ]
     },
     "execution_count": 32,
     "metadata": {},
     "output_type": "execute_result"
    }
   ],
   "source": [
    "sentence_punc_excluded = ' '.join(re.findall(f'[^,.?! ]+', sentence_includes_punc))\n",
    "sentence_punc_excluded"
   ]
  },
  {
   "cell_type": "markdown",
   "id": "d55c03f1",
   "metadata": {},
   "source": [
    "### Brackets `[]` for grouping\n",
    "\n",
    "As shown above, we can use brackets to group together options that specify `sets` of characters\n",
    "\n",
    "* `[amk]` will match `'a'`, `'m'`, or `'k'`\n",
    "* `[a-z]` will match any lowercase ASCII letter\n",
    "* Special characters lose their special meaning inside sets. For example, `[(+*)]` will match any of the literal characters `'('`, `'+'`, `'*'`, or `')'`"
   ]
  },
  {
   "cell_type": "code",
   "execution_count": 33,
   "id": "5281adc1",
   "metadata": {},
   "outputs": [
    {
     "data": {
      "text/plain": [
       "['(one)', '(very important)', '(two)']"
      ]
     },
     "execution_count": 33,
     "metadata": {},
     "output_type": "execute_result"
    }
   ],
   "source": [
    "# Find all phrase wrapped with an open and close parenthesis\n",
    "# [(] matches open parenthesis\n",
    "# [\\w\\s]+ matches one or more either alphanumeric \\w or whitespace \\s characters\n",
    "# [)] matches close parenthesis\n",
    "re.findall(r'[(][\\w\\s]+[)]', '1 (one) is an integer number that is (very important) in mathematics. 2 (two) is an even number.')"
   ]
  },
  {
   "cell_type": "code",
   "execution_count": 34,
   "id": "966b3453",
   "metadata": {},
   "outputs": [
    {
     "data": {
      "text/plain": [
       "['my_var_name', 'source-code', 'descrip-tive']"
      ]
     },
     "execution_count": 34,
     "metadata": {},
     "output_type": "execute_result"
    }
   ],
   "source": [
    "# Find all hyphenated and/or underscored words\n",
    "re.findall(f'[\\w]+[-_][\\w]+', 'A variable name can be like my_var_name. When writing source-code we should use descrip-tive names.')"
   ]
  },
  {
   "cell_type": "markdown",
   "id": "86de9609",
   "metadata": {},
   "source": [
    "### Parentheses `()` for multiple options\n",
    "\n",
    "If we have multiple matching options, we can use `()` and pipe `|` operator to list them out:\n",
    "\n",
    "`(A|B|C)` means either `A` or `B` or `C` regex expression can match"
   ]
  },
  {
   "cell_type": "code",
   "execution_count": 35,
   "id": "9eff8b6d",
   "metadata": {},
   "outputs": [
    {
     "data": {
      "text/plain": [
       "[('test@mail.', 'com'), ('fantastic@mail.', 'dev'), ('e@mail.', 'io')]"
      ]
     },
     "execution_count": 35,
     "metadata": {},
     "output_type": "execute_result"
    }
   ],
   "source": [
    "# Find all email end with either 'com', 'io' or 'dev'\n",
    "email_pattern = r'([\\w]+[@][\\w]+[.])(com|io|dev)'\n",
    "emails = 'test@mail.com, booking@domain.foo, fantastic@mail.dev, e@mail.io'\n",
    "re.findall(email_pattern, emails)"
   ]
  },
  {
   "cell_type": "code",
   "execution_count": 36,
   "id": "fcbab84c",
   "metadata": {},
   "outputs": [
    {
     "data": {
      "text/plain": [
       "['test@mail.com', 'fantastic@mail.dev', 'e@mail.io']"
      ]
     },
     "execution_count": 36,
     "metadata": {},
     "output_type": "execute_result"
    }
   ],
   "source": [
    "[email.group() for email in re.finditer(email_pattern, emails)]"
   ]
  }
 ],
 "metadata": {
  "kernelspec": {
   "display_name": "Python 3",
   "language": "python",
   "name": "python3"
  },
  "language_info": {
   "codemirror_mode": {
    "name": "ipython",
    "version": 3
   },
   "file_extension": ".py",
   "mimetype": "text/x-python",
   "name": "python",
   "nbconvert_exporter": "python",
   "pygments_lexer": "ipython3",
   "version": "3.9.6"
  }
 },
 "nbformat": 4,
 "nbformat_minor": 5
}
