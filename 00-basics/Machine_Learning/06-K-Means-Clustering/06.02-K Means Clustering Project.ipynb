{
 "cells": [
  {
   "cell_type": "markdown",
   "id": "46c3fe46-cd82-4fdd-8979-d88f409f8a59",
   "metadata": {},
   "source": [
    "# K Means Clustering Project\n",
    "\n",
    "This project will attempt to use `K Means Clustering` to cluster **Universities** into two groups, **Private** and **Public**.\n",
    "\n",
    "It is **very important to note, we actually have the labels for this data set, but we will NOT use them for the `K Means Clustering` algorithm, since that is an unsupervised learning algorithm**.\n",
    "\n",
    "When using the `K Means` algorithm under normal circumstances, it is because we don't have labels. In this case we will use the labels to try to get an idea of how well the algorithm performed, but we won't usually do this for `K Means`, so the classification report and confusion matrix at the end of this project, don't truly make sense in a real world setting!\n",
    "\n",
    "## The Data\n",
    "\n",
    "> `College_Data.csv` with 777 observations on the following 18 variables:\n",
    "* `Private` A factor with levels No and Yes indicating private or public university\n",
    "* `Apps` Number of applications received\n",
    "* `Accept` Number of applications accepted\n",
    "* `Enroll` Number of new students enrolled\n",
    "* `Top10perc` Pct. new students from top 10% of H.S. class\n",
    "* `Top25perc` Pct. new students from top 25% of H.S. class\n",
    "* `F.Undergrad` Number of fulltime undergraduates\n",
    "* `P.Undergrad` Number of parttime undergraduates\n",
    "* `Outstate` Out-of-state tuition\n",
    "* `Room.Board` Room and board costs\n",
    "* `Books` Estimated book costs\n",
    "* `Personal` Estimated personal spending\n",
    "* `PhD` Pct. of faculty with Ph.D.’s\n",
    "* `Terminal` Pct. of faculty with terminal degree\n",
    "* `S.F.Ratio` Student/faculty ratio\n",
    "* `perc.alumni` Pct. alumni who donate\n",
    "* `Expend` Instructional expenditure per student\n",
    "* `Grad.Rate` Graduation rate"
   ]
  },
  {
   "cell_type": "code",
   "execution_count": null,
   "id": "45a8396a-9726-4af3-a488-311fbdaeaaf1",
   "metadata": {},
   "outputs": [],
   "source": [
    "import pandas as pd\n",
    "import numpy as np\n",
    "import matplotlib.pyplot as plt\n",
    "import seaborn as sns\n",
    "\n",
    "%matplotlib inline"
   ]
  },
  {
   "cell_type": "markdown",
   "id": "45edd776-2f72-4080-88c3-dd5c04362458",
   "metadata": {},
   "source": [
    "## Loading Data"
   ]
  },
  {
   "cell_type": "code",
   "execution_count": null,
   "id": "78d4b9e8-efaa-4231-9043-84cdbe57b248",
   "metadata": {},
   "outputs": [],
   "source": [
    "# Read in the College_Data.csv file and set the first column as the index\n",
    "universities = pd.read_csv('College_Data.csv', index_col=0)"
   ]
  },
  {
   "cell_type": "code",
   "execution_count": null,
   "id": "eeea9f1f-9ef2-4e2c-b8d6-ebdd92f5bd9c",
   "metadata": {},
   "outputs": [],
   "source": [
    "# Check the head of the data\n",
    "universities.head()"
   ]
  },
  {
   "cell_type": "code",
   "execution_count": null,
   "id": "91560c15-9124-4d88-9e42-67d25cb9447d",
   "metadata": {},
   "outputs": [],
   "source": [
    "# Check the info() method on the data\n",
    "universities.info()"
   ]
  },
  {
   "cell_type": "code",
   "execution_count": null,
   "id": "9e181398-45b5-47d6-b39f-16732ae3766d",
   "metadata": {},
   "outputs": [],
   "source": [
    "# Check the describe() on the data\n",
    "universities.describe()"
   ]
  },
  {
   "cell_type": "markdown",
   "id": "ef1b725b-53e5-4b15-ba98-f32d9fc215bc",
   "metadata": {},
   "source": [
    "## Exploratory Data Analysis"
   ]
  },
  {
   "cell_type": "code",
   "execution_count": null,
   "id": "54d87e7c-e1b4-4b89-89c8-b8b57cca153f",
   "metadata": {},
   "outputs": [],
   "source": [
    "# Create a scatteredplot of `Grad.Rate` versus `Room.Board` where\n",
    "# the points are colored by the `Private` column\n",
    "plt.figure(\n",
    "    figsize=(6.5, 6.5), # Size of plot\n",
    "    facecolor='#91EAD8', # The background color\n",
    ")\n",
    "\n",
    "sns.set(\n",
    "    rc={\n",
    "        'axes.facecolor':'#E0F9F4',\n",
    "        'figure.facecolor':'#E0F9F4'\n",
    "    }\n",
    ")\n",
    "\n",
    "sns.scatterplot(\n",
    "    data=universities,\n",
    "    x='Room.Board',\n",
    "    y='Grad.Rate',\n",
    "    hue='Private',\n",
    "    alpha=0.9,\n",
    ")"
   ]
  },
  {
   "cell_type": "code",
   "execution_count": null,
   "id": "3f9c8b35-75d3-4a9d-ba82-3a9a4e1eaa74",
   "metadata": {},
   "outputs": [],
   "source": [
    "# Create a scatterplot of `F.Undergrad` versus `Outstate` where\n",
    "# the points are colored by the `Private` column\n",
    "plt.figure(\n",
    "    figsize=(6.5, 6.5),\n",
    "    facecolor='white'\n",
    ")\n",
    "\n",
    "sns.set(\n",
    "    rc={\n",
    "        'axes.facecolor':'#F5F5E3',\n",
    "        'figure.facecolor':'white'\n",
    "    }\n",
    ")\n",
    "\n",
    "sns.scatterplot(\n",
    "    data=universities,\n",
    "    x='Outstate',\n",
    "    y='F.Undergrad',\n",
    "    hue='Private',\n",
    "    alpha=0.5\n",
    ")"
   ]
  },
  {
   "cell_type": "code",
   "execution_count": null,
   "id": "828b8c6f-4582-40b9-8750-07277cb1e47b",
   "metadata": {},
   "outputs": [],
   "source": [
    "# Create a stacked histogram showing `Outstate` (Out of State Tuition)\n",
    "# based on the `Private` column\n",
    "sns.set_theme() # Use seaborn default theme\n",
    "\n",
    "g = sns.FacetGrid(\n",
    "    data=universities,\n",
    "    height=4,\n",
    "    aspect=2 # width = aspect * height,\n",
    ")\n",
    "g.map_dataframe(sns.histplot, x='Outstate', hue='Private')\n",
    "g.set_xlabels(label='Outstate')"
   ]
  },
  {
   "cell_type": "code",
   "execution_count": null,
   "id": "d0ad52d2-ce5a-49aa-8236-6a50d28e1886",
   "metadata": {},
   "outputs": [],
   "source": [
    "# Create two separate histograms showing `Outstate` (Out of State Tuition)\n",
    "# based on the `Private` column\n",
    "sns.set_theme() # Use seaborn default theme\n",
    "\n",
    "g = sns.FacetGrid(\n",
    "    data=universities,\n",
    "    col='Private',\n",
    "    height=4,\n",
    "    aspect=2 # width = aspect * height,\n",
    ")\n",
    "g.map_dataframe(sns.histplot, x='Outstate', hue='Private')\n",
    "g.set_xlabels(label='Outstate')"
   ]
  },
  {
   "cell_type": "code",
   "execution_count": null,
   "id": "c5917e6f-378a-4f94-9ba0-b4151f04960f",
   "metadata": {},
   "outputs": [],
   "source": [
    "# Create a stacked histogram showing `Grad.Rate` (Graduation Rate)\n",
    "# based on the `Private` column\n",
    "sns.set_theme() # Use seaborn default theme\n",
    "\n",
    "g = sns.FacetGrid(\n",
    "    data=universities,\n",
    "    height=4,\n",
    "    aspect=2 # width = aspect * height,\n",
    ")\n",
    "g.map_dataframe(sns.histplot, x='Grad.Rate', hue='Private')\n",
    "g.set_xlabels(label='Graduation Rate')"
   ]
  },
  {
   "cell_type": "markdown",
   "id": "6fabd199-43c2-4cec-9d02-98058cf3c47f",
   "metadata": {},
   "source": [
    "<font color=magenta>Notice how there seems to be a private school with a graduation rate of higher than 100%. Let's find that school!</font>"
   ]
  },
  {
   "cell_type": "code",
   "execution_count": null,
   "id": "84a985ae-f558-4f0b-bc55-f729d9364094",
   "metadata": {},
   "outputs": [],
   "source": [
    "# Find school whose graduation rate is higher than 100%\n",
    "universities[universities['Grad.Rate'] > 100]"
   ]
  },
  {
   "cell_type": "markdown",
   "id": "f2492dfd-2283-4cff-a112-2430acf7b3f2",
   "metadata": {},
   "source": [
    "<font color=magenta>Fix the above exception case by setting that school's `Grad.Rate` to 100 - which is an acceptable percentage value expressing `Graduation Rate`.</font>"
   ]
  },
  {
   "cell_type": "code",
   "execution_count": null,
   "id": "ed373bc7-44dd-4b79-a8a1-02037a0c30f1",
   "metadata": {},
   "outputs": [],
   "source": [
    "# Fix `Grad.Rate` > 100\n",
    "universities.loc[universities['Grad.Rate'] > 100, 'Grad.Rate'] = 100"
   ]
  },
  {
   "cell_type": "code",
   "execution_count": null,
   "id": "88fc87b3-4cfc-4766-b7e0-00306859b5f6",
   "metadata": {},
   "outputs": [],
   "source": [
    "# Confirm that no university has a `Grad.Rate` of higher than 100\n",
    "# by recreating a stacked histogram showing `Grad.Rate` (Graduation Rate)\n",
    "# based on the `Private` column\n",
    "sns.set_theme() # Use seaborn default theme\n",
    "\n",
    "g = sns.FacetGrid(\n",
    "    data=universities,\n",
    "    height=4,\n",
    "    aspect=2 # width = aspect * height,\n",
    ")\n",
    "g.map_dataframe(sns.histplot, x='Grad.Rate', hue='Private')\n",
    "g.set_xlabels(label='Graduation Rate')"
   ]
  },
  {
   "cell_type": "markdown",
   "id": "8e7a7c1a-6711-4b58-b9c4-b2df33128d65",
   "metadata": {},
   "source": [
    "## K Means Cluster Creation"
   ]
  },
  {
   "cell_type": "code",
   "execution_count": null,
   "id": "44f4de3e-b104-4edf-8499-2879e6946251",
   "metadata": {},
   "outputs": [],
   "source": [
    "from sklearn.cluster import KMeans"
   ]
  },
  {
   "cell_type": "code",
   "execution_count": null,
   "id": "4dfe325e-7e7f-49ad-af96-8080f6970c73",
   "metadata": {},
   "outputs": [],
   "source": [
    "# Create an instance of a K Means model with 2 clusters\n",
    "kmeans = KMeans(n_clusters=2)"
   ]
  },
  {
   "cell_type": "code",
   "execution_count": null,
   "id": "dfb8437a-f27f-42db-922c-3915316e8421",
   "metadata": {},
   "outputs": [],
   "source": [
    "# Fit the model to all the data except for the Private label\n",
    "kmeans.fit(universities.drop('Private', axis=1))"
   ]
  },
  {
   "cell_type": "code",
   "execution_count": null,
   "id": "f260a6c1-bc06-4d2a-907f-f7b0846c2f4b",
   "metadata": {},
   "outputs": [],
   "source": [
    "# Check the cluster center vectors\n",
    "kmeans.cluster_centers_"
   ]
  },
  {
   "cell_type": "code",
   "execution_count": null,
   "id": "0fd2c107-1862-42fe-aec3-40abf8797db8",
   "metadata": {},
   "outputs": [],
   "source": [
    "# Check the cluster labels that the kmeans model returned\n",
    "kmeans.labels_"
   ]
  },
  {
   "cell_type": "markdown",
   "id": "f99c4b4d-17cf-4727-9d0d-3803df74fa46",
   "metadata": {},
   "source": [
    "## Evaluation"
   ]
  },
  {
   "cell_type": "markdown",
   "id": "74fda10d-5773-47fc-91c7-d4d4861eb39c",
   "metadata": {},
   "source": [
    "<font color=magenta>Normally, we don't have `prepared true` labels for real-world problems in the `unsupervised learning` domain. In this project, however, we have such kind of labels. We, therefore, can look into those true labels and the ones the `K Means Clustering` model predicted and see how good the model is.</font>"
   ]
  },
  {
   "cell_type": "code",
   "execution_count": null,
   "id": "835f4d4d-cbb6-4b68-9895-0a206d7ef017",
   "metadata": {},
   "outputs": [],
   "source": [
    "# Create a column for the `universities` DataFrame and call it 'Cluster',\n",
    "# which is a 1 for Private school, and a 0 for Public school.\n",
    "universities['Cluster'] = universities['Private'] == 'Yes'\n",
    "universities['Cluster'] = universities['Cluster'].astype(int)"
   ]
  },
  {
   "cell_type": "code",
   "execution_count": null,
   "id": "dc675a37-0c64-4e73-84dc-98bde8a4f1f9",
   "metadata": {},
   "outputs": [],
   "source": [
    "universities"
   ]
  },
  {
   "cell_type": "code",
   "execution_count": null,
   "id": "9faedef2-eb46-47ed-99b9-a07ff65920d0",
   "metadata": {},
   "outputs": [],
   "source": [
    "# Print out a classification report and a confusion matrix\n",
    "from sklearn.metrics import classification_report, confusion_matrix\n",
    "\n",
    "print(classification_report(universities['Cluster'], kmeans.labels_))\n",
    "print(confusion_matrix(universities['Cluster'], kmeans.labels_))"
   ]
  },
  {
   "cell_type": "markdown",
   "id": "bdecbf38-9e83-4621-bd8a-c83c1c64de3c",
   "metadata": {},
   "source": [
    "<font color=magenta>Not so bad considering the algorithm is purely using the features to cluster the universities into 2 distinct groups! That is what `K Means` is useful for clustering `un-labeled` data.</font>"
   ]
  }
 ],
 "metadata": {
  "kernelspec": {
   "display_name": "Python 3",
   "language": "python",
   "name": "python3"
  },
  "language_info": {
   "codemirror_mode": {
    "name": "ipython",
    "version": 3
   },
   "file_extension": ".py",
   "mimetype": "text/x-python",
   "name": "python",
   "nbconvert_exporter": "python",
   "pygments_lexer": "ipython3",
   "version": "3.9.7"
  }
 },
 "nbformat": 4,
 "nbformat_minor": 5
}
