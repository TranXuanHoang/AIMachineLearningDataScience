{
 "cells": [
  {
   "cell_type": "markdown",
   "id": "9b380880-6080-48c7-8d10-e2cf2200ddd8",
   "metadata": {
    "tags": []
   },
   "source": [
    "# Keras Basics\n",
    "\n",
    "In this notebook, we will be working through a simple regression project to understand the basics of the [Keras](https://keras.io/) syntax. Keras has been intergrated as a module of `TensorFlow 2.0` onward and is now the main API choice when working with TensorFlow."
   ]
  },
  {
   "cell_type": "markdown",
   "id": "22fc6391-c03b-4396-9525-d4f4eec1f876",
   "metadata": {},
   "source": [
    "## The Data\n",
    "\n",
    "For this notebook, we will use a very simple fake data set.\n",
    "\n",
    "> [fake_reg.csv](data/fake_reg.csv)\n",
    "\n",
    "Let's pretend this data are measurements of some rare gem stones, with 2 measurement features and a sale price. Our final goal would be to try to predict the sale price of a new gem stone we just mined from the ground, in order to try to set a fair price in the market."
   ]
  },
  {
   "cell_type": "markdown",
   "id": "f2c5dfee-94fd-4062-b48b-8c3cdbab2533",
   "metadata": {},
   "source": [
    "### Loading the Data"
   ]
  },
  {
   "cell_type": "code",
   "execution_count": 1,
   "id": "d5098891-7651-4220-b483-a1f9f2dd9be7",
   "metadata": {},
   "outputs": [],
   "source": [
    "import pandas as pd"
   ]
  },
  {
   "cell_type": "code",
   "execution_count": 2,
   "id": "e58c7e2d-5d1f-4087-9888-1da648c9d77e",
   "metadata": {},
   "outputs": [
    {
     "data": {
      "text/html": [
       "<div>\n",
       "<style scoped>\n",
       "    .dataframe tbody tr th:only-of-type {\n",
       "        vertical-align: middle;\n",
       "    }\n",
       "\n",
       "    .dataframe tbody tr th {\n",
       "        vertical-align: top;\n",
       "    }\n",
       "\n",
       "    .dataframe thead th {\n",
       "        text-align: right;\n",
       "    }\n",
       "</style>\n",
       "<table border=\"1\" class=\"dataframe\">\n",
       "  <thead>\n",
       "    <tr style=\"text-align: right;\">\n",
       "      <th></th>\n",
       "      <th>price</th>\n",
       "      <th>feature1</th>\n",
       "      <th>feature2</th>\n",
       "    </tr>\n",
       "  </thead>\n",
       "  <tbody>\n",
       "    <tr>\n",
       "      <th>0</th>\n",
       "      <td>461.527929</td>\n",
       "      <td>999.787558</td>\n",
       "      <td>999.766096</td>\n",
       "    </tr>\n",
       "    <tr>\n",
       "      <th>1</th>\n",
       "      <td>548.130011</td>\n",
       "      <td>998.861615</td>\n",
       "      <td>1001.042403</td>\n",
       "    </tr>\n",
       "    <tr>\n",
       "      <th>2</th>\n",
       "      <td>410.297162</td>\n",
       "      <td>1000.070267</td>\n",
       "      <td>998.844015</td>\n",
       "    </tr>\n",
       "    <tr>\n",
       "      <th>3</th>\n",
       "      <td>540.382220</td>\n",
       "      <td>999.952251</td>\n",
       "      <td>1000.440940</td>\n",
       "    </tr>\n",
       "    <tr>\n",
       "      <th>4</th>\n",
       "      <td>546.024553</td>\n",
       "      <td>1000.446011</td>\n",
       "      <td>1000.338531</td>\n",
       "    </tr>\n",
       "    <tr>\n",
       "      <th>...</th>\n",
       "      <td>...</td>\n",
       "      <td>...</td>\n",
       "      <td>...</td>\n",
       "    </tr>\n",
       "    <tr>\n",
       "      <th>995</th>\n",
       "      <td>476.526078</td>\n",
       "      <td>1000.018988</td>\n",
       "      <td>999.672732</td>\n",
       "    </tr>\n",
       "    <tr>\n",
       "      <th>996</th>\n",
       "      <td>457.313186</td>\n",
       "      <td>998.855379</td>\n",
       "      <td>1000.020026</td>\n",
       "    </tr>\n",
       "    <tr>\n",
       "      <th>997</th>\n",
       "      <td>456.720992</td>\n",
       "      <td>1001.451646</td>\n",
       "      <td>998.847606</td>\n",
       "    </tr>\n",
       "    <tr>\n",
       "      <th>998</th>\n",
       "      <td>403.315576</td>\n",
       "      <td>1000.771023</td>\n",
       "      <td>998.562851</td>\n",
       "    </tr>\n",
       "    <tr>\n",
       "      <th>999</th>\n",
       "      <td>599.367093</td>\n",
       "      <td>999.232244</td>\n",
       "      <td>1001.451407</td>\n",
       "    </tr>\n",
       "  </tbody>\n",
       "</table>\n",
       "<p>1000 rows × 3 columns</p>\n",
       "</div>"
      ],
      "text/plain": [
       "          price     feature1     feature2\n",
       "0    461.527929   999.787558   999.766096\n",
       "1    548.130011   998.861615  1001.042403\n",
       "2    410.297162  1000.070267   998.844015\n",
       "3    540.382220   999.952251  1000.440940\n",
       "4    546.024553  1000.446011  1000.338531\n",
       "..          ...          ...          ...\n",
       "995  476.526078  1000.018988   999.672732\n",
       "996  457.313186   998.855379  1000.020026\n",
       "997  456.720992  1001.451646   998.847606\n",
       "998  403.315576  1000.771023   998.562851\n",
       "999  599.367093   999.232244  1001.451407\n",
       "\n",
       "[1000 rows x 3 columns]"
      ]
     },
     "execution_count": 2,
     "metadata": {},
     "output_type": "execute_result"
    }
   ],
   "source": [
    "df = pd.read_csv('./data/fake_reg.csv')\n",
    "df"
   ]
  },
  {
   "cell_type": "markdown",
   "id": "f6aac110-4758-47a1-9b05-aa44500ac2d5",
   "metadata": {},
   "source": [
    "### Exploring the Data"
   ]
  },
  {
   "cell_type": "code",
   "execution_count": 3,
   "id": "d071e31c-983a-4039-b304-1ec8ce43dbcf",
   "metadata": {},
   "outputs": [],
   "source": [
    "import matplotlib.pyplot as plt\n",
    "import seaborn as sns"
   ]
  },
  {
   "cell_type": "code",
   "execution_count": 4,
   "id": "3bca5222-f3b3-49d7-858a-65eb58cb5e6c",
   "metadata": {},
   "outputs": [
    {
     "data": {
      "text/plain": [
       "<seaborn.axisgrid.PairGrid at 0x228cfe30910>"
      ]
     },
     "execution_count": 4,
     "metadata": {},
     "output_type": "execute_result"
    },
    {
     "data": {
      "image/png": "[encoded data removed]",
      "text/plain": [
       "<Figure size 540x540 with 12 Axes>"
      ]
     },
     "metadata": {
      "needs_background": "light"
     },
     "output_type": "display_data"
    }
   ],
   "source": [
    "sns.pairplot(df)"
   ]
  },
  {
   "cell_type": "markdown",
   "id": "ac6d7a3a-2fa4-4ee7-958f-6134d6db163e",
   "metadata": {},
   "source": [
    "## Train/Test Data Split"
   ]
  },
  {
   "cell_type": "code",
   "execution_count": 5,
   "id": "2316cc5f-d7b6-4327-b14a-e3aab77b1801",
   "metadata": {},
   "outputs": [],
   "source": [
    "from sklearn.model_selection import train_test_split"
   ]
  },
  {
   "cell_type": "code",
   "execution_count": 6,
   "id": "fcdaeabd-df3d-4523-867e-deb639c44cf3",
   "metadata": {},
   "outputs": [
    {
     "name": "stdout",
     "output_type": "stream",
     "text": [
      "<class 'numpy.ndarray'>\n"
     ]
    },
    {
     "data": {
      "text/plain": [
       "array([[ 999.78755752,  999.7660962 ],\n",
       "       [ 998.86161491, 1001.04240315],\n",
       "       [1000.07026691,  998.84401463],\n",
       "       ...,\n",
       "       [1001.45164617,  998.84760554],\n",
       "       [1000.77102275,  998.56285086],\n",
       "       [ 999.2322436 , 1001.45140713]])"
      ]
     },
     "execution_count": 6,
     "metadata": {},
     "output_type": "execute_result"
    }
   ],
   "source": [
    "# Features (call '.values' to convert Pandas dataframe to Numpy array for Keras)\n",
    "X = df[['feature1', 'feature2']].values\n",
    "\n",
    "print(type(X))\n",
    "X"
   ]
  },
  {
   "cell_type": "code",
   "execution_count": 7,
   "id": "07fd70b1-0e00-4419-9cb5-dccb9e327f33",
   "metadata": {},
   "outputs": [
    {
     "data": {
      "text/plain": [
       "numpy.ndarray"
      ]
     },
     "execution_count": 7,
     "metadata": {},
     "output_type": "execute_result"
    }
   ],
   "source": [
    "# Label (call '.values' to convert Pandas series to Numpy array for Keras)\n",
    "y = df['price'].values\n",
    "type(y)"
   ]
  },
  {
   "cell_type": "code",
   "execution_count": 8,
   "id": "d0853ed3-ec36-4a26-8ac9-4e1c9486f769",
   "metadata": {},
   "outputs": [],
   "source": [
    "# Split data into a training data set and a test data set\n",
    "X_train, X_test, y_train, y_test = train_test_split(X, y, test_size=0.3, random_state=42)"
   ]
  },
  {
   "cell_type": "code",
   "execution_count": 9,
   "id": "45753390-bbd7-4ad9-a585-ef3a37025979",
   "metadata": {},
   "outputs": [
    {
     "data": {
      "text/plain": [
       "(700, 2)"
      ]
     },
     "execution_count": 9,
     "metadata": {},
     "output_type": "execute_result"
    }
   ],
   "source": [
    "X_train.shape"
   ]
  },
  {
   "cell_type": "code",
   "execution_count": 10,
   "id": "4d92ef91-33fc-427a-b4f7-e0c827fc67ef",
   "metadata": {},
   "outputs": [
    {
     "data": {
      "text/plain": [
       "(300, 2)"
      ]
     },
     "execution_count": 10,
     "metadata": {},
     "output_type": "execute_result"
    }
   ],
   "source": [
    "X_test.shape"
   ]
  },
  {
   "cell_type": "code",
   "execution_count": 11,
   "id": "d4b52ca9-d189-428c-8017-14eb4ae3a15d",
   "metadata": {},
   "outputs": [
    {
     "data": {
      "text/plain": [
       "(700,)"
      ]
     },
     "execution_count": 11,
     "metadata": {},
     "output_type": "execute_result"
    }
   ],
   "source": [
    "y_train.shape"
   ]
  },
  {
   "cell_type": "code",
   "execution_count": 12,
   "id": "22494d4b-2ddc-4ef0-91f8-7f9f0a6b0ab8",
   "metadata": {},
   "outputs": [
    {
     "data": {
      "text/plain": [
       "(300,)"
      ]
     },
     "execution_count": 12,
     "metadata": {},
     "output_type": "execute_result"
    }
   ],
   "source": [
    "y_test.shape"
   ]
  },
  {
   "cell_type": "markdown",
   "id": "c2696e1c-18fa-475a-a8dd-27b3841e412c",
   "metadata": {},
   "source": [
    "## Normalizing/Scaling the Data\n",
    "\n",
    "We scale the feature data.\n",
    "\n",
    "> [Why we don't need to scale the label](https://stats.stackexchange.com/questions/111467/is-it-necessary-to-scale-the-target-value-in-addition-to-scaling-features-for-re)"
   ]
  },
  {
   "cell_type": "code",
   "execution_count": 13,
   "id": "138c1629-b6a9-4757-ad76-612d6ad83d70",
   "metadata": {},
   "outputs": [],
   "source": [
    "from sklearn.preprocessing import MinMaxScaler"
   ]
  },
  {
   "cell_type": "code",
   "execution_count": 14,
   "id": "5344a8ee-89c1-46a1-81e9-9a3175dd58a7",
   "metadata": {},
   "outputs": [],
   "source": [
    "# Define a scaler instance\n",
    "scaler = MinMaxScaler()"
   ]
  },
  {
   "cell_type": "code",
   "execution_count": 15,
   "id": "42ed05e0-2222-40c4-8ab9-a87d8d07d464",
   "metadata": {},
   "outputs": [
    {
     "data": {
      "text/plain": [
       "MinMaxScaler()"
      ]
     },
     "execution_count": 15,
     "metadata": {},
     "output_type": "execute_result"
    }
   ],
   "source": [
    "# Fit the newly defined scaler to the training data.\n",
    "# What fit() method actually does is computing the minimum and maximum to be used for later scaling.\n",
    "# Notice to prevent data leakage from the test set, we only fit our scaler to the training set.\n",
    "scaler.fit(X_train)"
   ]
  },
  {
   "cell_type": "code",
   "execution_count": 16,
   "id": "575164fc-15cd-4ee4-9dad-275360f6a934",
   "metadata": {},
   "outputs": [
    {
     "data": {
      "text/plain": [
       "array([[0.74046017, 0.32583248],\n",
       "       [0.43166001, 0.2555088 ],\n",
       "       [0.18468554, 0.70500664],\n",
       "       ...,\n",
       "       [0.54913363, 0.79933822],\n",
       "       [0.2834197 , 0.38818708],\n",
       "       [0.56282703, 0.42371827]])"
      ]
     },
     "execution_count": 16,
     "metadata": {},
     "output_type": "execute_result"
    }
   ],
   "source": [
    "X_train = scaler.transform(X_train)\n",
    "X_test = scaler.transform(X_test)\n",
    "\n",
    "X_train"
   ]
  },
  {
   "cell_type": "markdown",
   "id": "fa9144e9-b73c-45da-82f7-038ac89daff3",
   "metadata": {},
   "source": [
    "## Building a Regression Model with `TensorFlow` 2.x\n",
    "\n",
    "We will use `Keras` module of `TensorFlow` 2.x to create our model. There are two ways to create models through the `TensorFlow` 2.x Keras API, either pass in a list of layers all at once, or add them one by one. Let's try both methods."
   ]
  },
  {
   "cell_type": "code",
   "execution_count": 17,
   "id": "579fd2c3-eef1-4e0a-927e-801c404482fa",
   "metadata": {},
   "outputs": [],
   "source": [
    "import tensorflow as tf\n",
    "from tensorflow.keras.models import Sequential\n",
    "from tensorflow.keras.layers import Dense, Activation"
   ]
  },
  {
   "cell_type": "markdown",
   "id": "e7af95af-4410-4538-a1b2-cf900a69f037",
   "metadata": {},
   "source": [
    "### Model - as a list of layers"
   ]
  },
  {
   "cell_type": "code",
   "execution_count": 18,
   "id": "bde7ecf7-d23b-48fe-8938-c8102ef53858",
   "metadata": {},
   "outputs": [],
   "source": [
    "model = Sequential([\n",
    "    Dense(units=2),\n",
    "    Dense(units=2),\n",
    "    Dense(units=2),\n",
    "])"
   ]
  },
  {
   "cell_type": "markdown",
   "id": "57eeb472-d180-45f3-a123-4b672aeb0fc2",
   "metadata": {},
   "source": [
    "### Model - adding in layers one by one"
   ]
  },
  {
   "cell_type": "code",
   "execution_count": 19,
   "id": "3693032d-6954-429e-bc93-5e26a878377f",
   "metadata": {},
   "outputs": [],
   "source": [
    "model = Sequential()\n",
    "\n",
    "model.add(Dense(2))\n",
    "model.add(Dense(2))\n",
    "model.add(Dense(2))"
   ]
  },
  {
   "cell_type": "code",
   "execution_count": 20,
   "id": "e9f896f5-cdc0-4520-b043-046bd6aa024a",
   "metadata": {},
   "outputs": [],
   "source": [
    "model = Sequential()\n",
    "\n",
    "# Add three layers, each has 4 nodes (artificial neurons)\n",
    "model.add(Dense(4, activation='relu'))\n",
    "model.add(Dense(4, activation='relu'))\n",
    "model.add(Dense(4, activation='relu'))\n",
    "\n",
    "# Add a final output node for prediction\n",
    "model.add(Dense(1))\n",
    "\n",
    "# Configures the model for training\n",
    "model.compile(optimizer='rmsprop', loss='mse')"
   ]
  },
  {
   "cell_type": "markdown",
   "id": "d42cabae-cde4-443e-96d1-aa09fb5c2dbe",
   "metadata": {},
   "source": [
    "### Choosing an optimizer and loss\n",
    "\n",
    "Keep in mind what kind of problem we are trying to solve:\n",
    "\n",
    "    # For a multi-class classification problem\n",
    "    model.compile(optimizer='rmsprop',\n",
    "                  loss='categorical_crossentropy',\n",
    "                  metrics=['accuracy'])\n",
    "\n",
    "    # For a binary classification problem\n",
    "    model.compile(optimizer='rmsprop',\n",
    "                  loss='binary_crossentropy',\n",
    "                  metrics=['accuracy'])\n",
    "\n",
    "    # For a mean squared error regression problem\n",
    "    model.compile(optimizer='rmsprop',\n",
    "                  loss='mse')"
   ]
  },
  {
   "cell_type": "markdown",
   "id": "2d83c9c9-a906-4659-aa63-4dd09d92fd0d",
   "metadata": {},
   "source": [
    "### Training\n",
    "\n",
    "Below are some common definitions that are necessary to know and understand to correctly utilize `Keras`:\n",
    "\n",
    "* `Sample`: one element of a data set.\n",
    "    * Example: one image is a sample in a convolutional network\n",
    "    * Example: one audio file is a sample for a speech recognition model\n",
    "* `Batch`: a set of N samples. The samples in a batch are processed independently, in parallel. If training, a batch results in only one update to the model. A batch generally approximates the distribution of the input data better than a single input. The larger the batch, the better the approximation; however, it is also true that the batch will take longer to process and will still result in only one update. For inference (evaluate/predict), it is recommended to pick a batch size that is as large as you can afford without going out of memory (since larger batches will usually result in faster evaluation/prediction).\n",
    "* `Epoch`: an arbitrary cutoff, generally defined as **one pass over the entire data set**, used to separate training into distinct phases, which is useful for logging and periodic evaluation.\n",
    "* When using `validation_data` or `validation_split` with the `fit` method of `Keras` models, evaluation will be run at the end of every `epoch`.\n",
    "* Within `Keras`, there is the ability to add callbacks specifically designed to be run at the end of an `epoch`. Examples of these are learning rate changes and model checkpointing (saving)."
   ]
  },
  {
   "cell_type": "code",
   "execution_count": 21,
   "id": "fe40e991-f114-48cd-937f-63490bd3de06",
   "metadata": {
    "scrolled": true,
    "tags": []
   },
   "outputs": [
    {
     "name": "stdout",
     "output_type": "stream",
     "text": [
      "Epoch 1/250\n",
      "22/22 [==============================] - 2s 3ms/step - loss: 256581.7344\n",
      "Epoch 2/250\n",
      "22/22 [==============================] - 0s 2ms/step - loss: 256440.6094\n",
      "Epoch 3/250\n",
      "22/22 [==============================] - 0s 2ms/step - loss: 256293.8281\n",
      "Epoch 4/250\n",
      "22/22 [==============================] - 0s 1ms/step - loss: 256132.5469\n",
      "Epoch 5/250\n",
      "22/22 [==============================] - 0s 2ms/step - loss: 255952.6406\n",
      "Epoch 6/250\n",
      "22/22 [==============================] - 0s 2ms/step - loss: 255751.2969\n",
      "Epoch 7/250\n",
      "22/22 [==============================] - 0s 2ms/step - loss: 255524.3906\n",
      "Epoch 8/250\n",
      "22/22 [==============================] - 0s 2ms/step - loss: 255268.7812\n",
      "Epoch 9/250\n",
      "22/22 [==============================] - 0s 2ms/step - loss: 254981.0469\n",
      "Epoch 10/250\n",
      "22/22 [==============================] - 0s 2ms/step - loss: 254655.4688\n",
      "Epoch 11/250\n",
      "22/22 [==============================] - 0s 2ms/step - loss: 254286.9219\n",
      "Epoch 12/250\n",
      "22/22 [==============================] - 0s 1ms/step - loss: 253873.5469\n",
      "Epoch 13/250\n",
      "22/22 [==============================] - 0s 1ms/step - loss: 253411.5625\n",
      "Epoch 14/250\n",
      "22/22 [==============================] - 0s 1ms/step - loss: 252897.5469\n",
      "Epoch 15/250\n",
      "22/22 [==============================] - 0s 1ms/step - loss: 252329.2969\n",
      "Epoch 16/250\n",
      "22/22 [==============================] - 0s 2ms/step - loss: 251686.5156\n",
      "Epoch 17/250\n",
      "22/22 [==============================] - 0s 2ms/step - loss: 250969.8438\n",
      "Epoch 18/250\n",
      "22/22 [==============================] - 0s 2ms/step - loss: 250175.3594\n",
      "Epoch 19/250\n",
      "22/22 [==============================] - 0s 1ms/step - loss: 249294.2344\n",
      "Epoch 20/250\n",
      "22/22 [==============================] - 0s 1ms/step - loss: 248324.8438\n",
      "Epoch 21/250\n",
      "22/22 [==============================] - 0s 1ms/step - loss: 247267.3125\n",
      "Epoch 22/250\n",
      "22/22 [==============================] - 0s 1ms/step - loss: 246096.5781\n",
      "Epoch 23/250\n",
      "22/22 [==============================] - 0s 1ms/step - loss: 244828.2344\n",
      "Epoch 24/250\n",
      "22/22 [==============================] - 0s 1ms/step - loss: 243444.4375\n",
      "Epoch 25/250\n",
      "22/22 [==============================] - 0s 2ms/step - loss: 241931.0469\n",
      "Epoch 26/250\n",
      "22/22 [==============================] - 0s 2ms/step - loss: 240300.2031\n",
      "Epoch 27/250\n",
      "22/22 [==============================] - 0s 2ms/step - loss: 238534.2812\n",
      "Epoch 28/250\n",
      "22/22 [==============================] - 0s 2ms/step - loss: 236641.0312\n",
      "Epoch 29/250\n",
      "22/22 [==============================] - 0s 2ms/step - loss: 234605.6406\n",
      "Epoch 30/250\n",
      "22/22 [==============================] - 0s 2ms/step - loss: 232415.0156\n",
      "Epoch 31/250\n",
      "22/22 [==============================] - 0s 2ms/step - loss: 230069.1250\n",
      "Epoch 32/250\n",
      "22/22 [==============================] - 0s 2ms/step - loss: 227560.7969\n",
      "Epoch 33/250\n",
      "22/22 [==============================] - 0s 2ms/step - loss: 224899.3125\n",
      "Epoch 34/250\n",
      "22/22 [==============================] - 0s 3ms/step - loss: 222045.2812\n",
      "Epoch 35/250\n",
      "22/22 [==============================] - 0s 2ms/step - loss: 219024.6094\n",
      "Epoch 36/250\n",
      "22/22 [==============================] - 0s 2ms/step - loss: 215816.9219\n",
      "Epoch 37/250\n",
      "22/22 [==============================] - 0s 4ms/step - loss: 212440.9219\n",
      "Epoch 38/250\n",
      "22/22 [==============================] - 0s 2ms/step - loss: 208876.3594\n",
      "Epoch 39/250\n",
      "22/22 [==============================] - 0s 2ms/step - loss: 205099.3438\n",
      "Epoch 40/250\n",
      "22/22 [==============================] - 0s 2ms/step - loss: 201127.0781\n",
      "Epoch 41/250\n",
      "22/22 [==============================] - 0s 2ms/step - loss: 196981.9375\n",
      "Epoch 42/250\n",
      "22/22 [==============================] - 0s 2ms/step - loss: 192650.4062\n",
      "Epoch 43/250\n",
      "22/22 [==============================] - 0s 2ms/step - loss: 188080.1250\n",
      "Epoch 44/250\n",
      "22/22 [==============================] - 0s 2ms/step - loss: 183321.0625\n",
      "Epoch 45/250\n",
      "22/22 [==============================] - 0s 2ms/step - loss: 178387.2188\n",
      "Epoch 46/250\n",
      "22/22 [==============================] - 0s 2ms/step - loss: 173232.8750\n",
      "Epoch 47/250\n",
      "22/22 [==============================] - 0s 2ms/step - loss: 167856.2656\n",
      "Epoch 48/250\n",
      "22/22 [==============================] - 0s 2ms/step - loss: 162350.1094\n",
      "Epoch 49/250\n",
      "22/22 [==============================] - 0s 2ms/step - loss: 156636.3906\n",
      "Epoch 50/250\n",
      "22/22 [==============================] - 0s 2ms/step - loss: 150721.2500\n",
      "Epoch 51/250\n",
      "22/22 [==============================] - 0s 1ms/step - loss: 144675.8750\n",
      "Epoch 52/250\n",
      "22/22 [==============================] - 0s 2ms/step - loss: 138489.0000\n",
      "Epoch 53/250\n",
      "22/22 [==============================] - 0s 2ms/step - loss: 132117.6250\n",
      "Epoch 54/250\n",
      "22/22 [==============================] - ETA: 0s - loss: 121015.72 - 0s 2ms/step - loss: 125595.3281\n",
      "Epoch 55/250\n",
      "22/22 [==============================] - 0s 2ms/step - loss: 118986.1484\n",
      "Epoch 56/250\n",
      "22/22 [==============================] - 0s 2ms/step - loss: 112216.0938\n",
      "Epoch 57/250\n",
      "22/22 [==============================] - 0s 2ms/step - loss: 105372.2969\n",
      "Epoch 58/250\n",
      "22/22 [==============================] - 0s 2ms/step - loss: 98495.2891\n",
      "Epoch 59/250\n",
      "22/22 [==============================] - 0s 1ms/step - loss: 91545.4219\n",
      "Epoch 60/250\n",
      "22/22 [==============================] - 0s 1ms/step - loss: 84589.0469\n",
      "Epoch 61/250\n",
      "22/22 [==============================] - 0s 1ms/step - loss: 77691.7266\n",
      "Epoch 62/250\n",
      "22/22 [==============================] - 0s 2ms/step - loss: 70821.8828\n",
      "Epoch 63/250\n",
      "22/22 [==============================] - 0s 2ms/step - loss: 64041.6289\n",
      "Epoch 64/250\n",
      "22/22 [==============================] - 0s 2ms/step - loss: 57353.3984\n",
      "Epoch 65/250\n",
      "22/22 [==============================] - 0s 2ms/step - loss: 50760.0391\n",
      "Epoch 66/250\n",
      "22/22 [==============================] - 0s 2ms/step - loss: 44422.2031\n",
      "Epoch 67/250\n",
      "22/22 [==============================] - 0s 2ms/step - loss: 38341.5273\n",
      "Epoch 68/250\n",
      "22/22 [==============================] - 0s 2ms/step - loss: 32547.3008\n",
      "Epoch 69/250\n",
      "22/22 [==============================] - 0s 4ms/step - loss: 27061.3066\n",
      "Epoch 70/250\n",
      "22/22 [==============================] - 0s 5ms/step - loss: 22041.5391\n",
      "Epoch 71/250\n",
      "22/22 [==============================] - 0s 1ms/step - loss: 17449.2695\n",
      "Epoch 72/250\n",
      "22/22 [==============================] - 0s 1ms/step - loss: 13384.0146\n",
      "Epoch 73/250\n",
      "22/22 [==============================] - 0s 2ms/step - loss: 9861.5312\n",
      "Epoch 74/250\n",
      "22/22 [==============================] - 0s 2ms/step - loss: 7006.0142\n",
      "Epoch 75/250\n",
      "22/22 [==============================] - 0s 1ms/step - loss: 4818.8071\n",
      "Epoch 76/250\n",
      "22/22 [==============================] - 0s 2ms/step - loss: 3362.0974\n",
      "Epoch 77/250\n",
      "22/22 [==============================] - 0s 2ms/step - loss: 2583.6516\n",
      "Epoch 78/250\n",
      "22/22 [==============================] - 0s 2ms/step - loss: 2310.8928\n",
      "Epoch 79/250\n",
      "22/22 [==============================] - 0s 2ms/step - loss: 2250.9597\n",
      "Epoch 80/250\n",
      "22/22 [==============================] - 0s 1ms/step - loss: 2208.5342\n",
      "Epoch 81/250\n",
      "22/22 [==============================] - 0s 1ms/step - loss: 2168.7229\n",
      "Epoch 82/250\n",
      "22/22 [==============================] - 0s 1ms/step - loss: 2129.2634\n",
      "Epoch 83/250\n",
      "22/22 [==============================] - 0s 1ms/step - loss: 2087.8684\n",
      "Epoch 84/250\n",
      "22/22 [==============================] - 0s 2ms/step - loss: 2050.9614\n",
      "Epoch 85/250\n",
      "22/22 [==============================] - 0s 2ms/step - loss: 2007.1508\n",
      "Epoch 86/250\n",
      "22/22 [==============================] - 0s 2ms/step - loss: 1966.6614\n",
      "Epoch 87/250\n",
      "22/22 [==============================] - 0s 2ms/step - loss: 1931.4661\n",
      "Epoch 88/250\n",
      "22/22 [==============================] - 0s 2ms/step - loss: 1895.7605\n",
      "Epoch 89/250\n",
      "22/22 [==============================] - 0s 2ms/step - loss: 1853.9413\n",
      "Epoch 90/250\n",
      "22/22 [==============================] - 0s 1ms/step - loss: 1814.9348\n",
      "Epoch 91/250\n",
      "22/22 [==============================] - 0s 2ms/step - loss: 1784.4600\n",
      "Epoch 92/250\n",
      "22/22 [==============================] - 0s 2ms/step - loss: 1744.0339\n",
      "Epoch 93/250\n",
      "22/22 [==============================] - 0s 2ms/step - loss: 1709.3068\n",
      "Epoch 94/250\n",
      "22/22 [==============================] - 0s 2ms/step - loss: 1667.4307\n",
      "Epoch 95/250\n",
      "22/22 [==============================] - 0s 2ms/step - loss: 1623.4537\n",
      "Epoch 96/250\n",
      "22/22 [==============================] - 0s 2ms/step - loss: 1582.5760\n",
      "Epoch 97/250\n",
      "22/22 [==============================] - 0s 2ms/step - loss: 1546.4932\n",
      "Epoch 98/250\n",
      "22/22 [==============================] - 0s 3ms/step - loss: 1509.8689\n",
      "Epoch 99/250\n",
      "22/22 [==============================] - 0s 2ms/step - loss: 1473.5441\n",
      "Epoch 100/250\n",
      "22/22 [==============================] - 0s 2ms/step - loss: 1444.2957\n",
      "Epoch 101/250\n",
      "22/22 [==============================] - 0s 2ms/step - loss: 1409.0389\n",
      "Epoch 102/250\n",
      "22/22 [==============================] - 0s 2ms/step - loss: 1374.1284\n",
      "Epoch 103/250\n",
      "22/22 [==============================] - 0s 2ms/step - loss: 1340.0092\n",
      "Epoch 104/250\n",
      "22/22 [==============================] - 0s 1ms/step - loss: 1308.5173\n",
      "Epoch 105/250\n",
      "22/22 [==============================] - 0s 2ms/step - loss: 1271.9095\n",
      "Epoch 106/250\n",
      "22/22 [==============================] - 0s 2ms/step - loss: 1238.1162\n",
      "Epoch 107/250\n",
      "22/22 [==============================] - 0s 3ms/step - loss: 1207.4008\n",
      "Epoch 108/250\n",
      "22/22 [==============================] - 0s 3ms/step - loss: 1168.5159\n",
      "Epoch 109/250\n",
      "22/22 [==============================] - 0s 2ms/step - loss: 1142.8910\n",
      "Epoch 110/250\n",
      "22/22 [==============================] - 0s 2ms/step - loss: 1108.8109\n",
      "Epoch 111/250\n",
      "22/22 [==============================] - 0s 2ms/step - loss: 1079.4058\n",
      "Epoch 112/250\n",
      "22/22 [==============================] - 0s 2ms/step - loss: 1049.4215\n",
      "Epoch 113/250\n",
      "22/22 [==============================] - 0s 2ms/step - loss: 1018.2778\n",
      "Epoch 114/250\n",
      "22/22 [==============================] - 0s 2ms/step - loss: 986.4622\n",
      "Epoch 115/250\n",
      "22/22 [==============================] - 0s 3ms/step - loss: 955.2004\n",
      "Epoch 116/250\n",
      "22/22 [==============================] - 0s 2ms/step - loss: 925.2994\n",
      "Epoch 117/250\n",
      "22/22 [==============================] - 0s 1ms/step - loss: 896.5382\n",
      "Epoch 118/250\n",
      "22/22 [==============================] - 0s 1ms/step - loss: 867.1136\n",
      "Epoch 119/250\n",
      "22/22 [==============================] - 0s 2ms/step - loss: 838.3289\n",
      "Epoch 120/250\n",
      "22/22 [==============================] - 0s 2ms/step - loss: 809.7766\n",
      "Epoch 121/250\n",
      "22/22 [==============================] - 0s 2ms/step - loss: 785.8869\n",
      "Epoch 122/250\n",
      "22/22 [==============================] - 0s 2ms/step - loss: 758.2606\n",
      "Epoch 123/250\n",
      "22/22 [==============================] - 0s 2ms/step - loss: 732.0172\n",
      "Epoch 124/250\n",
      "22/22 [==============================] - 0s 2ms/step - loss: 704.4150\n",
      "Epoch 125/250\n",
      "22/22 [==============================] - 0s 2ms/step - loss: 674.9284\n",
      "Epoch 126/250\n",
      "22/22 [==============================] - 0s 2ms/step - loss: 650.9590\n",
      "Epoch 127/250\n",
      "22/22 [==============================] - 0s 2ms/step - loss: 624.7955\n",
      "Epoch 128/250\n",
      "22/22 [==============================] - 0s 2ms/step - loss: 598.3804\n",
      "Epoch 129/250\n",
      "22/22 [==============================] - 0s 2ms/step - loss: 574.9761\n",
      "Epoch 130/250\n",
      "22/22 [==============================] - 0s 3ms/step - loss: 548.8835\n",
      "Epoch 131/250\n",
      "22/22 [==============================] - 0s 2ms/step - loss: 525.6069\n",
      "Epoch 132/250\n",
      "22/22 [==============================] - 0s 2ms/step - loss: 501.5968\n",
      "Epoch 133/250\n",
      "22/22 [==============================] - 0s 2ms/step - loss: 480.3247\n",
      "Epoch 134/250\n",
      "22/22 [==============================] - 0s 2ms/step - loss: 455.2073\n",
      "Epoch 135/250\n",
      "22/22 [==============================] - 0s 2ms/step - loss: 434.3740\n",
      "Epoch 136/250\n",
      "22/22 [==============================] - ETA: 0s - loss: 375.244 - 0s 2ms/step - loss: 413.8976\n",
      "Epoch 137/250\n",
      "22/22 [==============================] - 0s 2ms/step - loss: 391.2133\n",
      "Epoch 138/250\n",
      "22/22 [==============================] - 0s 2ms/step - loss: 368.0666\n",
      "Epoch 139/250\n",
      "22/22 [==============================] - 0s 3ms/step - loss: 347.7480\n",
      "Epoch 140/250\n",
      "22/22 [==============================] - 0s 2ms/step - loss: 327.1504\n",
      "Epoch 141/250\n",
      "22/22 [==============================] - 0s 2ms/step - loss: 307.6149\n",
      "Epoch 142/250\n",
      "22/22 [==============================] - 0s 2ms/step - loss: 289.1142\n",
      "Epoch 143/250\n",
      "22/22 [==============================] - 0s 2ms/step - loss: 272.0871\n",
      "Epoch 144/250\n",
      "22/22 [==============================] - 0s 2ms/step - loss: 255.3584\n",
      "Epoch 145/250\n",
      "22/22 [==============================] - 0s 2ms/step - loss: 242.0286\n",
      "Epoch 146/250\n",
      "22/22 [==============================] - 0s 2ms/step - loss: 228.0252\n",
      "Epoch 147/250\n",
      "22/22 [==============================] - 0s 2ms/step - loss: 213.1356\n",
      "Epoch 148/250\n",
      "22/22 [==============================] - 0s 2ms/step - loss: 200.5307\n",
      "Epoch 149/250\n",
      "22/22 [==============================] - 0s 2ms/step - loss: 187.3661\n",
      "Epoch 150/250\n",
      "22/22 [==============================] - 0s 2ms/step - loss: 172.4294\n",
      "Epoch 151/250\n",
      "22/22 [==============================] - 0s 2ms/step - loss: 158.0194\n",
      "Epoch 152/250\n",
      "22/22 [==============================] - 0s 2ms/step - loss: 146.3145\n",
      "Epoch 153/250\n",
      "22/22 [==============================] - 0s 2ms/step - loss: 134.9613\n",
      "Epoch 154/250\n",
      "22/22 [==============================] - 0s 2ms/step - loss: 124.1099\n",
      "Epoch 155/250\n",
      "22/22 [==============================] - 0s 2ms/step - loss: 115.1026\n",
      "Epoch 156/250\n",
      "22/22 [==============================] - 0s 2ms/step - loss: 105.7847\n",
      "Epoch 157/250\n",
      "22/22 [==============================] - 0s 2ms/step - loss: 96.6284\n",
      "Epoch 158/250\n",
      "22/22 [==============================] - 0s 2ms/step - loss: 87.5554\n",
      "Epoch 159/250\n",
      "22/22 [==============================] - ETA: 0s - loss: 89.24 - 0s 2ms/step - loss: 80.6094\n",
      "Epoch 160/250\n",
      "22/22 [==============================] - 0s 2ms/step - loss: 73.0468\n",
      "Epoch 161/250\n",
      "22/22 [==============================] - 0s 2ms/step - loss: 66.9949\n",
      "Epoch 162/250\n",
      "22/22 [==============================] - 0s 2ms/step - loss: 61.9584\n",
      "Epoch 163/250\n",
      "22/22 [==============================] - 0s 2ms/step - loss: 57.2517\n",
      "Epoch 164/250\n",
      "22/22 [==============================] - 0s 2ms/step - loss: 52.2341\n",
      "Epoch 165/250\n",
      "22/22 [==============================] - 0s 2ms/step - loss: 48.1427\n",
      "Epoch 166/250\n",
      "22/22 [==============================] - 0s 2ms/step - loss: 44.2782\n",
      "Epoch 167/250\n",
      "22/22 [==============================] - 0s 2ms/step - loss: 41.2397\n",
      "Epoch 168/250\n",
      "22/22 [==============================] - 0s 2ms/step - loss: 38.6404\n",
      "Epoch 169/250\n",
      "22/22 [==============================] - 0s 2ms/step - loss: 36.8163\n",
      "Epoch 170/250\n",
      "22/22 [==============================] - 0s 2ms/step - loss: 34.7820\n",
      "Epoch 171/250\n",
      "22/22 [==============================] - 0s 2ms/step - loss: 33.4484\n",
      "Epoch 172/250\n",
      "22/22 [==============================] - 0s 1ms/step - loss: 31.2808\n",
      "Epoch 173/250\n",
      "22/22 [==============================] - 0s 1ms/step - loss: 29.9100\n",
      "Epoch 174/250\n",
      "22/22 [==============================] - 0s 2ms/step - loss: 29.2192\n",
      "Epoch 175/250\n",
      "22/22 [==============================] - 0s 2ms/step - loss: 27.6593\n",
      "Epoch 176/250\n",
      "22/22 [==============================] - 0s 2ms/step - loss: 27.5734\n",
      "Epoch 177/250\n",
      "22/22 [==============================] - 0s 2ms/step - loss: 26.6128\n",
      "Epoch 178/250\n",
      "22/22 [==============================] - 0s 2ms/step - loss: 26.4963\n",
      "Epoch 179/250\n",
      "22/22 [==============================] - 0s 1ms/step - loss: 25.8061\n",
      "Epoch 180/250\n",
      "22/22 [==============================] - 0s 1ms/step - loss: 25.7472\n",
      "Epoch 181/250\n",
      "22/22 [==============================] - 0s 1ms/step - loss: 25.4679\n",
      "Epoch 182/250\n",
      "22/22 [==============================] - 0s 1ms/step - loss: 24.7967\n",
      "Epoch 183/250\n",
      "22/22 [==============================] - 0s 1ms/step - loss: 25.3287\n",
      "Epoch 184/250\n",
      "22/22 [==============================] - 0s 1ms/step - loss: 25.1119\n",
      "Epoch 185/250\n",
      "22/22 [==============================] - 0s 1ms/step - loss: 24.9920\n",
      "Epoch 186/250\n",
      "22/22 [==============================] - 0s 1ms/step - loss: 24.4145\n",
      "Epoch 187/250\n",
      "22/22 [==============================] - 0s 1ms/step - loss: 24.5820\n",
      "Epoch 188/250\n",
      "22/22 [==============================] - 0s 2ms/step - loss: 24.9595\n",
      "Epoch 189/250\n",
      "22/22 [==============================] - 0s 2ms/step - loss: 24.2560\n",
      "Epoch 190/250\n",
      "22/22 [==============================] - 0s 2ms/step - loss: 24.8223\n",
      "Epoch 191/250\n",
      "22/22 [==============================] - 0s 2ms/step - loss: 24.3076\n",
      "Epoch 192/250\n",
      "22/22 [==============================] - 0s 2ms/step - loss: 24.6594\n",
      "Epoch 193/250\n",
      "22/22 [==============================] - 0s 2ms/step - loss: 24.3234\n",
      "Epoch 194/250\n",
      "22/22 [==============================] - 0s 2ms/step - loss: 24.3536\n",
      "Epoch 195/250\n",
      "22/22 [==============================] - 0s 2ms/step - loss: 24.4482\n",
      "Epoch 196/250\n",
      "22/22 [==============================] - 0s 2ms/step - loss: 24.3823\n",
      "Epoch 197/250\n",
      "22/22 [==============================] - 0s 2ms/step - loss: 24.3821\n",
      "Epoch 198/250\n",
      "22/22 [==============================] - 0s 1ms/step - loss: 24.2279\n",
      "Epoch 199/250\n",
      "22/22 [==============================] - 0s 1ms/step - loss: 23.9602\n",
      "Epoch 200/250\n",
      "22/22 [==============================] - 0s 1ms/step - loss: 24.4475\n",
      "Epoch 201/250\n",
      "22/22 [==============================] - 0s 1ms/step - loss: 24.3905\n",
      "Epoch 202/250\n",
      "22/22 [==============================] - 0s 1ms/step - loss: 24.2932\n",
      "Epoch 203/250\n",
      "22/22 [==============================] - 0s 1ms/step - loss: 24.7041\n",
      "Epoch 204/250\n",
      "22/22 [==============================] - 0s 2ms/step - loss: 24.5547\n",
      "Epoch 205/250\n",
      "22/22 [==============================] - 0s 2ms/step - loss: 24.2842\n",
      "Epoch 206/250\n",
      "22/22 [==============================] - 0s 1ms/step - loss: 24.2092\n",
      "Epoch 207/250\n",
      "22/22 [==============================] - 0s 2ms/step - loss: 24.2465\n",
      "Epoch 208/250\n",
      "22/22 [==============================] - 0s 2ms/step - loss: 24.1960\n",
      "Epoch 209/250\n",
      "22/22 [==============================] - 0s 2ms/step - loss: 24.8937\n",
      "Epoch 210/250\n",
      "22/22 [==============================] - 0s 2ms/step - loss: 24.4286\n",
      "Epoch 211/250\n",
      "22/22 [==============================] - 0s 2ms/step - loss: 24.6334\n",
      "Epoch 212/250\n",
      "22/22 [==============================] - 0s 2ms/step - loss: 24.1390\n",
      "Epoch 213/250\n",
      "22/22 [==============================] - 0s 2ms/step - loss: 24.5578\n",
      "Epoch 214/250\n",
      "22/22 [==============================] - 0s 2ms/step - loss: 24.3654\n",
      "Epoch 215/250\n",
      "22/22 [==============================] - 0s 2ms/step - loss: 24.4958\n",
      "Epoch 216/250\n",
      "22/22 [==============================] - 0s 2ms/step - loss: 24.1517\n",
      "Epoch 217/250\n",
      "22/22 [==============================] - 0s 2ms/step - loss: 24.5113\n",
      "Epoch 218/250\n",
      "22/22 [==============================] - 0s 2ms/step - loss: 24.3351\n",
      "Epoch 219/250\n",
      "22/22 [==============================] - 0s 2ms/step - loss: 24.4510\n",
      "Epoch 220/250\n",
      "22/22 [==============================] - 0s 3ms/step - loss: 23.9601\n",
      "Epoch 221/250\n",
      "22/22 [==============================] - 0s 2ms/step - loss: 24.6154\n",
      "Epoch 222/250\n",
      "22/22 [==============================] - 0s 7ms/step - loss: 24.4157\n",
      "Epoch 223/250\n",
      "22/22 [==============================] - 0s 3ms/step - loss: 24.1321\n",
      "Epoch 224/250\n",
      "22/22 [==============================] - 0s 12ms/step - loss: 24.4828\n",
      "Epoch 225/250\n",
      "22/22 [==============================] - 0s 3ms/step - loss: 24.2926\n",
      "Epoch 226/250\n",
      "22/22 [==============================] - 0s 3ms/step - loss: 24.4435\n",
      "Epoch 227/250\n",
      "22/22 [==============================] - 0s 3ms/step - loss: 24.4005\n",
      "Epoch 228/250\n",
      "22/22 [==============================] - 0s 2ms/step - loss: 24.5298\n",
      "Epoch 229/250\n",
      "22/22 [==============================] - 0s 2ms/step - loss: 24.5090\n",
      "Epoch 230/250\n",
      "22/22 [==============================] - 0s 2ms/step - loss: 24.3729\n",
      "Epoch 231/250\n",
      "22/22 [==============================] - 0s 2ms/step - loss: 24.5550\n",
      "Epoch 232/250\n",
      "22/22 [==============================] - 0s 2ms/step - loss: 24.3155\n",
      "Epoch 233/250\n",
      "22/22 [==============================] - 0s 2ms/step - loss: 24.2220\n",
      "Epoch 234/250\n",
      "22/22 [==============================] - 0s 2ms/step - loss: 24.3964\n",
      "Epoch 235/250\n",
      "22/22 [==============================] - 0s 2ms/step - loss: 24.3078\n",
      "Epoch 236/250\n",
      "22/22 [==============================] - 0s 2ms/step - loss: 24.4948\n",
      "Epoch 237/250\n",
      "22/22 [==============================] - 0s 2ms/step - loss: 24.2664\n",
      "Epoch 238/250\n",
      "22/22 [==============================] - 0s 2ms/step - loss: 24.1655\n",
      "Epoch 239/250\n",
      "22/22 [==============================] - 0s 2ms/step - loss: 24.3661\n",
      "Epoch 240/250\n",
      "22/22 [==============================] - 0s 3ms/step - loss: 24.3862\n",
      "Epoch 241/250\n",
      "22/22 [==============================] - 0s 2ms/step - loss: 24.6358\n",
      "Epoch 242/250\n",
      "22/22 [==============================] - 0s 2ms/step - loss: 24.1092\n",
      "Epoch 243/250\n",
      "22/22 [==============================] - 0s 2ms/step - loss: 24.3436\n",
      "Epoch 244/250\n",
      "22/22 [==============================] - 0s 2ms/step - loss: 24.6617\n",
      "Epoch 245/250\n",
      "22/22 [==============================] - 0s 3ms/step - loss: 24.6833\n",
      "Epoch 246/250\n",
      "22/22 [==============================] - 0s 2ms/step - loss: 24.0986\n",
      "Epoch 247/250\n",
      "22/22 [==============================] - 0s 2ms/step - loss: 24.1075\n",
      "Epoch 248/250\n",
      "22/22 [==============================] - 0s 2ms/step - loss: 24.3305\n",
      "Epoch 249/250\n",
      "22/22 [==============================] - 0s 1ms/step - loss: 24.2534\n",
      "Epoch 250/250\n",
      "22/22 [==============================] - 0s 2ms/step - loss: 24.8603\n"
     ]
    },
    {
     "data": {
      "text/plain": [
       "<tensorflow.python.keras.callbacks.History at 0x228d8d79fa0>"
      ]
     },
     "execution_count": 21,
     "metadata": {},
     "output_type": "execute_result"
    }
   ],
   "source": [
    "# Train the model for a fixed number of epochs (iterations on a dataset)\n",
    "model.fit(X_train, y_train, epochs=250)"
   ]
  },
  {
   "cell_type": "markdown",
   "id": "311b9f61-75ef-4130-ba92-7e3c1483656e",
   "metadata": {},
   "source": [
    "## Evaluation\n",
    "\n",
    "Let's evaluate our performance on our training set and our test set. We can compare these two performances to check for overfitting."
   ]
  },
  {
   "cell_type": "code",
   "execution_count": 22,
   "id": "3afd9d86-8fd7-437e-918a-6521738a5c18",
   "metadata": {
    "scrolled": true,
    "tags": []
   },
   "outputs": [
    {
     "data": {
      "text/plain": [
       "{'loss': [256581.734375,\n",
       "  256440.609375,\n",
       "  256293.828125,\n",
       "  256132.546875,\n",
       "  255952.640625,\n",
       "  255751.296875,\n",
       "  255524.390625,\n",
       "  255268.78125,\n",
       "  254981.046875,\n",
       "  254655.46875,\n",
       "  254286.921875,\n",
       "  253873.546875,\n",
       "  253411.5625,\n",
       "  252897.546875,\n",
       "  252329.296875,\n",
       "  251686.515625,\n",
       "  250969.84375,\n",
       "  250175.359375,\n",
       "  249294.234375,\n",
       "  248324.84375,\n",
       "  247267.3125,\n",
       "  246096.578125,\n",
       "  244828.234375,\n",
       "  243444.4375,\n",
       "  241931.046875,\n",
       "  240300.203125,\n",
       "  238534.28125,\n",
       "  236641.03125,\n",
       "  234605.640625,\n",
       "  232415.015625,\n",
       "  230069.125,\n",
       "  227560.796875,\n",
       "  224899.3125,\n",
       "  222045.28125,\n",
       "  219024.609375,\n",
       "  215816.921875,\n",
       "  212440.921875,\n",
       "  208876.359375,\n",
       "  205099.34375,\n",
       "  201127.078125,\n",
       "  196981.9375,\n",
       "  192650.40625,\n",
       "  188080.125,\n",
       "  183321.0625,\n",
       "  178387.21875,\n",
       "  173232.875,\n",
       "  167856.265625,\n",
       "  162350.109375,\n",
       "  156636.390625,\n",
       "  150721.25,\n",
       "  144675.875,\n",
       "  138489.0,\n",
       "  132117.625,\n",
       "  125595.328125,\n",
       "  118986.1484375,\n",
       "  112216.09375,\n",
       "  105372.296875,\n",
       "  98495.2890625,\n",
       "  91545.421875,\n",
       "  84589.046875,\n",
       "  77691.7265625,\n",
       "  70821.8828125,\n",
       "  64041.62890625,\n",
       "  57353.3984375,\n",
       "  50760.0390625,\n",
       "  44422.203125,\n",
       "  38341.52734375,\n",
       "  32547.30078125,\n",
       "  27061.306640625,\n",
       "  22041.5390625,\n",
       "  17449.26953125,\n",
       "  13384.0146484375,\n",
       "  9861.53125,\n",
       "  7006.01416015625,\n",
       "  4818.80712890625,\n",
       "  3362.097412109375,\n",
       "  2583.651611328125,\n",
       "  2310.892822265625,\n",
       "  2250.959716796875,\n",
       "  2208.5341796875,\n",
       "  2168.722900390625,\n",
       "  2129.263427734375,\n",
       "  2087.868408203125,\n",
       "  2050.96142578125,\n",
       "  2007.1507568359375,\n",
       "  1966.661376953125,\n",
       "  1931.466064453125,\n",
       "  1895.760498046875,\n",
       "  1853.9412841796875,\n",
       "  1814.934814453125,\n",
       "  1784.4599609375,\n",
       "  1744.033935546875,\n",
       "  1709.3067626953125,\n",
       "  1667.4306640625,\n",
       "  1623.4537353515625,\n",
       "  1582.5760498046875,\n",
       "  1546.4931640625,\n",
       "  1509.868896484375,\n",
       "  1473.5440673828125,\n",
       "  1444.295654296875,\n",
       "  1409.0389404296875,\n",
       "  1374.12841796875,\n",
       "  1340.0091552734375,\n",
       "  1308.517333984375,\n",
       "  1271.9095458984375,\n",
       "  1238.1162109375,\n",
       "  1207.4007568359375,\n",
       "  1168.515869140625,\n",
       "  1142.8909912109375,\n",
       "  1108.8109130859375,\n",
       "  1079.40576171875,\n",
       "  1049.4215087890625,\n",
       "  1018.27783203125,\n",
       "  986.462158203125,\n",
       "  955.2003784179688,\n",
       "  925.2994384765625,\n",
       "  896.5382080078125,\n",
       "  867.1136474609375,\n",
       "  838.328857421875,\n",
       "  809.776611328125,\n",
       "  785.8869018554688,\n",
       "  758.2606201171875,\n",
       "  732.0172119140625,\n",
       "  704.4149780273438,\n",
       "  674.9284057617188,\n",
       "  650.9590454101562,\n",
       "  624.7955322265625,\n",
       "  598.3804321289062,\n",
       "  574.97607421875,\n",
       "  548.883544921875,\n",
       "  525.6068725585938,\n",
       "  501.5968322753906,\n",
       "  480.3247375488281,\n",
       "  455.207275390625,\n",
       "  434.3740234375,\n",
       "  413.8975524902344,\n",
       "  391.2132568359375,\n",
       "  368.0665588378906,\n",
       "  347.748046875,\n",
       "  327.150390625,\n",
       "  307.6148681640625,\n",
       "  289.1141662597656,\n",
       "  272.08709716796875,\n",
       "  255.3583526611328,\n",
       "  242.028564453125,\n",
       "  228.02520751953125,\n",
       "  213.1355743408203,\n",
       "  200.5307159423828,\n",
       "  187.36607360839844,\n",
       "  172.42941284179688,\n",
       "  158.01942443847656,\n",
       "  146.31446838378906,\n",
       "  134.9612579345703,\n",
       "  124.10986328125,\n",
       "  115.10255432128906,\n",
       "  105.78474426269531,\n",
       "  96.6284408569336,\n",
       "  87.55542755126953,\n",
       "  80.60939025878906,\n",
       "  73.04676818847656,\n",
       "  66.99488067626953,\n",
       "  61.958438873291016,\n",
       "  57.251651763916016,\n",
       "  52.23409652709961,\n",
       "  48.14267349243164,\n",
       "  44.27823257446289,\n",
       "  41.23965835571289,\n",
       "  38.6403694152832,\n",
       "  36.8162956237793,\n",
       "  34.782020568847656,\n",
       "  33.44837951660156,\n",
       "  31.280790328979492,\n",
       "  29.909976959228516,\n",
       "  29.219213485717773,\n",
       "  27.659265518188477,\n",
       "  27.573392868041992,\n",
       "  26.612762451171875,\n",
       "  26.49628257751465,\n",
       "  25.806127548217773,\n",
       "  25.74722671508789,\n",
       "  25.4679012298584,\n",
       "  24.796724319458008,\n",
       "  25.32866096496582,\n",
       "  25.111936569213867,\n",
       "  24.991987228393555,\n",
       "  24.414485931396484,\n",
       "  24.582014083862305,\n",
       "  24.959545135498047,\n",
       "  24.256004333496094,\n",
       "  24.822343826293945,\n",
       "  24.307636260986328,\n",
       "  24.659420013427734,\n",
       "  24.323410034179688,\n",
       "  24.35361099243164,\n",
       "  24.44818115234375,\n",
       "  24.38228988647461,\n",
       "  24.382137298583984,\n",
       "  24.227863311767578,\n",
       "  23.960203170776367,\n",
       "  24.447465896606445,\n",
       "  24.390460968017578,\n",
       "  24.293216705322266,\n",
       "  24.70410919189453,\n",
       "  24.554729461669922,\n",
       "  24.284210205078125,\n",
       "  24.20923614501953,\n",
       "  24.2464542388916,\n",
       "  24.195953369140625,\n",
       "  24.893699645996094,\n",
       "  24.428621292114258,\n",
       "  24.63340187072754,\n",
       "  24.138975143432617,\n",
       "  24.55782699584961,\n",
       "  24.365365982055664,\n",
       "  24.49584197998047,\n",
       "  24.15169334411621,\n",
       "  24.511327743530273,\n",
       "  24.33510398864746,\n",
       "  24.451026916503906,\n",
       "  23.960094451904297,\n",
       "  24.615428924560547,\n",
       "  24.415664672851562,\n",
       "  24.132083892822266,\n",
       "  24.482831954956055,\n",
       "  24.292638778686523,\n",
       "  24.443523406982422,\n",
       "  24.400522232055664,\n",
       "  24.5297908782959,\n",
       "  24.509048461914062,\n",
       "  24.37285804748535,\n",
       "  24.554981231689453,\n",
       "  24.315488815307617,\n",
       "  24.221975326538086,\n",
       "  24.396411895751953,\n",
       "  24.307842254638672,\n",
       "  24.49477767944336,\n",
       "  24.26644515991211,\n",
       "  24.16547393798828,\n",
       "  24.3660831451416,\n",
       "  24.38616371154785,\n",
       "  24.635826110839844,\n",
       "  24.109159469604492,\n",
       "  24.343568801879883,\n",
       "  24.661710739135742,\n",
       "  24.683256149291992,\n",
       "  24.098602294921875,\n",
       "  24.10753059387207,\n",
       "  24.330459594726562,\n",
       "  24.25336265563965,\n",
       "  24.86029052734375]}"
      ]
     },
     "execution_count": 22,
     "metadata": {},
     "output_type": "execute_result"
    }
   ],
   "source": [
    "model.history.history"
   ]
  },
  {
   "cell_type": "code",
   "execution_count": 23,
   "id": "bcac4dc5-0870-40b6-8170-d02767825365",
   "metadata": {},
   "outputs": [],
   "source": [
    "loss = model.history.history['loss']"
   ]
  },
  {
   "cell_type": "code",
   "execution_count": 24,
   "id": "1b689bf4-db38-4bed-8ede-8a257f9a30c5",
   "metadata": {},
   "outputs": [
    {
     "data": {
      "text/plain": [
       "Text(0.5, 1.0, 'Training Loss per Epoch')"
      ]
     },
     "execution_count": 24,
     "metadata": {},
     "output_type": "execute_result"
    },
    {
     "data": {
      "image/png": "[encoded data removed]",
      "text/plain": [
       "<Figure size 432x288 with 1 Axes>"
      ]
     },
     "metadata": {
      "needs_background": "light"
     },
     "output_type": "display_data"
    }
   ],
   "source": [
    "sns.lineplot(\n",
    "    x=range(len(loss)),\n",
    "    y=loss\n",
    ")\n",
    "plt.title('Training Loss per Epoch')"
   ]
  },
  {
   "cell_type": "markdown",
   "id": "21861b2e-b951-49c9-8bf7-1507cd6bb74a",
   "metadata": {},
   "source": [
    "### Compare final evaluation (MSE) on training set and test set\n",
    "\n",
    "These should hopefully be fairly close to each other."
   ]
  },
  {
   "cell_type": "code",
   "execution_count": 25,
   "id": "2414112b-f6af-42dd-ab5b-2cd738a7e371",
   "metadata": {},
   "outputs": [
    {
     "data": {
      "text/plain": [
       "['loss']"
      ]
     },
     "execution_count": 25,
     "metadata": {},
     "output_type": "execute_result"
    }
   ],
   "source": [
    "model.metrics_names"
   ]
  },
  {
   "cell_type": "code",
   "execution_count": 26,
   "id": "f271e9a0-1b78-49f9-9a6c-4587bdcd597c",
   "metadata": {},
   "outputs": [
    {
     "name": "stdout",
     "output_type": "stream",
     "text": [
      "22/22 [==============================] - 0s 2ms/step - loss: 23.7563\n"
     ]
    },
    {
     "data": {
      "text/plain": [
       "23.756269454956055"
      ]
     },
     "execution_count": 26,
     "metadata": {},
     "output_type": "execute_result"
    }
   ],
   "source": [
    "training_score = model.evaluate(X_train, y_train)\n",
    "training_score"
   ]
  },
  {
   "cell_type": "code",
   "execution_count": 27,
   "id": "7663f8bd-110e-44f6-8524-1ef2e92f0ab9",
   "metadata": {},
   "outputs": [
    {
     "name": "stdout",
     "output_type": "stream",
     "text": [
      "10/10 [==============================] - 0s 2ms/step - loss: 25.3114\n"
     ]
    },
    {
     "data": {
      "text/plain": [
       "25.31138038635254"
      ]
     },
     "execution_count": 27,
     "metadata": {},
     "output_type": "execute_result"
    }
   ],
   "source": [
    "test_score = model.evaluate(X_test, y_test)\n",
    "test_score"
   ]
  },
  {
   "cell_type": "markdown",
   "id": "566f55f0-b836-462c-9da8-f77c5911afc9",
   "metadata": {},
   "source": [
    "<font color=magenta>\n",
    "<b>Mean Squared Error (MSE)</b> is the most commonly used loss function for regression. The loss is the mean overseen data of the squared differences between true and predicted values, or writing it as a formula.\n",
    "</font>\n",
    "\n",
    "$$\n",
    "MSE(y, \\hat{y}) = \\frac{1}{n} \\sum_{i=1}^{n} (y_i - \\hat{y}_i)^2\n",
    "$$\n",
    "\n",
    "where\n",
    "- $y_i$: true values\n",
    "- $\\hat{y}_i$: predicted values\n",
    "- $n$: total number of data points"
   ]
  },
  {
   "cell_type": "markdown",
   "id": "3a74ee42-dbb2-4474-993a-139784a997ba",
   "metadata": {},
   "source": [
    "### Further Evaluations"
   ]
  },
  {
   "cell_type": "code",
   "execution_count": 28,
   "id": "e750dd80-274d-48d7-90fe-19c397f50748",
   "metadata": {},
   "outputs": [],
   "source": [
    "test_predictions = model.predict(X_test)"
   ]
  },
  {
   "cell_type": "code",
   "execution_count": 29,
   "id": "f91456d9-df6c-44c0-8028-eb3027ade6ec",
   "metadata": {
    "scrolled": true,
    "tags": []
   },
   "outputs": [
    {
     "data": {
      "text/plain": [
       "array([[405.65005],\n",
       "       [624.1854 ],\n",
       "       [592.74304],\n",
       "       [572.79004],\n",
       "       [366.89786],\n",
       "       [579.76294],\n",
       "       [515.52893],\n",
       "       [459.54965],\n",
       "       [549.7795 ],\n",
       "       [447.9489 ],\n",
       "       [612.417  ],\n",
       "       [549.52234],\n",
       "       [419.47623],\n",
       "       [409.22824],\n",
       "       [651.95374],\n",
       "       [437.70966],\n",
       "       [508.9713 ],\n",
       "       [660.6008 ],\n",
       "       [663.27014],\n",
       "       [566.119  ],\n",
       "       [334.48047],\n",
       "       [445.24432],\n",
       "       [382.84634],\n",
       "       [379.08203],\n",
       "       [567.1648 ],\n",
       "       [611.2064 ],\n",
       "       [532.91345],\n",
       "       [428.25302],\n",
       "       [656.1152 ],\n",
       "       [414.46472],\n",
       "       [443.0566 ],\n",
       "       [485.5931 ],\n",
       "       [438.8204 ],\n",
       "       [682.55774],\n",
       "       [425.1625 ],\n",
       "       [418.05093],\n",
       "       [502.44498],\n",
       "       [551.0284 ],\n",
       "       [510.20877],\n",
       "       [395.6777 ],\n",
       "       [619.2372 ],\n",
       "       [417.01218],\n",
       "       [605.07587],\n",
       "       [446.394  ],\n",
       "       [502.4758 ],\n",
       "       [582.3385 ],\n",
       "       [669.72974],\n",
       "       [490.88602],\n",
       "       [318.83914],\n",
       "       [485.89014],\n",
       "       [517.77637],\n",
       "       [382.13507],\n",
       "       [542.46967],\n",
       "       [408.96097],\n",
       "       [642.1975 ],\n",
       "       [491.5452 ],\n",
       "       [628.5748 ],\n",
       "       [627.676  ],\n",
       "       [447.4886 ],\n",
       "       [485.15567],\n",
       "       [491.60025],\n",
       "       [474.99988],\n",
       "       [683.5182 ],\n",
       "       [403.6384 ],\n",
       "       [701.8869 ],\n",
       "       [586.99054],\n",
       "       [583.71924],\n",
       "       [538.4026 ],\n",
       "       [485.04034],\n",
       "       [517.05615],\n",
       "       [361.53183],\n",
       "       [541.2949 ],\n",
       "       [571.2012 ],\n",
       "       [529.0074 ],\n",
       "       [454.1519 ],\n",
       "       [531.67615],\n",
       "       [507.72073],\n",
       "       [443.7342 ],\n",
       "       [543.9062 ],\n",
       "       [641.4424 ],\n",
       "       [466.42966],\n",
       "       [567.8406 ],\n",
       "       [691.5206 ],\n",
       "       [459.16046],\n",
       "       [709.658  ],\n",
       "       [473.14612],\n",
       "       [403.6575 ],\n",
       "       [585.69995],\n",
       "       [437.18057],\n",
       "       [489.4455 ],\n",
       "       [617.6829 ],\n",
       "       [439.8967 ],\n",
       "       [455.7441 ],\n",
       "       [435.65744],\n",
       "       [507.3942 ],\n",
       "       [609.0712 ],\n",
       "       [321.88107],\n",
       "       [436.68124],\n",
       "       [536.8839 ],\n",
       "       [519.136  ],\n",
       "       [605.6621 ],\n",
       "       [525.9639 ],\n",
       "       [334.4188 ],\n",
       "       [576.7697 ],\n",
       "       [432.15735],\n",
       "       [563.1498 ],\n",
       "       [513.91394],\n",
       "       [391.42242],\n",
       "       [566.80444],\n",
       "       [455.24905],\n",
       "       [448.89914],\n",
       "       [641.6362 ],\n",
       "       [524.90936],\n",
       "       [551.2541 ],\n",
       "       [418.0731 ],\n",
       "       [479.19766],\n",
       "       [587.1252 ],\n",
       "       [668.07324],\n",
       "       [701.20337],\n",
       "       [660.0676 ],\n",
       "       [561.1337 ],\n",
       "       [503.67862],\n",
       "       [390.68503],\n",
       "       [281.5363 ],\n",
       "       [480.08255],\n",
       "       [617.029  ],\n",
       "       [373.6526 ],\n",
       "       [512.7679 ],\n",
       "       [511.5135 ],\n",
       "       [493.95798],\n",
       "       [480.9244 ],\n",
       "       [424.16367],\n",
       "       [493.93387],\n",
       "       [471.92584],\n",
       "       [601.0864 ],\n",
       "       [574.19104],\n",
       "       [415.32324],\n",
       "       [631.31226],\n",
       "       [466.82596],\n",
       "       [564.9219 ],\n",
       "       [406.05118],\n",
       "       [532.70575],\n",
       "       [573.22003],\n",
       "       [357.3717 ],\n",
       "       [550.3855 ],\n",
       "       [603.9817 ],\n",
       "       [384.6352 ],\n",
       "       [542.9278 ],\n",
       "       [563.16895],\n",
       "       [453.3257 ],\n",
       "       [632.8711 ],\n",
       "       [372.55844],\n",
       "       [474.6992 ],\n",
       "       [529.3827 ],\n",
       "       [372.62943],\n",
       "       [461.66534],\n",
       "       [436.707  ],\n",
       "       [498.98196],\n",
       "       [346.41595],\n",
       "       [395.653  ],\n",
       "       [605.2175 ],\n",
       "       [507.15945],\n",
       "       [469.06088],\n",
       "       [490.855  ],\n",
       "       [535.8352 ],\n",
       "       [344.78006],\n",
       "       [512.8605 ],\n",
       "       [250.97176],\n",
       "       [504.58502],\n",
       "       [541.6282 ],\n",
       "       [489.84482],\n",
       "       [471.56485],\n",
       "       [392.9001 ],\n",
       "       [416.65573],\n",
       "       [550.1284 ],\n",
       "       [476.24008],\n",
       "       [580.5331 ],\n",
       "       [490.23456],\n",
       "       [601.5904 ],\n",
       "       [547.5609 ],\n",
       "       [542.5179 ],\n",
       "       [501.07632],\n",
       "       [646.51636],\n",
       "       [560.9849 ],\n",
       "       [578.5558 ],\n",
       "       [444.56708],\n",
       "       [415.9131 ],\n",
       "       [420.4089 ],\n",
       "       [569.7184 ],\n",
       "       [609.6413 ],\n",
       "       [438.1777 ],\n",
       "       [488.45248],\n",
       "       [588.34515],\n",
       "       [525.8972 ],\n",
       "       [357.66263],\n",
       "       [646.0945 ],\n",
       "       [528.55383],\n",
       "       [337.48935],\n",
       "       [493.17245],\n",
       "       [410.5429 ],\n",
       "       [607.2384 ],\n",
       "       [346.8375 ],\n",
       "       [522.9535 ],\n",
       "       [405.06293],\n",
       "       [258.564  ],\n",
       "       [520.42346],\n",
       "       [341.20105],\n",
       "       [362.34073],\n",
       "       [577.02795],\n",
       "       [417.07162],\n",
       "       [551.53906],\n",
       "       [521.5974 ],\n",
       "       [511.2334 ],\n",
       "       [325.0169 ],\n",
       "       [404.49783],\n",
       "       [603.016  ],\n",
       "       [618.49866],\n",
       "       [603.87415],\n",
       "       [566.88806],\n",
       "       [473.87155],\n",
       "       [460.8106 ],\n",
       "       [508.93253],\n",
       "       [446.33438],\n",
       "       [511.83795],\n",
       "       [502.8536 ],\n",
       "       [400.5059 ],\n",
       "       [606.15955],\n",
       "       [258.30472],\n",
       "       [628.9211 ],\n",
       "       [589.7715 ],\n",
       "       [327.42206],\n",
       "       [480.0012 ],\n",
       "       [595.9686 ],\n",
       "       [378.73108],\n",
       "       [460.5917 ],\n",
       "       [325.28305],\n",
       "       [519.2232 ],\n",
       "       [410.00848],\n",
       "       [556.82245],\n",
       "       [642.5773 ],\n",
       "       [537.36163],\n",
       "       [503.68216],\n",
       "       [635.7223 ],\n",
       "       [515.7615 ],\n",
       "       [532.2422 ],\n",
       "       [519.32935],\n",
       "       [457.87997],\n",
       "       [506.3414 ],\n",
       "       [461.5521 ],\n",
       "       [592.3352 ],\n",
       "       [466.3531 ],\n",
       "       [427.5659 ],\n",
       "       [542.1264 ],\n",
       "       [494.28183],\n",
       "       [680.3635 ],\n",
       "       [373.08862],\n",
       "       [552.17236],\n",
       "       [578.56274],\n",
       "       [434.35782],\n",
       "       [543.56604],\n",
       "       [586.62244],\n",
       "       [579.8596 ],\n",
       "       [721.72205],\n",
       "       [433.12552],\n",
       "       [398.96   ],\n",
       "       [314.26132],\n",
       "       [448.69724],\n",
       "       [388.45062],\n",
       "       [543.74347],\n",
       "       [523.2533 ],\n",
       "       [565.08746],\n",
       "       [448.4381 ],\n",
       "       [534.95276],\n",
       "       [382.12872],\n",
       "       [502.01254],\n",
       "       [637.76794],\n",
       "       [497.05624],\n",
       "       [568.9641 ],\n",
       "       [470.5533 ],\n",
       "       [273.52536],\n",
       "       [517.86816],\n",
       "       [622.0482 ],\n",
       "       [350.80542],\n",
       "       [450.8525 ],\n",
       "       [499.77017],\n",
       "       [543.52106],\n",
       "       [612.47595],\n",
       "       [388.49936],\n",
       "       [449.8032 ],\n",
       "       [482.88657],\n",
       "       [598.93036],\n",
       "       [499.85294],\n",
       "       [321.71207],\n",
       "       [555.7081 ],\n",
       "       [445.05008],\n",
       "       [529.5545 ],\n",
       "       [515.78925],\n",
       "       [610.2826 ],\n",
       "       [417.34402],\n",
       "       [411.23257]], dtype=float32)"
      ]
     },
     "execution_count": 29,
     "metadata": {},
     "output_type": "execute_result"
    }
   ],
   "source": [
    "test_predictions"
   ]
  },
  {
   "cell_type": "code",
   "execution_count": 30,
   "id": "131d430b-0cdf-465e-ad70-a39b2668a4be",
   "metadata": {},
   "outputs": [
    {
     "data": {
      "text/plain": [
       "0      405.650055\n",
       "1      624.185425\n",
       "2      592.743042\n",
       "3      572.790039\n",
       "4      366.897858\n",
       "          ...    \n",
       "295    529.554504\n",
       "296    515.789246\n",
       "297    610.282593\n",
       "298    417.344025\n",
       "299    411.232574\n",
       "Length: 300, dtype: float32"
      ]
     },
     "execution_count": 30,
     "metadata": {},
     "output_type": "execute_result"
    }
   ],
   "source": [
    "test_predictions = pd.Series(test_predictions.reshape(300,))\n",
    "test_predictions"
   ]
  },
  {
   "cell_type": "code",
   "execution_count": 31,
   "id": "3cc88294-b49b-4cc2-b594-b9ada5dee523",
   "metadata": {},
   "outputs": [
    {
     "data": {
      "text/html": [
       "<div>\n",
       "<style scoped>\n",
       "    .dataframe tbody tr th:only-of-type {\n",
       "        vertical-align: middle;\n",
       "    }\n",
       "\n",
       "    .dataframe tbody tr th {\n",
       "        vertical-align: top;\n",
       "    }\n",
       "\n",
       "    .dataframe thead th {\n",
       "        text-align: right;\n",
       "    }\n",
       "</style>\n",
       "<table border=\"1\" class=\"dataframe\">\n",
       "  <thead>\n",
       "    <tr style=\"text-align: right;\">\n",
       "      <th></th>\n",
       "      <th>Test Y</th>\n",
       "      <th>Model Predictions</th>\n",
       "    </tr>\n",
       "  </thead>\n",
       "  <tbody>\n",
       "    <tr>\n",
       "      <th>0</th>\n",
       "      <td>402.296319</td>\n",
       "      <td>405.650055</td>\n",
       "    </tr>\n",
       "    <tr>\n",
       "      <th>1</th>\n",
       "      <td>624.156198</td>\n",
       "      <td>624.185425</td>\n",
       "    </tr>\n",
       "    <tr>\n",
       "      <th>2</th>\n",
       "      <td>582.455066</td>\n",
       "      <td>592.743042</td>\n",
       "    </tr>\n",
       "    <tr>\n",
       "      <th>3</th>\n",
       "      <td>578.588606</td>\n",
       "      <td>572.790039</td>\n",
       "    </tr>\n",
       "    <tr>\n",
       "      <th>4</th>\n",
       "      <td>371.224104</td>\n",
       "      <td>366.897858</td>\n",
       "    </tr>\n",
       "    <tr>\n",
       "      <th>...</th>\n",
       "      <td>...</td>\n",
       "      <td>...</td>\n",
       "    </tr>\n",
       "    <tr>\n",
       "      <th>295</th>\n",
       "      <td>525.704657</td>\n",
       "      <td>529.554504</td>\n",
       "    </tr>\n",
       "    <tr>\n",
       "      <th>296</th>\n",
       "      <td>502.909473</td>\n",
       "      <td>515.789246</td>\n",
       "    </tr>\n",
       "    <tr>\n",
       "      <th>297</th>\n",
       "      <td>612.727910</td>\n",
       "      <td>610.282593</td>\n",
       "    </tr>\n",
       "    <tr>\n",
       "      <th>298</th>\n",
       "      <td>417.569725</td>\n",
       "      <td>417.344025</td>\n",
       "    </tr>\n",
       "    <tr>\n",
       "      <th>299</th>\n",
       "      <td>410.538250</td>\n",
       "      <td>411.232574</td>\n",
       "    </tr>\n",
       "  </tbody>\n",
       "</table>\n",
       "<p>300 rows × 2 columns</p>\n",
       "</div>"
      ],
      "text/plain": [
       "         Test Y  Model Predictions\n",
       "0    402.296319         405.650055\n",
       "1    624.156198         624.185425\n",
       "2    582.455066         592.743042\n",
       "3    578.588606         572.790039\n",
       "4    371.224104         366.897858\n",
       "..          ...                ...\n",
       "295  525.704657         529.554504\n",
       "296  502.909473         515.789246\n",
       "297  612.727910         610.282593\n",
       "298  417.569725         417.344025\n",
       "299  410.538250         411.232574\n",
       "\n",
       "[300 rows x 2 columns]"
      ]
     },
     "execution_count": 31,
     "metadata": {},
     "output_type": "execute_result"
    }
   ],
   "source": [
    "pred_df = pd.DataFrame({\n",
    "    'Test Y': y_test,\n",
    "    'Model Predictions': test_predictions\n",
    "})\n",
    "\n",
    "pred_df"
   ]
  },
  {
   "cell_type": "code",
   "execution_count": 32,
   "id": "a9e3794f-2f46-46b6-8381-0b4eb8ced603",
   "metadata": {},
   "outputs": [
    {
     "data": {
      "text/plain": [
       "<AxesSubplot:xlabel='Model Predictions', ylabel='Test Y'>"
      ]
     },
     "execution_count": 32,
     "metadata": {},
     "output_type": "execute_result"
    },
    {
     "data": {
      "image/png": "[encoded data removed]",
      "text/plain": [
       "<Figure size 432x432 with 1 Axes>"
      ]
     },
     "metadata": {
      "needs_background": "light"
     },
     "output_type": "display_data"
    }
   ],
   "source": [
    "# Vizualize the relationship between the true values and predicted values\n",
    "plt.figure(figsize=(6, 6))\n",
    "sns.scatterplot(data=pred_df, x='Model Predictions', y='Test Y')"
   ]
  },
  {
   "cell_type": "code",
   "execution_count": 33,
   "id": "64a3eb32-7570-4713-8240-66723da76ca0",
   "metadata": {},
   "outputs": [],
   "source": [
    "# Calculate the error (differences between true values and predicted value)\n",
    "pred_df['Error'] = pred_df['Test Y'] - pred_df['Model Predictions']"
   ]
  },
  {
   "cell_type": "code",
   "execution_count": 34,
   "id": "148215ed-b908-4661-bbc0-48338761db3c",
   "metadata": {},
   "outputs": [
    {
     "data": {
      "text/plain": [
       "<seaborn.axisgrid.FacetGrid at 0x228da6a75b0>"
      ]
     },
     "execution_count": 34,
     "metadata": {},
     "output_type": "execute_result"
    },
    {
     "data": {
      "image/png": "[encoded data removed]",
      "text/plain": [
       "<Figure size 360x360 with 1 Axes>"
      ]
     },
     "metadata": {
      "needs_background": "light"
     },
     "output_type": "display_data"
    }
   ],
   "source": [
    "# Vizualize the distribution of the error\n",
    "sns.displot(pred_df['Error'], kind='kde')"
   ]
  },
  {
   "cell_type": "code",
   "execution_count": 35,
   "id": "4be7bbdc-0a05-4342-9ec7-7c0e063aaf8e",
   "metadata": {},
   "outputs": [],
   "source": [
    "from sklearn.metrics import mean_absolute_error, mean_squared_error"
   ]
  },
  {
   "cell_type": "code",
   "execution_count": 36,
   "id": "2f027b21-4c3a-4e9d-9e74-6510414fd9e2",
   "metadata": {},
   "outputs": [
    {
     "data": {
      "text/plain": [
       "4.0449665556126515"
      ]
     },
     "execution_count": 36,
     "metadata": {},
     "output_type": "execute_result"
    }
   ],
   "source": [
    "mean_absolute_error(pred_df['Test Y'], pred_df['Model Predictions'])"
   ]
  },
  {
   "cell_type": "code",
   "execution_count": 37,
   "id": "e4529180-61f0-4b83-89a5-62bf754dfc7e",
   "metadata": {},
   "outputs": [
    {
     "data": {
      "text/plain": [
       "25.311384248798767"
      ]
     },
     "execution_count": 37,
     "metadata": {},
     "output_type": "execute_result"
    }
   ],
   "source": [
    "mean_squared_error(pred_df['Test Y'], pred_df['Model Predictions'])"
   ]
  },
  {
   "cell_type": "code",
   "execution_count": 38,
   "id": "2782c34d-e0ab-4170-b6b6-50cd94d9d529",
   "metadata": {},
   "outputs": [
    {
     "data": {
      "text/plain": [
       "25.31138038635254"
      ]
     },
     "execution_count": 38,
     "metadata": {},
     "output_type": "execute_result"
    }
   ],
   "source": [
    "# Essentially the same thing, difference just due to precision\n",
    "test_score"
   ]
  },
  {
   "cell_type": "code",
   "execution_count": 39,
   "id": "c376531b-9b5c-4ee3-9820-005caa8b770a",
   "metadata": {},
   "outputs": [
    {
     "data": {
      "text/plain": [
       "5.03104168004525"
      ]
     },
     "execution_count": 39,
     "metadata": {},
     "output_type": "execute_result"
    }
   ],
   "source": [
    "# Root Mean Squared Error (RMSE) is the squared root of the mean of the squared errors\n",
    "test_score**0.5"
   ]
  },
  {
   "cell_type": "markdown",
   "id": "c60f1ca9-d169-44b5-a4f7-0db05451036c",
   "metadata": {},
   "source": [
    "## Predicting on Brand New Data\n",
    "\n",
    "What if we just saw a brand new gemstone from the ground? What should we price it at? This is the **exact** same procedure as predicting on a new test data!"
   ]
  },
  {
   "cell_type": "code",
   "execution_count": 40,
   "id": "7f6912a2-9956-44d2-9a1c-3b7a056f0a42",
   "metadata": {},
   "outputs": [],
   "source": [
    "# [[Feature1, Feature2]]\n",
    "new_gem = [[998,1000]]"
   ]
  },
  {
   "cell_type": "code",
   "execution_count": 41,
   "id": "3f8f4250-ca8d-413d-93c0-75c89cc166d5",
   "metadata": {},
   "outputs": [
    {
     "data": {
      "text/plain": [
       "array([[0.14117652, 0.53968792]])"
      ]
     },
     "execution_count": 41,
     "metadata": {},
     "output_type": "execute_result"
    }
   ],
   "source": [
    "# Don't forget to scale!\n",
    "scaler.transform(new_gem)"
   ]
  },
  {
   "cell_type": "code",
   "execution_count": 42,
   "id": "e0bf52ce-60a9-4895-a04c-b7bff982ab61",
   "metadata": {},
   "outputs": [],
   "source": [
    "new_gem = scaler.transform(new_gem)"
   ]
  },
  {
   "cell_type": "code",
   "execution_count": 43,
   "id": "550a5d65-5c55-493a-ae0a-0e8e8a62e549",
   "metadata": {},
   "outputs": [
    {
     "data": {
      "text/plain": [
       "array([[420.03934]], dtype=float32)"
      ]
     },
     "execution_count": 43,
     "metadata": {},
     "output_type": "execute_result"
    }
   ],
   "source": [
    "model.predict(new_gem)"
   ]
  },
  {
   "cell_type": "markdown",
   "id": "ddcfc080-41a9-41e3-beac-7679311a9b64",
   "metadata": {},
   "source": [
    "## Saving and Loading a Model"
   ]
  },
  {
   "cell_type": "code",
   "execution_count": 44,
   "id": "cc28ee66-eb55-4522-a223-c98bad87bf5b",
   "metadata": {},
   "outputs": [],
   "source": [
    "from tensorflow.keras.models import load_model"
   ]
  },
  {
   "cell_type": "code",
   "execution_count": 45,
   "id": "d3f49142-cb7d-45c5-85f3-922be609b7cf",
   "metadata": {},
   "outputs": [],
   "source": [
    "model.save('gem_price_model.h5') # creates a HDF5 file 'gem_price_model.h5'"
   ]
  },
  {
   "cell_type": "code",
   "execution_count": 46,
   "id": "a967f4c1-e373-48fd-834c-d091a458b1b5",
   "metadata": {},
   "outputs": [],
   "source": [
    "later_model = load_model('gem_price_model.h5')"
   ]
  },
  {
   "cell_type": "code",
   "execution_count": 47,
   "id": "6cd376bb-5c66-4621-8c28-8b96901e6637",
   "metadata": {},
   "outputs": [
    {
     "data": {
      "text/plain": [
       "array([[420.03934]], dtype=float32)"
      ]
     },
     "execution_count": 47,
     "metadata": {},
     "output_type": "execute_result"
    }
   ],
   "source": [
    "later_model.predict(new_gem)"
   ]
  }
 ],
 "metadata": {
  "kernelspec": {
   "display_name": "Python 3",
   "language": "python",
   "name": "python3"
  },
  "language_info": {
   "codemirror_mode": {
    "name": "ipython",
    "version": 3
   },
   "file_extension": ".py",
   "mimetype": "text/x-python",
   "name": "python",
   "nbconvert_exporter": "python",
   "pygments_lexer": "ipython3",
   "version": "3.9.7"
  }
 },
 "nbformat": 4,
 "nbformat_minor": 5
}
