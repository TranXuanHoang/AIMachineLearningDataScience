{
 "cells": [
  {
   "cell_type": "markdown",
   "id": "8130fcef-3772-4555-9fac-7f5a8ad301be",
   "metadata": {},
   "source": [
    "# Tensorflow Basics\n",
    "\n",
    "In this notebook, we are going to cover some of the most fundamental concepts of `tensors` using [TensorFlow](https://www.tensorflow.org/).\n",
    "\n",
    "* Introduction to tensors\n",
    "* Getting information from tensors\n",
    "* Manipulating tensors\n",
    "* Tensors & Numpy\n",
    "* Using `@tf.function` (a way to speed up regular Python functions)\n",
    "* Using GPUs with TensorFlow (or TPUs) to do faster numerical computing"
   ]
  },
  {
   "cell_type": "code",
   "execution_count": 1,
   "id": "efca452f-6082-47d5-b683-9ed028b9ebd5",
   "metadata": {},
   "outputs": [],
   "source": [
    "import tensorflow as tf"
   ]
  },
  {
   "cell_type": "code",
   "execution_count": 2,
   "id": "6c16b402-cd86-4624-abfc-6831b520e589",
   "metadata": {},
   "outputs": [
    {
     "data": {
      "text/plain": [
       "'2.6.0'"
      ]
     },
     "execution_count": 2,
     "metadata": {},
     "output_type": "execute_result"
    }
   ],
   "source": [
    "tf.__version__"
   ]
  },
  {
   "cell_type": "markdown",
   "id": "0d8307f9-66d1-4fe6-85b5-95099f151dd5",
   "metadata": {},
   "source": [
    "## Introduction to [Tensors](https://www.tensorflow.org/guide/tensor)"
   ]
  },
  {
   "cell_type": "markdown",
   "id": "d64525d6-69a1-42c0-86d1-dde0bbf525aa",
   "metadata": {},
   "source": [
    "### Constants\n",
    "\n",
    "Let's show how to create simple constants with Tensorflow, which TF stores as tensor objects."
   ]
  },
  {
   "cell_type": "markdown",
   "id": "09e23655-0541-4c4b-bbd4-76876abb25b9",
   "metadata": {},
   "source": [
    "#### Strings"
   ]
  },
  {
   "cell_type": "code",
   "execution_count": 3,
   "id": "bfcda2b7-e3f2-4e1d-a326-d5f3c648bebd",
   "metadata": {},
   "outputs": [
    {
     "data": {
      "text/plain": [
       "<tf.Tensor: shape=(), dtype=string, numpy=b'Hello World'>"
      ]
     },
     "execution_count": 3,
     "metadata": {},
     "output_type": "execute_result"
    }
   ],
   "source": [
    "# Create a constant tensor with a data type of string\n",
    "hello = tf.constant('Hello World')\n",
    "hello"
   ]
  },
  {
   "cell_type": "code",
   "execution_count": 4,
   "id": "82a7b355-6aab-4bc9-af64-cffcd3b7c51d",
   "metadata": {},
   "outputs": [
    {
     "data": {
      "text/plain": [
       "tensorflow.python.framework.ops.EagerTensor"
      ]
     },
     "execution_count": 4,
     "metadata": {},
     "output_type": "execute_result"
    }
   ],
   "source": [
    "type(hello)"
   ]
  },
  {
   "cell_type": "code",
   "execution_count": 5,
   "id": "38a81ef2-86a7-488e-9919-b1ba4276f846",
   "metadata": {},
   "outputs": [
    {
     "data": {
      "text/plain": [
       "0"
      ]
     },
     "execution_count": 5,
     "metadata": {},
     "output_type": "execute_result"
    }
   ],
   "source": [
    "# Check the number of dimensions of a string constant tensor\n",
    "hello.ndim"
   ]
  },
  {
   "cell_type": "markdown",
   "id": "9a014f8a-e115-4588-9132-d2392663c0fe",
   "metadata": {},
   "source": [
    "#### Integers"
   ]
  },
  {
   "cell_type": "code",
   "execution_count": 6,
   "id": "6f76b0f6-15cf-430e-8a12-e5e5b40d4d3c",
   "metadata": {},
   "outputs": [
    {
     "data": {
      "text/plain": [
       "<tf.Tensor: shape=(), dtype=int32, numpy=100>"
      ]
     },
     "execution_count": 6,
     "metadata": {},
     "output_type": "execute_result"
    }
   ],
   "source": [
    "# Create a constant tensor with data type of integer\n",
    "scalar = tf.constant(100)\n",
    "scalar"
   ]
  },
  {
   "cell_type": "code",
   "execution_count": 7,
   "id": "5be48146-8335-40db-8a32-35ae63d38327",
   "metadata": {},
   "outputs": [
    {
     "data": {
      "text/plain": [
       "tensorflow.python.framework.ops.EagerTensor"
      ]
     },
     "execution_count": 7,
     "metadata": {},
     "output_type": "execute_result"
    }
   ],
   "source": [
    "type(scalar)"
   ]
  },
  {
   "cell_type": "code",
   "execution_count": 8,
   "id": "e9bb93ca-1800-4c59-8200-97923d735456",
   "metadata": {},
   "outputs": [
    {
     "data": {
      "text/plain": [
       "0"
      ]
     },
     "execution_count": 8,
     "metadata": {},
     "output_type": "execute_result"
    }
   ],
   "source": [
    "# Check the number of dimensions of an integer constant tensor\n",
    "scalar.ndim"
   ]
  },
  {
   "cell_type": "markdown",
   "id": "aa520b4e-827e-467b-b112-72834673b14b",
   "metadata": {},
   "source": [
    "#### Vectors"
   ]
  },
  {
   "cell_type": "code",
   "execution_count": 9,
   "id": "c8ca0edd-5e0d-4e55-83f1-51d8c164cbb3",
   "metadata": {},
   "outputs": [
    {
     "data": {
      "text/plain": [
       "<tf.Tensor: shape=(4,), dtype=int32, numpy=array([1, 2, 3, 4])>"
      ]
     },
     "execution_count": 9,
     "metadata": {},
     "output_type": "execute_result"
    }
   ],
   "source": [
    "vector = tf.constant([1, 2, 3, 4])\n",
    "vector"
   ]
  },
  {
   "cell_type": "code",
   "execution_count": 10,
   "id": "0ee7987a-bc94-4743-aba1-edcd817f9fed",
   "metadata": {},
   "outputs": [
    {
     "data": {
      "text/plain": [
       "tensorflow.python.framework.ops.EagerTensor"
      ]
     },
     "execution_count": 10,
     "metadata": {},
     "output_type": "execute_result"
    }
   ],
   "source": [
    "type(vector)"
   ]
  },
  {
   "cell_type": "code",
   "execution_count": 11,
   "id": "1ee24f7a-cb20-4c16-95d8-c8aa317ead8f",
   "metadata": {},
   "outputs": [
    {
     "data": {
      "text/plain": [
       "1"
      ]
     },
     "execution_count": 11,
     "metadata": {},
     "output_type": "execute_result"
    }
   ],
   "source": [
    "vector.ndim"
   ]
  },
  {
   "cell_type": "markdown",
   "id": "5b07fa96-05d2-4c13-9513-67e57ed45712",
   "metadata": {},
   "source": [
    "#### Matrix (has nore than 1 dimension)"
   ]
  },
  {
   "cell_type": "code",
   "execution_count": 12,
   "id": "5e78983d-325e-4933-b14e-5d458c4aeea6",
   "metadata": {},
   "outputs": [
    {
     "data": {
      "text/plain": [
       "<tf.Tensor: shape=(2, 3), dtype=int32, numpy=\n",
       "array([[1, 2, 3],\n",
       "       [4, 5, 6]])>"
      ]
     },
     "execution_count": 12,
     "metadata": {},
     "output_type": "execute_result"
    }
   ],
   "source": [
    "matrix = tf.constant([\n",
    "    [1, 2, 3],\n",
    "    [4, 5, 6]\n",
    "])\n",
    "matrix"
   ]
  },
  {
   "cell_type": "code",
   "execution_count": 13,
   "id": "e6cd1478-3fc0-45f9-a886-147e2184bb9b",
   "metadata": {},
   "outputs": [
    {
     "data": {
      "text/plain": [
       "tensorflow.python.framework.ops.EagerTensor"
      ]
     },
     "execution_count": 13,
     "metadata": {},
     "output_type": "execute_result"
    }
   ],
   "source": [
    "type(matrix)"
   ]
  },
  {
   "cell_type": "code",
   "execution_count": 14,
   "id": "b88d73bd-7a18-4c0f-9b7f-78a3a91320e1",
   "metadata": {},
   "outputs": [
    {
     "data": {
      "text/plain": [
       "2"
      ]
     },
     "execution_count": 14,
     "metadata": {},
     "output_type": "execute_result"
    }
   ],
   "source": [
    "matrix.ndim"
   ]
  },
  {
   "cell_type": "code",
   "execution_count": 15,
   "id": "1eda1ece-924b-4de1-a3b3-15b038da9e43",
   "metadata": {},
   "outputs": [
    {
     "data": {
      "text/plain": [
       "<tf.Tensor: shape=(3, 3), dtype=float16, numpy=\n",
       "array([[ 1.2,  2.3,  3.4],\n",
       "       [ 6. ,  7. ,  8. ],\n",
       "       [ 9. , 10. , 11. ]], dtype=float16)>"
      ]
     },
     "execution_count": 15,
     "metadata": {},
     "output_type": "execute_result"
    }
   ],
   "source": [
    "# Create another matrix while specifying data type\n",
    "another_matrix = tf.constant(\n",
    "    [\n",
    "        [1.2, 2.3, 3.4],\n",
    "        [6., 7., 8.],\n",
    "        [9, 10, 11]\n",
    "    ],\n",
    "    dtype=tf.float16 # Specify the data type with dtype parameter\n",
    ")\n",
    "another_matrix"
   ]
  },
  {
   "cell_type": "code",
   "execution_count": 16,
   "id": "edcc82ee-bde7-40c0-818b-b01886787491",
   "metadata": {},
   "outputs": [
    {
     "data": {
      "text/plain": [
       "tensorflow.python.framework.ops.EagerTensor"
      ]
     },
     "execution_count": 16,
     "metadata": {},
     "output_type": "execute_result"
    }
   ],
   "source": [
    "type(another_matrix)"
   ]
  },
  {
   "cell_type": "code",
   "execution_count": 17,
   "id": "c1a9cd8d-825e-45ca-a7b3-d85e2ec81f18",
   "metadata": {},
   "outputs": [
    {
     "data": {
      "text/plain": [
       "2"
      ]
     },
     "execution_count": 17,
     "metadata": {},
     "output_type": "execute_result"
    }
   ],
   "source": [
    "another_matrix.ndim"
   ]
  },
  {
   "cell_type": "markdown",
   "id": "f036643a-9b14-4675-a6d4-4c2cc19aa1fb",
   "metadata": {},
   "source": [
    "#### Multi-Axis Tensors (multi-dimension numerical arrays)\n",
    "\n",
    "Tensors may have more than 2 axes."
   ]
  },
  {
   "cell_type": "code",
   "execution_count": 18,
   "id": "5f87c8ff-e533-430b-87b5-246c8bebeb4b",
   "metadata": {},
   "outputs": [
    {
     "data": {
      "text/plain": [
       "<tf.Tensor: shape=(2, 2, 5), dtype=int32, numpy=\n",
       "array([[[ 0,  1,  2,  3,  4],\n",
       "        [ 5,  6,  7,  8,  9]],\n",
       "\n",
       "       [[10, 11, 12, 13, 14],\n",
       "        [15, 16, 17, 18, 19]]])>"
      ]
     },
     "execution_count": 18,
     "metadata": {},
     "output_type": "execute_result"
    }
   ],
   "source": [
    "# Create a 3-dim tensor (also called rank-3 tensor, or 3-axis tensor)\n",
    "rank_3_tensor = tf.constant([\n",
    "    [\n",
    "        [0, 1, 2, 3, 4],\n",
    "        [5, 6, 7, 8, 9]\n",
    "    ],\n",
    "    [\n",
    "        [10, 11, 12, 13, 14],\n",
    "        [15, 16, 17, 18, 19]\n",
    "    ],\n",
    "])\n",
    "rank_3_tensor"
   ]
  },
  {
   "cell_type": "code",
   "execution_count": 19,
   "id": "0e023987-e147-4696-b222-44930cdff331",
   "metadata": {},
   "outputs": [
    {
     "data": {
      "text/plain": [
       "tensorflow.python.framework.ops.EagerTensor"
      ]
     },
     "execution_count": 19,
     "metadata": {},
     "output_type": "execute_result"
    }
   ],
   "source": [
    "type(rank_3_tensor)"
   ]
  },
  {
   "cell_type": "code",
   "execution_count": 20,
   "id": "531f7357-e0c5-4a42-acbf-9158e7682a8f",
   "metadata": {},
   "outputs": [
    {
     "data": {
      "text/plain": [
       "3"
      ]
     },
     "execution_count": 20,
     "metadata": {},
     "output_type": "execute_result"
    }
   ],
   "source": [
    "rank_3_tensor.ndim"
   ]
  },
  {
   "cell_type": "markdown",
   "id": "061717f0-1cf1-4ae2-acb1-25e9cf7f3fe9",
   "metadata": {},
   "source": [
    "<font color=magenta>\n",
    "Summary:\n",
    "\n",
    "* Scalar: a single number\n",
    "* Vector: a 1-dimensional array of numbers\n",
    "* Matrix: a 2-dimensional array of numbers\n",
    "* Tensor: an `n-dimensional` array of numbers (where `n` can be any numbers `0`, `1`, `2`, `3`, ...)\n",
    "</font>"
   ]
  },
  {
   "cell_type": "markdown",
   "id": "fc6bd22f-117e-40e1-95cc-98bceffd63bb",
   "metadata": {},
   "source": [
    "### Variables\n",
    "\n",
    "[TensorFlow variables](https://www.tensorflow.org/guide/variable) are defined via the [tf.Variable](https://www.tensorflow.org/api_docs/python/tf/Variable) class and are normally used to save state data for program manipulates."
   ]
  },
  {
   "cell_type": "markdown",
   "id": "42f1e0cf-9bb8-4447-a286-26def45bc727",
   "metadata": {},
   "source": [
    "#### Integers"
   ]
  },
  {
   "cell_type": "code",
   "execution_count": 21,
   "id": "65841236-4682-4afe-b9ba-9f58c2d0fc60",
   "metadata": {},
   "outputs": [
    {
     "data": {
      "text/plain": [
       "<tf.Variable 'Variable:0' shape=() dtype=int32, numpy=1>"
      ]
     },
     "execution_count": 21,
     "metadata": {},
     "output_type": "execute_result"
    }
   ],
   "source": [
    "# Create a variable holding integers\n",
    "int_var = tf.Variable(1)\n",
    "int_var"
   ]
  },
  {
   "cell_type": "code",
   "execution_count": 22,
   "id": "f54a6beb-c10e-4610-863b-cb6d5dac51f4",
   "metadata": {},
   "outputs": [
    {
     "name": "stdout",
     "output_type": "stream",
     "text": [
      "Shape: ()\n",
      "DType: <dtype: 'int32'>\n",
      "As NumPy: 1\n"
     ]
    }
   ],
   "source": [
    "# Print out basic information of the newly created variable\n",
    "print('Shape:', int_var.shape)\n",
    "print('DType:', int_var.dtype)\n",
    "print('As NumPy:', int_var.numpy())"
   ]
  },
  {
   "cell_type": "code",
   "execution_count": 23,
   "id": "577b310f-357c-4b87-b873-84ad7944f3f4",
   "metadata": {},
   "outputs": [
    {
     "data": {
      "text/plain": [
       "<tf.Variable 'Variable:0' shape=() dtype=int32, numpy=2>"
      ]
     },
     "execution_count": 23,
     "metadata": {},
     "output_type": "execute_result"
    }
   ],
   "source": [
    "# Change value of the variable (wrong way)\n",
    "# We must not directly assign values to a TensorFlow variable\n",
    "# like `int_var = 2`, because this will change its data type to int\n",
    "# Instead, use the tf.Variable.assign() method to assign a new value\n",
    "int_var.assign(2)\n",
    "int_var"
   ]
  },
  {
   "cell_type": "markdown",
   "id": "24336d9d-12a4-4dcd-92ab-bb8e92b5bd0e",
   "metadata": {},
   "source": [
    "#### Vectors"
   ]
  },
  {
   "cell_type": "code",
   "execution_count": 24,
   "id": "323f16ab-a970-4343-8e7f-34f1da7f770e",
   "metadata": {},
   "outputs": [
    {
     "data": {
      "text/plain": [
       "<tf.Variable 'Variable:0' shape=(5,) dtype=bool, numpy=array([ True, False,  True,  True, False])>"
      ]
     },
     "execution_count": 24,
     "metadata": {},
     "output_type": "execute_result"
    }
   ],
   "source": [
    "# Define a variable containing a vector of boolean values\n",
    "bool_var = tf.Variable([True, False, True, True, False])\n",
    "bool_var"
   ]
  },
  {
   "cell_type": "code",
   "execution_count": 25,
   "id": "d4200065-c1e5-4115-8f3e-adbf7b2f13bd",
   "metadata": {},
   "outputs": [
    {
     "data": {
      "text/plain": [
       "<tf.Tensor: shape=(5,), dtype=bool, numpy=array([ True, False,  True,  True, False])>"
      ]
     },
     "execution_count": 25,
     "metadata": {},
     "output_type": "execute_result"
    }
   ],
   "source": [
    "# Get the value of the variable\n",
    "bool_var.value()"
   ]
  },
  {
   "cell_type": "code",
   "execution_count": 26,
   "id": "56bb8827-f334-4de5-834f-0580c98864de",
   "metadata": {},
   "outputs": [
    {
     "data": {
      "text/plain": [
       "<tf.Variable 'Variable:0' shape=(4,) dtype=float32, numpy=array([1., 2., 3., 4.], dtype=float32)>"
      ]
     },
     "execution_count": 26,
     "metadata": {},
     "output_type": "execute_result"
    }
   ],
   "source": [
    "# Define a variable saving a vector of floats\n",
    "float_var = tf.Variable([1., 2., 3., 4.])\n",
    "float_var"
   ]
  },
  {
   "cell_type": "code",
   "execution_count": 27,
   "id": "377c8d04-133f-4447-9eff-808e30c373e3",
   "metadata": {},
   "outputs": [
    {
     "data": {
      "text/plain": [
       "<tf.Tensor: shape=(), dtype=float32, numpy=2.0>"
      ]
     },
     "execution_count": 27,
     "metadata": {},
     "output_type": "execute_result"
    }
   ],
   "source": [
    "# Access value of the second element in the float vector\n",
    "float_var[1]"
   ]
  },
  {
   "cell_type": "code",
   "execution_count": 28,
   "id": "eee7387b-2de5-4cfc-b5f2-60980b582448",
   "metadata": {},
   "outputs": [
    {
     "data": {
      "text/plain": [
       "<tf.Variable 'Variable:0' shape=(4,) dtype=float32, numpy=array([1., 9., 3., 4.], dtype=float32)>"
      ]
     },
     "execution_count": 28,
     "metadata": {},
     "output_type": "execute_result"
    }
   ],
   "source": [
    "# Change the value of the second element in the float vector\n",
    "float_var[1].assign(9.)\n",
    "float_var"
   ]
  },
  {
   "cell_type": "code",
   "execution_count": 29,
   "id": "0c73f3a1-c6f4-4b0b-bbb9-32a843aa0710",
   "metadata": {},
   "outputs": [
    {
     "data": {
      "text/plain": [
       "<tf.Tensor: shape=(4,), dtype=float32, numpy=array([1., 9., 3., 4.], dtype=float32)>"
      ]
     },
     "execution_count": 29,
     "metadata": {},
     "output_type": "execute_result"
    }
   ],
   "source": [
    "# Convert a variable to a tensor\n",
    "tf.convert_to_tensor(float_var)"
   ]
  },
  {
   "cell_type": "code",
   "execution_count": 30,
   "id": "f05cdce6-8c3a-4dec-a6dc-a0caae3fd5d5",
   "metadata": {},
   "outputs": [
    {
     "data": {
      "text/plain": [
       "<tf.Tensor: shape=(), dtype=int64, numpy=1>"
      ]
     },
     "execution_count": 30,
     "metadata": {},
     "output_type": "execute_result"
    }
   ],
   "source": [
    "# Find the index of the highest value\n",
    "tf.argmax(float_var)"
   ]
  },
  {
   "cell_type": "code",
   "execution_count": 31,
   "id": "3ae6d31d-5d0e-43ed-a0ee-f459d80f92fb",
   "metadata": {},
   "outputs": [
    {
     "data": {
      "text/plain": [
       "<tf.Tensor: shape=(2, 2), dtype=float32, numpy=\n",
       "array([[1., 9.],\n",
       "       [3., 4.]], dtype=float32)>"
      ]
     },
     "execution_count": 31,
     "metadata": {},
     "output_type": "execute_result"
    }
   ],
   "source": [
    "# Create a new tensor by copying and reshaping the original variable\n",
    "float_tensor = tf.reshape(float_var, [2, 2])\n",
    "float_tensor"
   ]
  },
  {
   "cell_type": "code",
   "execution_count": 32,
   "id": "d098b486-f946-45c5-aecd-63bfa159253e",
   "metadata": {},
   "outputs": [
    {
     "name": "stdout",
     "output_type": "stream",
     "text": [
      "(4,)\n"
     ]
    },
    {
     "data": {
      "text/plain": [
       "<tf.Variable 'Variable:0' shape=(4,) dtype=float32, numpy=array([1., 9., 3., 4.], dtype=float32)>"
      ]
     },
     "execution_count": 32,
     "metadata": {},
     "output_type": "execute_result"
    }
   ],
   "source": [
    "# Check that the original variable's shape doesn't change\n",
    "print(float_var.shape)\n",
    "float_var"
   ]
  },
  {
   "cell_type": "markdown",
   "id": "f5f3c30b-0db0-4dd4-ac84-e190c151632e",
   "metadata": {},
   "source": [
    "#### Matrices and Multi-Dimensional Arrays"
   ]
  },
  {
   "cell_type": "code",
   "execution_count": 33,
   "id": "6f6b2297-cb2c-4e17-b8da-0cac9db38d6b",
   "metadata": {},
   "outputs": [
    {
     "data": {
      "text/plain": [
       "<tf.Variable 'Variable:0' shape=(2, 3) dtype=int32, numpy=\n",
       "array([[1, 2, 3],\n",
       "       [4, 5, 6]])>"
      ]
     },
     "execution_count": 33,
     "metadata": {},
     "output_type": "execute_result"
    }
   ],
   "source": [
    "# Create a TensorFlow variable holding a two-dim array of ints\n",
    "matrix_var = tf.Variable([\n",
    "    [1, 2, 3],\n",
    "    [4, 5, 6]\n",
    "])\n",
    "matrix_var"
   ]
  },
  {
   "cell_type": "code",
   "execution_count": 34,
   "id": "babb4c4b-f8da-43bd-8040-af27448dd069",
   "metadata": {},
   "outputs": [
    {
     "data": {
      "text/plain": [
       "<tf.Tensor: shape=(), dtype=int32, numpy=3>"
      ]
     },
     "execution_count": 34,
     "metadata": {},
     "output_type": "execute_result"
    }
   ],
   "source": [
    "# Access value of an element in a 2-dim-array holding TF var\n",
    "matrix_var[0, 2]"
   ]
  },
  {
   "cell_type": "code",
   "execution_count": 35,
   "id": "ddf9ae8e-bead-44b0-b284-1834fcb42f81",
   "metadata": {},
   "outputs": [
    {
     "data": {
      "text/plain": [
       "<tf.Variable 'Variable:0' shape=(2, 2, 3) dtype=int32, numpy=\n",
       "array([[[ 1,  2,  3],\n",
       "        [ 4,  5,  6]],\n",
       "\n",
       "       [[10, 20, 30],\n",
       "        [40, 50, 60]]])>"
      ]
     },
     "execution_count": 35,
     "metadata": {},
     "output_type": "execute_result"
    }
   ],
   "source": [
    "# Create a TensorFlow variable containing a three-dim array of ints\n",
    "three_dim_var = tf.Variable([\n",
    "    [\n",
    "        [1, 2, 3],\n",
    "        [4, 5, 6]\n",
    "    ],\n",
    "    [\n",
    "        [10, 20, 30],\n",
    "        [40, 50, 60]\n",
    "    ],\n",
    "])\n",
    "three_dim_var"
   ]
  },
  {
   "cell_type": "code",
   "execution_count": 36,
   "id": "4cc706f1-99e5-4dd5-97ac-cf038003713a",
   "metadata": {},
   "outputs": [
    {
     "data": {
      "text/plain": [
       "<tf.Tensor: shape=(), dtype=int32, numpy=50>"
      ]
     },
     "execution_count": 36,
     "metadata": {},
     "output_type": "execute_result"
    }
   ],
   "source": [
    "# Access value of one element in a 3-dim-array holding TF var\n",
    "three_dim_var[1][1][1]"
   ]
  },
  {
   "cell_type": "markdown",
   "id": "eb6c744b-8796-4129-aa0c-8e817d122e2e",
   "metadata": {},
   "source": [
    "#### Operatios\n",
    "\n",
    "Each tensofFlow variable is actually backed by a [tf.Tensor](https://www.tensorflow.org/api_docs/python/tf/Tensor) and most tensor operations work on variables."
   ]
  },
  {
   "cell_type": "code",
   "execution_count": 37,
   "id": "e48e4c2d-04ed-4601-b81b-7f364b4cda63",
   "metadata": {},
   "outputs": [
    {
     "data": {
      "text/plain": [
       "(<tf.Variable 'Variable:0' shape=(2, 3) dtype=int32, numpy=\n",
       " array([[1, 2, 3],\n",
       "        [4, 5, 6]])>,\n",
       " <tf.Variable 'Variable:0' shape=(2, 3) dtype=int32, numpy=\n",
       " array([[10, 20, 30],\n",
       "        [40, 50, 60]])>)"
      ]
     },
     "execution_count": 37,
     "metadata": {},
     "output_type": "execute_result"
    }
   ],
   "source": [
    "# Define two TF variables\n",
    "a = tf.Variable([\n",
    "    [1, 2, 3],\n",
    "    [4, 5, 6]\n",
    "])\n",
    "\n",
    "b = tf.Variable([\n",
    "    [10, 20, 30],\n",
    "    [40, 50, 60]\n",
    "])\n",
    "\n",
    "a, b"
   ]
  },
  {
   "cell_type": "code",
   "execution_count": 38,
   "id": "0a27f91b-b66d-48b2-be18-bacc3f074f25",
   "metadata": {},
   "outputs": [
    {
     "data": {
      "text/plain": [
       "<tf.Tensor: shape=(2, 3), dtype=int32, numpy=\n",
       "array([[11, 22, 33],\n",
       "       [44, 55, 66]])>"
      ]
     },
     "execution_count": 38,
     "metadata": {},
     "output_type": "execute_result"
    }
   ],
   "source": [
    "# Add two variables\n",
    "a + b"
   ]
  },
  {
   "cell_type": "code",
   "execution_count": 39,
   "id": "631eca25-6c1e-4c23-87ac-89478d045945",
   "metadata": {},
   "outputs": [
    {
     "data": {
      "text/plain": [
       "<tf.Tensor: shape=(2, 3), dtype=int32, numpy=\n",
       "array([[ 9, 18, 27],\n",
       "       [36, 45, 54]])>"
      ]
     },
     "execution_count": 39,
     "metadata": {},
     "output_type": "execute_result"
    }
   ],
   "source": [
    "# Sub two variables\n",
    "b - a"
   ]
  },
  {
   "cell_type": "code",
   "execution_count": 40,
   "id": "ea34a002-f60a-4206-8576-9abc78e9c3ae",
   "metadata": {},
   "outputs": [
    {
     "data": {
      "text/plain": [
       "<tf.Tensor: shape=(2, 3), dtype=int32, numpy=\n",
       "array([[ 10,  40,  90],\n",
       "       [160, 250, 360]])>"
      ]
     },
     "execution_count": 40,
     "metadata": {},
     "output_type": "execute_result"
    }
   ],
   "source": [
    "# Mul two variables\n",
    "a * b"
   ]
  },
  {
   "cell_type": "code",
   "execution_count": 41,
   "id": "082e7649-3779-4964-9d46-695bb3439d62",
   "metadata": {},
   "outputs": [
    {
     "data": {
      "text/plain": [
       "<tf.Tensor: shape=(2, 3), dtype=int32, numpy=\n",
       "array([[ 2,  4,  6],\n",
       "       [ 8, 10, 12]])>"
      ]
     },
     "execution_count": 41,
     "metadata": {},
     "output_type": "execute_result"
    }
   ],
   "source": [
    "# Multiply a variable with a constant\n",
    "a * 2"
   ]
  },
  {
   "cell_type": "code",
   "execution_count": 42,
   "id": "dc788867-464d-423b-9acc-99d9756109b2",
   "metadata": {},
   "outputs": [
    {
     "data": {
      "text/plain": [
       "<tf.Tensor: shape=(2, 3), dtype=float64, numpy=\n",
       "array([[10., 10., 10.],\n",
       "       [10., 10., 10.]])>"
      ]
     },
     "execution_count": 42,
     "metadata": {},
     "output_type": "execute_result"
    }
   ],
   "source": [
    "# Div two variables\n",
    "b / a"
   ]
  },
  {
   "cell_type": "code",
   "execution_count": 43,
   "id": "91b78e62-3874-44ef-88cb-02158abf74e5",
   "metadata": {},
   "outputs": [
    {
     "name": "stdout",
     "output_type": "stream",
     "text": [
      "<tf.Variable 'Variable:0' shape=(2, 3) dtype=int32, numpy=\n",
      "array([[1, 2, 3],\n",
      "       [4, 5, 6]])>\n",
      "<tf.Variable 'Variable:0' shape=(2, 3) dtype=int32, numpy=\n",
      "array([[ 2,  4,  6],\n",
      "       [ 8, 10, 12]])>\n"
     ]
    },
    {
     "data": {
      "text/plain": [
       "<tf.Variable 'Variable:0' shape=(2, 3) dtype=int32, numpy=\n",
       "array([[ 4,  8, 12],\n",
       "       [16, 20, 24]])>"
      ]
     },
     "execution_count": 43,
     "metadata": {},
     "output_type": "execute_result"
    }
   ],
   "source": [
    "# Define a new variable based on the value of another variable\n",
    "c = tf.Variable(a)\n",
    "print(c)\n",
    "\n",
    "# Then assign c to the sum of its current value with the value of a\n",
    "c.assign_add(a)\n",
    "print(c)\n",
    "\n",
    "# Then multiply c by 2\n",
    "c.assign(c.numpy() * 2)\n",
    "c"
   ]
  }
 ],
 "metadata": {
  "kernelspec": {
   "display_name": "Python 3",
   "language": "python",
   "name": "python3"
  },
  "language_info": {
   "codemirror_mode": {
    "name": "ipython",
    "version": 3
   },
   "file_extension": ".py",
   "mimetype": "text/x-python",
   "name": "python",
   "nbconvert_exporter": "python",
   "pygments_lexer": "ipython3",
   "version": "3.9.7"
  }
 },
 "nbformat": 4,
 "nbformat_minor": 5
}
