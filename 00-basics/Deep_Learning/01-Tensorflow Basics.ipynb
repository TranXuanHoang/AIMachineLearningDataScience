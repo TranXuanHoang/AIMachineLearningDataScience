{
 "cells": [
  {
   "cell_type": "markdown",
   "id": "8130fcef-3772-4555-9fac-7f5a8ad301be",
   "metadata": {},
   "source": [
    "# Tensorflow Basics\n",
    "\n",
    "In this notebook, we are going to cover some of the most fundamental concepts of `tensors` using [TensorFlow](https://www.tensorflow.org/).\n",
    "\n",
    "* Introduction to tensors\n",
    "* Getting information from tensors\n",
    "* Manipulating tensors\n",
    "* Tensors & Numpy\n",
    "* Using `@tf.function` (a way to speed up regular Python functions)\n",
    "* Using GPUs with TensorFlow (or TPUs) to do faster numerical computing"
   ]
  },
  {
   "cell_type": "code",
   "execution_count": 1,
   "id": "efca452f-6082-47d5-b683-9ed028b9ebd5",
   "metadata": {},
   "outputs": [],
   "source": [
    "import tensorflow as tf"
   ]
  },
  {
   "cell_type": "code",
   "execution_count": 2,
   "id": "6c16b402-cd86-4624-abfc-6831b520e589",
   "metadata": {},
   "outputs": [
    {
     "data": {
      "text/plain": [
       "'2.6.0'"
      ]
     },
     "execution_count": 2,
     "metadata": {},
     "output_type": "execute_result"
    }
   ],
   "source": [
    "tf.__version__"
   ]
  },
  {
   "cell_type": "markdown",
   "id": "0d8307f9-66d1-4fe6-85b5-95099f151dd5",
   "metadata": {},
   "source": [
    "## Introduction to [Tensors](https://www.tensorflow.org/guide/tensor)"
   ]
  },
  {
   "cell_type": "markdown",
   "id": "d64525d6-69a1-42c0-86d1-dde0bbf525aa",
   "metadata": {},
   "source": [
    "### Constants\n",
    "\n",
    "Let's show how to create simple constants with Tensorflow, which TF stores as tensor objects."
   ]
  },
  {
   "cell_type": "markdown",
   "id": "09e23655-0541-4c4b-bbd4-76876abb25b9",
   "metadata": {},
   "source": [
    "#### Strings"
   ]
  },
  {
   "cell_type": "code",
   "execution_count": 3,
   "id": "bfcda2b7-e3f2-4e1d-a326-d5f3c648bebd",
   "metadata": {},
   "outputs": [
    {
     "data": {
      "text/plain": [
       "<tf.Tensor: shape=(), dtype=string, numpy=b'Hello World'>"
      ]
     },
     "execution_count": 3,
     "metadata": {},
     "output_type": "execute_result"
    }
   ],
   "source": [
    "# Create a constant tensor with a data type of string\n",
    "hello = tf.constant('Hello World')\n",
    "hello"
   ]
  },
  {
   "cell_type": "code",
   "execution_count": 4,
   "id": "82a7b355-6aab-4bc9-af64-cffcd3b7c51d",
   "metadata": {},
   "outputs": [
    {
     "data": {
      "text/plain": [
       "tensorflow.python.framework.ops.EagerTensor"
      ]
     },
     "execution_count": 4,
     "metadata": {},
     "output_type": "execute_result"
    }
   ],
   "source": [
    "type(hello)"
   ]
  },
  {
   "cell_type": "code",
   "execution_count": 5,
   "id": "38a81ef2-86a7-488e-9919-b1ba4276f846",
   "metadata": {},
   "outputs": [
    {
     "data": {
      "text/plain": [
       "0"
      ]
     },
     "execution_count": 5,
     "metadata": {},
     "output_type": "execute_result"
    }
   ],
   "source": [
    "# Check the number of dimensions of a string constant tensor\n",
    "hello.ndim"
   ]
  },
  {
   "cell_type": "markdown",
   "id": "9a014f8a-e115-4588-9132-d2392663c0fe",
   "metadata": {},
   "source": [
    "#### Integers"
   ]
  },
  {
   "cell_type": "code",
   "execution_count": 6,
   "id": "6f76b0f6-15cf-430e-8a12-e5e5b40d4d3c",
   "metadata": {},
   "outputs": [
    {
     "data": {
      "text/plain": [
       "<tf.Tensor: shape=(), dtype=int32, numpy=100>"
      ]
     },
     "execution_count": 6,
     "metadata": {},
     "output_type": "execute_result"
    }
   ],
   "source": [
    "# Create a constant tensor with data type of integer\n",
    "scalar = tf.constant(100)\n",
    "scalar"
   ]
  },
  {
   "cell_type": "code",
   "execution_count": 7,
   "id": "5be48146-8335-40db-8a32-35ae63d38327",
   "metadata": {},
   "outputs": [
    {
     "data": {
      "text/plain": [
       "tensorflow.python.framework.ops.EagerTensor"
      ]
     },
     "execution_count": 7,
     "metadata": {},
     "output_type": "execute_result"
    }
   ],
   "source": [
    "type(scalar)"
   ]
  },
  {
   "cell_type": "code",
   "execution_count": 8,
   "id": "e9bb93ca-1800-4c59-8200-97923d735456",
   "metadata": {},
   "outputs": [
    {
     "data": {
      "text/plain": [
       "0"
      ]
     },
     "execution_count": 8,
     "metadata": {},
     "output_type": "execute_result"
    }
   ],
   "source": [
    "# Check the number of dimensions of an integer constant tensor\n",
    "scalar.ndim"
   ]
  },
  {
   "cell_type": "markdown",
   "id": "aa520b4e-827e-467b-b112-72834673b14b",
   "metadata": {},
   "source": [
    "#### Vectors"
   ]
  },
  {
   "cell_type": "code",
   "execution_count": 9,
   "id": "c8ca0edd-5e0d-4e55-83f1-51d8c164cbb3",
   "metadata": {},
   "outputs": [
    {
     "data": {
      "text/plain": [
       "<tf.Tensor: shape=(4,), dtype=int32, numpy=array([1, 2, 3, 4])>"
      ]
     },
     "execution_count": 9,
     "metadata": {},
     "output_type": "execute_result"
    }
   ],
   "source": [
    "vector = tf.constant([1, 2, 3, 4])\n",
    "vector"
   ]
  },
  {
   "cell_type": "code",
   "execution_count": 10,
   "id": "0ee7987a-bc94-4743-aba1-edcd817f9fed",
   "metadata": {},
   "outputs": [
    {
     "data": {
      "text/plain": [
       "tensorflow.python.framework.ops.EagerTensor"
      ]
     },
     "execution_count": 10,
     "metadata": {},
     "output_type": "execute_result"
    }
   ],
   "source": [
    "type(vector)"
   ]
  },
  {
   "cell_type": "code",
   "execution_count": 11,
   "id": "1ee24f7a-cb20-4c16-95d8-c8aa317ead8f",
   "metadata": {},
   "outputs": [
    {
     "data": {
      "text/plain": [
       "1"
      ]
     },
     "execution_count": 11,
     "metadata": {},
     "output_type": "execute_result"
    }
   ],
   "source": [
    "vector.ndim"
   ]
  },
  {
   "cell_type": "markdown",
   "id": "5b07fa96-05d2-4c13-9513-67e57ed45712",
   "metadata": {},
   "source": [
    "#### Matrix (has nore than 1 dimension)"
   ]
  },
  {
   "cell_type": "code",
   "execution_count": 12,
   "id": "5e78983d-325e-4933-b14e-5d458c4aeea6",
   "metadata": {},
   "outputs": [
    {
     "data": {
      "text/plain": [
       "<tf.Tensor: shape=(2, 3), dtype=int32, numpy=\n",
       "array([[1, 2, 3],\n",
       "       [4, 5, 6]])>"
      ]
     },
     "execution_count": 12,
     "metadata": {},
     "output_type": "execute_result"
    }
   ],
   "source": [
    "matrix = tf.constant([\n",
    "    [1, 2, 3],\n",
    "    [4, 5, 6]\n",
    "])\n",
    "matrix"
   ]
  },
  {
   "cell_type": "code",
   "execution_count": 13,
   "id": "e6cd1478-3fc0-45f9-a886-147e2184bb9b",
   "metadata": {},
   "outputs": [
    {
     "data": {
      "text/plain": [
       "tensorflow.python.framework.ops.EagerTensor"
      ]
     },
     "execution_count": 13,
     "metadata": {},
     "output_type": "execute_result"
    }
   ],
   "source": [
    "type(matrix)"
   ]
  },
  {
   "cell_type": "code",
   "execution_count": 14,
   "id": "b88d73bd-7a18-4c0f-9b7f-78a3a91320e1",
   "metadata": {},
   "outputs": [
    {
     "data": {
      "text/plain": [
       "2"
      ]
     },
     "execution_count": 14,
     "metadata": {},
     "output_type": "execute_result"
    }
   ],
   "source": [
    "matrix.ndim"
   ]
  },
  {
   "cell_type": "code",
   "execution_count": 15,
   "id": "1eda1ece-924b-4de1-a3b3-15b038da9e43",
   "metadata": {},
   "outputs": [
    {
     "data": {
      "text/plain": [
       "<tf.Tensor: shape=(3, 3), dtype=float16, numpy=\n",
       "array([[ 1.2,  2.3,  3.4],\n",
       "       [ 6. ,  7. ,  8. ],\n",
       "       [ 9. , 10. , 11. ]], dtype=float16)>"
      ]
     },
     "execution_count": 15,
     "metadata": {},
     "output_type": "execute_result"
    }
   ],
   "source": [
    "# Create another matrix while specifying data type\n",
    "another_matrix = tf.constant(\n",
    "    [\n",
    "        [1.2, 2.3, 3.4],\n",
    "        [6., 7., 8.],\n",
    "        [9, 10, 11]\n",
    "    ],\n",
    "    dtype=tf.float16 # Specify the data type with dtype parameter\n",
    ")\n",
    "another_matrix"
   ]
  },
  {
   "cell_type": "code",
   "execution_count": 16,
   "id": "edcc82ee-bde7-40c0-818b-b01886787491",
   "metadata": {},
   "outputs": [
    {
     "data": {
      "text/plain": [
       "tensorflow.python.framework.ops.EagerTensor"
      ]
     },
     "execution_count": 16,
     "metadata": {},
     "output_type": "execute_result"
    }
   ],
   "source": [
    "type(another_matrix)"
   ]
  },
  {
   "cell_type": "code",
   "execution_count": 17,
   "id": "c1a9cd8d-825e-45ca-a7b3-d85e2ec81f18",
   "metadata": {},
   "outputs": [
    {
     "data": {
      "text/plain": [
       "2"
      ]
     },
     "execution_count": 17,
     "metadata": {},
     "output_type": "execute_result"
    }
   ],
   "source": [
    "another_matrix.ndim"
   ]
  },
  {
   "cell_type": "markdown",
   "id": "f036643a-9b14-4675-a6d4-4c2cc19aa1fb",
   "metadata": {},
   "source": [
    "#### Multi-Axis Tensors (multi-dimension numerical arrays)\n",
    "\n",
    "Tensors may have more than 2 axes."
   ]
  },
  {
   "cell_type": "code",
   "execution_count": 18,
   "id": "5f87c8ff-e533-430b-87b5-246c8bebeb4b",
   "metadata": {},
   "outputs": [
    {
     "data": {
      "text/plain": [
       "<tf.Tensor: shape=(2, 2, 5), dtype=int32, numpy=\n",
       "array([[[ 0,  1,  2,  3,  4],\n",
       "        [ 5,  6,  7,  8,  9]],\n",
       "\n",
       "       [[10, 11, 12, 13, 14],\n",
       "        [15, 16, 17, 18, 19]]])>"
      ]
     },
     "execution_count": 18,
     "metadata": {},
     "output_type": "execute_result"
    }
   ],
   "source": [
    "# Create a 3-dim tensor (also called rank-3 tensor, or 3-axis tensor)\n",
    "rank_3_tensor = tf.constant([\n",
    "    [\n",
    "        [0, 1, 2, 3, 4],\n",
    "        [5, 6, 7, 8, 9]\n",
    "    ],\n",
    "    [\n",
    "        [10, 11, 12, 13, 14],\n",
    "        [15, 16, 17, 18, 19]\n",
    "    ],\n",
    "])\n",
    "rank_3_tensor"
   ]
  },
  {
   "cell_type": "code",
   "execution_count": 19,
   "id": "0e023987-e147-4696-b222-44930cdff331",
   "metadata": {},
   "outputs": [
    {
     "data": {
      "text/plain": [
       "tensorflow.python.framework.ops.EagerTensor"
      ]
     },
     "execution_count": 19,
     "metadata": {},
     "output_type": "execute_result"
    }
   ],
   "source": [
    "type(rank_3_tensor)"
   ]
  },
  {
   "cell_type": "code",
   "execution_count": 20,
   "id": "531f7357-e0c5-4a42-acbf-9158e7682a8f",
   "metadata": {},
   "outputs": [
    {
     "data": {
      "text/plain": [
       "3"
      ]
     },
     "execution_count": 20,
     "metadata": {},
     "output_type": "execute_result"
    }
   ],
   "source": [
    "rank_3_tensor.ndim"
   ]
  },
  {
   "cell_type": "markdown",
   "id": "061717f0-1cf1-4ae2-acb1-25e9cf7f3fe9",
   "metadata": {},
   "source": [
    "<font color=magenta>\n",
    "Summary:\n",
    "\n",
    "* Scalar: a single number\n",
    "* Vector: a 1-dimensional array of numbers\n",
    "* Matrix: a 2-dimensional array of numbers\n",
    "* Tensor: an `n-dimensional` array of numbers (where `n` can be any numbers `0`, `1`, `2`, `3`, ...)\n",
    "</font>"
   ]
  }
 ],
 "metadata": {
  "kernelspec": {
   "display_name": "Python 3",
   "language": "python",
   "name": "python3"
  },
  "language_info": {
   "codemirror_mode": {
    "name": "ipython",
    "version": 3
   },
   "file_extension": ".py",
   "mimetype": "text/x-python",
   "name": "python",
   "nbconvert_exporter": "python",
   "pygments_lexer": "ipython3",
   "version": "3.9.7"
  }
 },
 "nbformat": 4,
 "nbformat_minor": 5
}
